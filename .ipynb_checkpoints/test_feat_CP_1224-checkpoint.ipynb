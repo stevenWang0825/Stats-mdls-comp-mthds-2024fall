{
 "cells": [
  {
   "cell_type": "code",
   "execution_count": 3,
   "metadata": {},
   "outputs": [
    {
     "name": "stdout",
     "output_type": "stream",
     "text": [
      "Using device: cuda:0\n"
     ]
    }
   ],
   "source": [
    "import torch\n",
    "import sys\n",
    "import os\n",
    "import pandas as pd\n",
    "import pickle  # 新增：用于保存 .pkl 文件\n",
    "from torch import nn\n",
    "from tqdm import tqdm\n",
    "import random\n",
    "import numpy as np\n",
    "import matplotlib.pyplot as plt\n",
    "import seaborn as sns\n",
    "from argparse import ArgumentParser\n",
    "\n",
    "# 如果在脚本环境下:\n",
    "if \"__file__\" in globals():\n",
    "    main_folder_path = os.path.abspath(os.path.join(os.path.dirname(__file__), \"..\"))\n",
    "else:\n",
    "    # Jupyter Notebook 环境下:\n",
    "    main_folder_path = os.path.abspath(os.path.join(os.getcwd(), \"..\"))\n",
    "\n",
    "sys.path.append(main_folder_path)\n",
    "os.makedirs('pictures', exist_ok=True)\n",
    "\n",
    "from dataloaders.dataloaders import CSVsLoader\n",
    "from algorithms.feature_CP import ConformalPredictionMethods\n",
    "from algorithms.conformal import Conformal\n",
    "\n",
    "parser = ArgumentParser()\n",
    "parser.add_argument('--device', type=str, default='cuda:0', help='device to run the model on')\n",
    "parser.add_argument('--DATASET_LIST', type=str, default=['WQ','CCS','PT','QFT','YH'],\n",
    "                    help='List of all datasets')\n",
    "parser.add_argument('--dataset', type=str, default='WQ', \n",
    "                    help='Specify a single dataset to run')\n",
    "parser.add_argument('--epochs', type=int, default=1000)\n",
    "parser.add_argument('--WQ-epochs', type=int, default=1000)\n",
    "parser.add_argument('--CCS-epochs', type=int, default=1000)\n",
    "parser.add_argument('--PT-epochs', type=int, default=1000)\n",
    "parser.add_argument('--QFT-epochs', type=int, default=1000)\n",
    "parser.add_argument('--YH-epochs', type=int, default=1000)\n",
    "\n",
    "args, unknown = parser.parse_known_args()\n",
    "print(f\"Using device: {args.device}\")"
   ]
  },
  {
   "cell_type": "code",
   "execution_count": 4,
   "metadata": {},
   "outputs": [
    {
     "name": "stdout",
     "output_type": "stream",
     "text": [
      "Testing feature CP on dataset WQ with epochs=1000\n",
      "Loaded full dataset WQ with shape: torch.Size([6497, 11]),torch.Size([6497])\n",
      "Loaded split dataset WQ train shape: torch.Size([3248, 11]) test sizetorch.Size([3249, 11]) \n",
      "setup a MLP regression network structure with [11, 64, 64, 32], dropout prob: 0.2\n",
      "MLP Regressor model setup with input dim: 11\n"
     ]
    },
    {
     "name": "stderr",
     "output_type": "stream",
     "text": [
      "MLP Regression Model Training:   0%|                                                  | 1/1000 [00:00<02:49,  5.88it/s]"
     ]
    },
    {
     "name": "stdout",
     "output_type": "stream",
     "text": [
      "[1] current epoch total loss: 822.2122592926025\n"
     ]
    },
    {
     "name": "stderr",
     "output_type": "stream",
     "text": [
      "MLP Regression Model Training:  17%|████████▏                                       | 171/1000 [00:11<00:55, 14.85it/s]\n"
     ]
    },
    {
     "ename": "KeyboardInterrupt",
     "evalue": "",
     "output_type": "error",
     "traceback": [
      "\u001b[1;31m---------------------------------------------------------------------------\u001b[0m",
      "\u001b[1;31mKeyboardInterrupt\u001b[0m                         Traceback (most recent call last)",
      "Cell \u001b[1;32mIn[4], line 32\u001b[0m\n\u001b[0;32m     30\u001b[0m My_trainer\u001b[38;5;241m.\u001b[39mload_split_data()\n\u001b[0;32m     31\u001b[0m My_trainer\u001b[38;5;241m.\u001b[39mmake_MLP_Regressor()\n\u001b[1;32m---> 32\u001b[0m \u001b[43mMy_trainer\u001b[49m\u001b[38;5;241;43m.\u001b[39;49m\u001b[43mtrain_MLP_Regressor\u001b[49m\u001b[43m(\u001b[49m\u001b[43m)\u001b[49m\n\u001b[0;32m     34\u001b[0m \u001b[38;5;66;03m# 仅在第一轮绘制 loss 曲线并保存\u001b[39;00m\n\u001b[0;32m     35\u001b[0m \u001b[38;5;28;01mif\u001b[39;00m run_idx \u001b[38;5;241m==\u001b[39m \u001b[38;5;241m0\u001b[39m:\n",
      "File \u001b[1;32mD:\\Jupyter Workspace\\statistical_models_computing_methods\\tjjs_final_project_lrj_12-24\\dataloaders\\dataloaders.py:124\u001b[0m, in \u001b[0;36mCSVsLoader.train_MLP_Regressor\u001b[1;34m(self)\u001b[0m\n\u001b[0;32m    122\u001b[0m     loss \u001b[38;5;241m=\u001b[39m \u001b[38;5;28mself\u001b[39m\u001b[38;5;241m.\u001b[39mcriterion(outputs, y_batch)\n\u001b[0;32m    123\u001b[0m     epoch_loss \u001b[38;5;241m+\u001b[39m\u001b[38;5;241m=\u001b[39m loss\u001b[38;5;241m.\u001b[39mitem()\n\u001b[1;32m--> 124\u001b[0m     \u001b[43mloss\u001b[49m\u001b[38;5;241;43m.\u001b[39;49m\u001b[43mbackward\u001b[49m\u001b[43m(\u001b[49m\u001b[43m)\u001b[49m\n\u001b[0;32m    125\u001b[0m     \u001b[38;5;28mself\u001b[39m\u001b[38;5;241m.\u001b[39moptimizer\u001b[38;5;241m.\u001b[39mstep()\n\u001b[0;32m    126\u001b[0m train_loss_logger\u001b[38;5;241m.\u001b[39mappend(epoch_loss)\n",
      "File \u001b[1;32mD:\\Anaconda3\\envs\\torch_one\\lib\\site-packages\\torch\\_tensor.py:487\u001b[0m, in \u001b[0;36mTensor.backward\u001b[1;34m(self, gradient, retain_graph, create_graph, inputs)\u001b[0m\n\u001b[0;32m    477\u001b[0m \u001b[38;5;28;01mif\u001b[39;00m has_torch_function_unary(\u001b[38;5;28mself\u001b[39m):\n\u001b[0;32m    478\u001b[0m     \u001b[38;5;28;01mreturn\u001b[39;00m handle_torch_function(\n\u001b[0;32m    479\u001b[0m         Tensor\u001b[38;5;241m.\u001b[39mbackward,\n\u001b[0;32m    480\u001b[0m         (\u001b[38;5;28mself\u001b[39m,),\n\u001b[1;32m   (...)\u001b[0m\n\u001b[0;32m    485\u001b[0m         inputs\u001b[38;5;241m=\u001b[39minputs,\n\u001b[0;32m    486\u001b[0m     )\n\u001b[1;32m--> 487\u001b[0m \u001b[43mtorch\u001b[49m\u001b[38;5;241;43m.\u001b[39;49m\u001b[43mautograd\u001b[49m\u001b[38;5;241;43m.\u001b[39;49m\u001b[43mbackward\u001b[49m\u001b[43m(\u001b[49m\n\u001b[0;32m    488\u001b[0m \u001b[43m    \u001b[49m\u001b[38;5;28;43mself\u001b[39;49m\u001b[43m,\u001b[49m\u001b[43m \u001b[49m\u001b[43mgradient\u001b[49m\u001b[43m,\u001b[49m\u001b[43m \u001b[49m\u001b[43mretain_graph\u001b[49m\u001b[43m,\u001b[49m\u001b[43m \u001b[49m\u001b[43mcreate_graph\u001b[49m\u001b[43m,\u001b[49m\u001b[43m \u001b[49m\u001b[43minputs\u001b[49m\u001b[38;5;241;43m=\u001b[39;49m\u001b[43minputs\u001b[49m\n\u001b[0;32m    489\u001b[0m \u001b[43m\u001b[49m\u001b[43m)\u001b[49m\n",
      "File \u001b[1;32mD:\\Anaconda3\\envs\\torch_one\\lib\\site-packages\\torch\\autograd\\__init__.py:193\u001b[0m, in \u001b[0;36mbackward\u001b[1;34m(tensors, grad_tensors, retain_graph, create_graph, grad_variables, inputs)\u001b[0m\n\u001b[0;32m    189\u001b[0m inputs \u001b[38;5;241m=\u001b[39m (inputs,) \u001b[38;5;28;01mif\u001b[39;00m \u001b[38;5;28misinstance\u001b[39m(inputs, torch\u001b[38;5;241m.\u001b[39mTensor) \u001b[38;5;28;01melse\u001b[39;00m \\\n\u001b[0;32m    190\u001b[0m     \u001b[38;5;28mtuple\u001b[39m(inputs) \u001b[38;5;28;01mif\u001b[39;00m inputs \u001b[38;5;129;01mis\u001b[39;00m \u001b[38;5;129;01mnot\u001b[39;00m \u001b[38;5;28;01mNone\u001b[39;00m \u001b[38;5;28;01melse\u001b[39;00m \u001b[38;5;28mtuple\u001b[39m()\n\u001b[0;32m    192\u001b[0m grad_tensors_ \u001b[38;5;241m=\u001b[39m _tensor_or_tensors_to_tuple(grad_tensors, \u001b[38;5;28mlen\u001b[39m(tensors))\n\u001b[1;32m--> 193\u001b[0m grad_tensors_ \u001b[38;5;241m=\u001b[39m \u001b[43m_make_grads\u001b[49m\u001b[43m(\u001b[49m\u001b[43mtensors\u001b[49m\u001b[43m,\u001b[49m\u001b[43m \u001b[49m\u001b[43mgrad_tensors_\u001b[49m\u001b[43m,\u001b[49m\u001b[43m \u001b[49m\u001b[43mis_grads_batched\u001b[49m\u001b[38;5;241;43m=\u001b[39;49m\u001b[38;5;28;43;01mFalse\u001b[39;49;00m\u001b[43m)\u001b[49m\n\u001b[0;32m    194\u001b[0m \u001b[38;5;28;01mif\u001b[39;00m retain_graph \u001b[38;5;129;01mis\u001b[39;00m \u001b[38;5;28;01mNone\u001b[39;00m:\n\u001b[0;32m    195\u001b[0m     retain_graph \u001b[38;5;241m=\u001b[39m create_graph\n",
      "File \u001b[1;32mD:\\Anaconda3\\envs\\torch_one\\lib\\site-packages\\torch\\autograd\\__init__.py:89\u001b[0m, in \u001b[0;36m_make_grads\u001b[1;34m(outputs, grads, is_grads_batched)\u001b[0m\n\u001b[0;32m     87\u001b[0m     \u001b[38;5;28;01mif\u001b[39;00m out\u001b[38;5;241m.\u001b[39mnumel() \u001b[38;5;241m!=\u001b[39m \u001b[38;5;241m1\u001b[39m:\n\u001b[0;32m     88\u001b[0m         \u001b[38;5;28;01mraise\u001b[39;00m \u001b[38;5;167;01mRuntimeError\u001b[39;00m(\u001b[38;5;124m\"\u001b[39m\u001b[38;5;124mgrad can be implicitly created only for scalar outputs\u001b[39m\u001b[38;5;124m\"\u001b[39m)\n\u001b[1;32m---> 89\u001b[0m     new_grads\u001b[38;5;241m.\u001b[39mappend(\u001b[43mtorch\u001b[49m\u001b[38;5;241;43m.\u001b[39;49m\u001b[43mones_like\u001b[49m\u001b[43m(\u001b[49m\u001b[43mout\u001b[49m\u001b[43m,\u001b[49m\u001b[43m \u001b[49m\u001b[43mmemory_format\u001b[49m\u001b[38;5;241;43m=\u001b[39;49m\u001b[43mtorch\u001b[49m\u001b[38;5;241;43m.\u001b[39;49m\u001b[43mpreserve_format\u001b[49m\u001b[43m)\u001b[49m)\n\u001b[0;32m     90\u001b[0m \u001b[38;5;28;01melse\u001b[39;00m:\n\u001b[0;32m     91\u001b[0m     new_grads\u001b[38;5;241m.\u001b[39mappend(\u001b[38;5;28;01mNone\u001b[39;00m)\n",
      "\u001b[1;31mKeyboardInterrupt\u001b[0m: "
     ]
    }
   ],
   "source": [
    "# 这里演示遍历所有数据集:\n",
    "for dataset in args.DATASET_LIST:\n",
    "    # 设置 dataset\n",
    "    args.dataset = dataset\n",
    "    \n",
    "    # 针对不同数据集设置 epochs\n",
    "    if dataset in [\"WQ\", \"PT\"]:\n",
    "        args.epochs = 1000\n",
    "    else:\n",
    "        args.epochs = 2000\n",
    "    \n",
    "    print(f\"Testing feature CP on dataset {dataset} with epochs={args.epochs}\")\n",
    "    \n",
    "    # 动态创建结果变量名，例如 'YH_results', 'CCS_results' 等\n",
    "    results_var_name = f\"{dataset}_results\"\n",
    "    globals()[results_var_name] = []  # 在全局命名空间中创建空列表\n",
    "    \n",
    "    # 设置重复次数\n",
    "    repeat = 10\n",
    "    \n",
    "    # 为当前 dataset 创建输出文件夹\n",
    "    result_folder = os.path.join(\"results_run_by_LRJ\", dataset)\n",
    "    os.makedirs(result_folder, exist_ok=True)\n",
    "    \n",
    "    for run_idx in range(repeat):\n",
    "        # 加载数据和模型\n",
    "        My_trainer = CSVsLoader(args)\n",
    "        My_methods = ConformalPredictionMethods()\n",
    "        My_trainer.load_full_data()\n",
    "        My_trainer.load_split_data()\n",
    "        My_trainer.make_MLP_Regressor()\n",
    "        My_trainer.train_MLP_Regressor()\n",
    "        \n",
    "        # 仅在第一轮绘制 loss 曲线并保存\n",
    "        if run_idx == 0:\n",
    "            plt.plot(My_trainer.train_loss_logger, label=\"train loss\")\n",
    "            plt.plot(My_trainer.test_loss_logger, label=\"test loss\")\n",
    "            plt.legend()\n",
    "            plt.title(f\"{dataset}_loss curve\")\n",
    "            loss_fig_path = os.path.join(\"pictures\", f\"{dataset}_loss.png\")\n",
    "            plt.savefig(loss_fig_path)\n",
    "            plt.show()\n",
    "        \n",
    "        # 模型评估\n",
    "        My_trainer.model.eval()\n",
    "        \n",
    "        # 获取特征\n",
    "        u_features = My_trainer.model.feature_func_forward(My_trainer.X00)\n",
    "        y_predictions = My_trainer.model.predictor_head_forward(u_features)\n",
    "        \n",
    "        # 计算绝对误差\n",
    "        abs_error = torch.abs(y_predictions.squeeze(-1) - My_trainer.y00)\n",
    "        \n",
    "        # 计算梯度范数，用于分数 scores\n",
    "        grad = torch.autograd.grad(\n",
    "            y_predictions[0],\n",
    "            u_features,\n",
    "            allow_unused=True,\n",
    "            retain_graph=True\n",
    "        )[0][0]\n",
    "        grad_norm = torch.norm(grad, p=2)\n",
    "        \n",
    "        scores = abs_error / grad_norm\n",
    "        \n",
    "        # 计算加权分位数与带宽\n",
    "        cpmethods = ConformalPredictionMethods()\n",
    "        Q_corrected = cpmethods.weighted_quantile(scores, 0.9, torch.ones_like(scores)) * grad_norm\n",
    "        bandwidth = 2 * Q_corrected\n",
    "        \n",
    "        # 得到模型最终预测\n",
    "        end_to_end_predictions = My_trainer.model(My_trainer.X00)\n",
    "        \n",
    "        # 预测区间\n",
    "        fcp_intervals = torch.concatenate(\n",
    "            [end_to_end_predictions - Q_corrected, end_to_end_predictions + Q_corrected],\n",
    "            dim=-1\n",
    "        )\n",
    "        \n",
    "        # 覆盖率计算\n",
    "        cnt = 0\n",
    "        for i in range(My_trainer.X00.shape[0]):\n",
    "            if (end_to_end_predictions[i] >= fcp_intervals[i, 0]) and \\\n",
    "               (end_to_end_predictions[i] <= fcp_intervals[i, 1]):\n",
    "                cnt += 1\n",
    "        coverage = cnt / My_trainer.X00.shape[0]\n",
    "        \n",
    "        # 保存结果到对应的全局变量 list 中\n",
    "        globals()[results_var_name].append([coverage, bandwidth.cpu().detach().numpy()])\n",
    "    \n",
    "    # 将 coverage/bandwidth 汇总信息保存到 CSV\n",
    "    coverage_vals = [item[0] for item in globals()[results_var_name]]\n",
    "    bandwidth_vals = [item[1] for item in globals()[results_var_name]]\n",
    "    df_results = pd.DataFrame({\n",
    "        'coverage': coverage_vals,\n",
    "        'bandwidth': bandwidth_vals\n",
    "    })\n",
    "    csv_save_path = os.path.join(result_folder, f\"{dataset}_coverage_bandwidth.csv\")\n",
    "    df_results.to_csv(csv_save_path, index=False)\n",
    "    \n",
    "    # 保存 {dataset}_results.pkl\n",
    "    pkl_save_path = os.path.join(result_folder, f\"{dataset}_results.pkl\")\n",
    "    with open(pkl_save_path, 'wb') as f:\n",
    "        pickle.dump(globals()[results_var_name], f)\n",
    "    \n",
    "    print(f\"Finished dataset {dataset}, results saved to: {csv_save_path}\")\n",
    "    print(f\"Also saved {results_var_name} to {pkl_save_path}\")\n",
    "\n",
    "print(\"All done!\")"
   ]
  },
  {
   "cell_type": "code",
   "execution_count": 2,
   "metadata": {},
   "outputs": [
    {
     "name": "stdout",
     "output_type": "stream",
     "text": [
      "Using device: cuda:0\n",
      "Testing feature CP on dataset CCS with epochs=2000\n",
      "Loaded full dataset CCS with shape: torch.Size([1030, 8]),torch.Size([1030])\n",
      "Loaded split dataset CCS train shape: torch.Size([515, 8]) test sizetorch.Size([515, 8]) \n",
      "setup a MLP regression network structure with [8, 64, 64, 32], dropout prob: 0.2\n",
      "MLP Regressor model setup with input dim: 8\n"
     ]
    },
    {
     "name": "stderr",
     "output_type": "stream",
     "text": [
      "MLP Regression Model Training:   1%|          | 11/2000 [00:00<00:19, 104.40it/s]"
     ]
    },
    {
     "name": "stdout",
     "output_type": "stream",
     "text": [
      "[1] current epoch total loss: 7261.217712402344\n"
     ]
    },
    {
     "name": "stderr",
     "output_type": "stream",
     "text": [
      "MLP Regression Model Training:  13%|█▎        | 269/2000 [00:02<00:15, 109.59it/s]"
     ]
    },
    {
     "name": "stdout",
     "output_type": "stream",
     "text": [
      "[251] current epoch total loss: 264.59890365600586\n"
     ]
    },
    {
     "name": "stderr",
     "output_type": "stream",
     "text": [
      "MLP Regression Model Training:  26%|██▌       | 522/2000 [00:04<00:13, 109.30it/s]"
     ]
    },
    {
     "name": "stdout",
     "output_type": "stream",
     "text": [
      "[501] current epoch total loss: 171.9090452194214\n"
     ]
    },
    {
     "name": "stderr",
     "output_type": "stream",
     "text": [
      "MLP Regression Model Training:  38%|███▊      | 764/2000 [00:06<00:11, 108.93it/s]"
     ]
    },
    {
     "name": "stdout",
     "output_type": "stream",
     "text": [
      "[751] current epoch total loss: 166.19350004196167\n"
     ]
    },
    {
     "name": "stderr",
     "output_type": "stream",
     "text": [
      "MLP Regression Model Training:  51%|█████     | 1017/2000 [00:09<00:09, 108.89it/s]"
     ]
    },
    {
     "name": "stdout",
     "output_type": "stream",
     "text": [
      "[1001] current epoch total loss: 151.677472114563\n"
     ]
    },
    {
     "name": "stderr",
     "output_type": "stream",
     "text": [
      "MLP Regression Model Training:  64%|██████▎   | 1270/2000 [00:11<00:06, 109.10it/s]"
     ]
    },
    {
     "name": "stdout",
     "output_type": "stream",
     "text": [
      "[1251] current epoch total loss: 156.1760368347168\n"
     ]
    },
    {
     "name": "stderr",
     "output_type": "stream",
     "text": [
      "MLP Regression Model Training:  76%|███████▌  | 1513/2000 [00:13<00:04, 109.09it/s]"
     ]
    },
    {
     "name": "stdout",
     "output_type": "stream",
     "text": [
      "[1501] current epoch total loss: 143.30027198791504\n"
     ]
    },
    {
     "name": "stderr",
     "output_type": "stream",
     "text": [
      "MLP Regression Model Training:  88%|████████▊ | 1766/2000 [00:16<00:02, 108.65it/s]"
     ]
    },
    {
     "name": "stdout",
     "output_type": "stream",
     "text": [
      "[1751] current epoch total loss: 140.45942497253418\n"
     ]
    },
    {
     "name": "stderr",
     "output_type": "stream",
     "text": [
      "MLP Regression Model Training: 100%|██████████| 2000/2000 [00:18<00:00, 109.14it/s]\n"
     ]
    },
    {
     "name": "stdout",
     "output_type": "stream",
     "text": [
      "Training finished, final loss: 119.28340339660645\n"
     ]
    },
    {
     "data": {
      "image/png": "[encoded data removed]",
      "text/plain": [
       "<Figure size 640x480 with 1 Axes>"
      ]
     },
     "metadata": {},
     "output_type": "display_data"
    },
    {
     "name": "stdout",
     "output_type": "stream",
     "text": [
      "feature function output shape: torch.Size([515, 32])\n",
      "Loaded full dataset CCS with shape: torch.Size([1030, 8]),torch.Size([1030])\n",
      "Loaded split dataset CCS train shape: torch.Size([515, 8]) test sizetorch.Size([515, 8]) \n",
      "setup a MLP regression network structure with [8, 64, 64, 32], dropout prob: 0.2\n",
      "MLP Regressor model setup with input dim: 8\n"
     ]
    },
    {
     "name": "stderr",
     "output_type": "stream",
     "text": [
      "MLP Regression Model Training:   1%|          | 11/2000 [00:00<00:18, 107.38it/s]"
     ]
    },
    {
     "name": "stdout",
     "output_type": "stream",
     "text": [
      "[1] current epoch total loss: 7465.1650390625\n"
     ]
    },
    {
     "name": "stderr",
     "output_type": "stream",
     "text": [
      "MLP Regression Model Training:  13%|█▎        | 264/2000 [00:02<00:15, 109.22it/s]"
     ]
    },
    {
     "name": "stdout",
     "output_type": "stream",
     "text": [
      "[251] current epoch total loss: 270.6243438720703\n"
     ]
    },
    {
     "name": "stderr",
     "output_type": "stream",
     "text": [
      "MLP Regression Model Training:  26%|██▌       | 517/2000 [00:04<00:13, 109.39it/s]"
     ]
    },
    {
     "name": "stdout",
     "output_type": "stream",
     "text": [
      "[501] current epoch total loss: 174.45879745483398\n"
     ]
    },
    {
     "name": "stderr",
     "output_type": "stream",
     "text": [
      "MLP Regression Model Training:  38%|███▊      | 770/2000 [00:07<00:11, 109.34it/s]"
     ]
    },
    {
     "name": "stdout",
     "output_type": "stream",
     "text": [
      "[751] current epoch total loss: 195.5423355102539\n"
     ]
    },
    {
     "name": "stderr",
     "output_type": "stream",
     "text": [
      "MLP Regression Model Training:  51%|█████     | 1012/2000 [00:09<00:09, 109.42it/s]"
     ]
    },
    {
     "name": "stdout",
     "output_type": "stream",
     "text": [
      "[1001] current epoch total loss: 164.74628257751465\n"
     ]
    },
    {
     "name": "stderr",
     "output_type": "stream",
     "text": [
      "MLP Regression Model Training:  63%|██████▎   | 1265/2000 [00:11<00:06, 109.36it/s]"
     ]
    },
    {
     "name": "stdout",
     "output_type": "stream",
     "text": [
      "[1251] current epoch total loss: 154.27762603759766\n"
     ]
    },
    {
     "name": "stderr",
     "output_type": "stream",
     "text": [
      "MLP Regression Model Training:  76%|███████▌  | 1518/2000 [00:13<00:04, 109.07it/s]"
     ]
    },
    {
     "name": "stdout",
     "output_type": "stream",
     "text": [
      "[1501] current epoch total loss: 116.92897129058838\n"
     ]
    },
    {
     "name": "stderr",
     "output_type": "stream",
     "text": [
      "MLP Regression Model Training:  89%|████████▊ | 1771/2000 [00:16<00:02, 109.37it/s]"
     ]
    },
    {
     "name": "stdout",
     "output_type": "stream",
     "text": [
      "[1751] current epoch total loss: 127.21328735351562\n"
     ]
    },
    {
     "name": "stderr",
     "output_type": "stream",
     "text": [
      "MLP Regression Model Training: 100%|██████████| 2000/2000 [00:18<00:00, 109.28it/s]\n"
     ]
    },
    {
     "name": "stdout",
     "output_type": "stream",
     "text": [
      "Training finished, final loss: 127.748779296875\n",
      "feature function output shape: torch.Size([515, 32])\n",
      "Loaded full dataset CCS with shape: torch.Size([1030, 8]),torch.Size([1030])\n",
      "Loaded split dataset CCS train shape: torch.Size([515, 8]) test sizetorch.Size([515, 8]) \n",
      "setup a MLP regression network structure with [8, 64, 64, 32], dropout prob: 0.2\n",
      "MLP Regressor model setup with input dim: 8\n"
     ]
    },
    {
     "name": "stderr",
     "output_type": "stream",
     "text": [
      "MLP Regression Model Training:   1%|          | 11/2000 [00:00<00:18, 108.88it/s]"
     ]
    },
    {
     "name": "stdout",
     "output_type": "stream",
     "text": [
      "[1] current epoch total loss: 8040.97021484375\n"
     ]
    },
    {
     "name": "stderr",
     "output_type": "stream",
     "text": [
      "MLP Regression Model Training:  13%|█▎        | 264/2000 [00:02<00:15, 109.14it/s]"
     ]
    },
    {
     "name": "stdout",
     "output_type": "stream",
     "text": [
      "[251] current epoch total loss: 225.28728866577148\n"
     ]
    },
    {
     "name": "stderr",
     "output_type": "stream",
     "text": [
      "MLP Regression Model Training:  26%|██▌       | 517/2000 [00:04<00:13, 109.43it/s]"
     ]
    },
    {
     "name": "stdout",
     "output_type": "stream",
     "text": [
      "[501] current epoch total loss: 170.19582557678223\n"
     ]
    },
    {
     "name": "stderr",
     "output_type": "stream",
     "text": [
      "MLP Regression Model Training:  38%|███▊      | 770/2000 [00:07<00:11, 109.59it/s]"
     ]
    },
    {
     "name": "stdout",
     "output_type": "stream",
     "text": [
      "[751] current epoch total loss: 176.5761833190918\n"
     ]
    },
    {
     "name": "stderr",
     "output_type": "stream",
     "text": [
      "MLP Regression Model Training:  51%|█████     | 1012/2000 [00:09<00:09, 109.31it/s]"
     ]
    },
    {
     "name": "stdout",
     "output_type": "stream",
     "text": [
      "[1001] current epoch total loss: 193.84141540527344\n"
     ]
    },
    {
     "name": "stderr",
     "output_type": "stream",
     "text": [
      "MLP Regression Model Training:  63%|██████▎   | 1265/2000 [00:11<00:06, 109.43it/s]"
     ]
    },
    {
     "name": "stdout",
     "output_type": "stream",
     "text": [
      "[1251] current epoch total loss: 161.54512631893158\n"
     ]
    },
    {
     "name": "stderr",
     "output_type": "stream",
     "text": [
      "MLP Regression Model Training:  76%|███████▌  | 1523/2000 [00:13<00:04, 113.87it/s]"
     ]
    },
    {
     "name": "stdout",
     "output_type": "stream",
     "text": [
      "[1501] current epoch total loss: 134.37947845458984\n"
     ]
    },
    {
     "name": "stderr",
     "output_type": "stream",
     "text": [
      "MLP Regression Model Training:  88%|████████▊ | 1763/2000 [00:16<00:02, 110.47it/s]"
     ]
    },
    {
     "name": "stdout",
     "output_type": "stream",
     "text": [
      "[1751] current epoch total loss: 122.06392288208008\n"
     ]
    },
    {
     "name": "stderr",
     "output_type": "stream",
     "text": [
      "MLP Regression Model Training: 100%|██████████| 2000/2000 [00:18<00:00, 109.84it/s]\n"
     ]
    },
    {
     "name": "stdout",
     "output_type": "stream",
     "text": [
      "Training finished, final loss: 153.04928970336914\n",
      "feature function output shape: torch.Size([515, 32])\n",
      "Loaded full dataset CCS with shape: torch.Size([1030, 8]),torch.Size([1030])\n",
      "Loaded split dataset CCS train shape: torch.Size([515, 8]) test sizetorch.Size([515, 8]) \n",
      "setup a MLP regression network structure with [8, 64, 64, 32], dropout prob: 0.2\n",
      "MLP Regressor model setup with input dim: 8\n"
     ]
    },
    {
     "name": "stderr",
     "output_type": "stream",
     "text": [
      "MLP Regression Model Training:   1%|          | 11/2000 [00:00<00:18, 109.36it/s]"
     ]
    },
    {
     "name": "stdout",
     "output_type": "stream",
     "text": [
      "[1] current epoch total loss: 7227.334655761719\n"
     ]
    },
    {
     "name": "stderr",
     "output_type": "stream",
     "text": [
      "MLP Regression Model Training:  13%|█▎        | 262/2000 [00:02<00:15, 110.49it/s]"
     ]
    },
    {
     "name": "stdout",
     "output_type": "stream",
     "text": [
      "[251] current epoch total loss: 257.4856700897217\n"
     ]
    },
    {
     "name": "stderr",
     "output_type": "stream",
     "text": [
      "MLP Regression Model Training:  26%|██▌       | 514/2000 [00:04<00:13, 110.41it/s]"
     ]
    },
    {
     "name": "stdout",
     "output_type": "stream",
     "text": [
      "[501] current epoch total loss: 195.90399646759033\n"
     ]
    },
    {
     "name": "stderr",
     "output_type": "stream",
     "text": [
      "MLP Regression Model Training:  38%|███▊      | 766/2000 [00:06<00:11, 110.62it/s]"
     ]
    },
    {
     "name": "stdout",
     "output_type": "stream",
     "text": [
      "[751] current epoch total loss: 213.1963653564453\n"
     ]
    },
    {
     "name": "stderr",
     "output_type": "stream",
     "text": [
      "MLP Regression Model Training:  51%|█████     | 1018/2000 [00:09<00:08, 110.54it/s]"
     ]
    },
    {
     "name": "stdout",
     "output_type": "stream",
     "text": [
      "[1001] current epoch total loss: 128.09020113945007\n"
     ]
    },
    {
     "name": "stderr",
     "output_type": "stream",
     "text": [
      "MLP Regression Model Training:  63%|██████▎   | 1268/2000 [00:11<00:06, 109.66it/s]"
     ]
    },
    {
     "name": "stdout",
     "output_type": "stream",
     "text": [
      "[1251] current epoch total loss: 159.2327175140381\n"
     ]
    },
    {
     "name": "stderr",
     "output_type": "stream",
     "text": [
      "MLP Regression Model Training:  76%|███████▌  | 1521/2000 [00:13<00:04, 109.41it/s]"
     ]
    },
    {
     "name": "stdout",
     "output_type": "stream",
     "text": [
      "[1501] current epoch total loss: 128.87072849273682\n"
     ]
    },
    {
     "name": "stderr",
     "output_type": "stream",
     "text": [
      "MLP Regression Model Training:  88%|████████▊ | 1763/2000 [00:16<00:02, 109.19it/s]"
     ]
    },
    {
     "name": "stdout",
     "output_type": "stream",
     "text": [
      "[1751] current epoch total loss: 129.6744899749756\n"
     ]
    },
    {
     "name": "stderr",
     "output_type": "stream",
     "text": [
      "MLP Regression Model Training: 100%|██████████| 2000/2000 [00:18<00:00, 110.03it/s]\n"
     ]
    },
    {
     "name": "stdout",
     "output_type": "stream",
     "text": [
      "Training finished, final loss: 144.85344123840332\n",
      "feature function output shape: torch.Size([515, 32])\n",
      "Loaded full dataset CCS with shape: torch.Size([1030, 8]),torch.Size([1030])\n",
      "Loaded split dataset CCS train shape: torch.Size([515, 8]) test sizetorch.Size([515, 8]) \n",
      "setup a MLP regression network structure with [8, 64, 64, 32], dropout prob: 0.2\n",
      "MLP Regressor model setup with input dim: 8\n"
     ]
    },
    {
     "name": "stderr",
     "output_type": "stream",
     "text": [
      "MLP Regression Model Training:   1%|          | 11/2000 [00:00<00:18, 109.31it/s]"
     ]
    },
    {
     "name": "stdout",
     "output_type": "stream",
     "text": [
      "[1] current epoch total loss: 6737.5426025390625\n"
     ]
    },
    {
     "name": "stderr",
     "output_type": "stream",
     "text": [
      "MLP Regression Model Training:  13%|█▎        | 264/2000 [00:02<00:15, 109.42it/s]"
     ]
    },
    {
     "name": "stdout",
     "output_type": "stream",
     "text": [
      "[251] current epoch total loss: 243.17782592773438\n"
     ]
    },
    {
     "name": "stderr",
     "output_type": "stream",
     "text": [
      "MLP Regression Model Training:  26%|██▌       | 517/2000 [00:04<00:13, 109.40it/s]"
     ]
    },
    {
     "name": "stdout",
     "output_type": "stream",
     "text": [
      "[501] current epoch total loss: 230.9511833190918\n"
     ]
    },
    {
     "name": "stderr",
     "output_type": "stream",
     "text": [
      "MLP Regression Model Training:  38%|███▊      | 770/2000 [00:07<00:11, 109.17it/s]"
     ]
    },
    {
     "name": "stdout",
     "output_type": "stream",
     "text": [
      "[751] current epoch total loss: 208.18785619735718\n"
     ]
    },
    {
     "name": "stderr",
     "output_type": "stream",
     "text": [
      "MLP Regression Model Training:  51%|█████     | 1023/2000 [00:09<00:08, 109.41it/s]"
     ]
    },
    {
     "name": "stdout",
     "output_type": "stream",
     "text": [
      "[1001] current epoch total loss: 169.0911865234375\n"
     ]
    },
    {
     "name": "stderr",
     "output_type": "stream",
     "text": [
      "MLP Regression Model Training:  63%|██████▎   | 1265/2000 [00:11<00:06, 109.44it/s]"
     ]
    },
    {
     "name": "stdout",
     "output_type": "stream",
     "text": [
      "[1251] current epoch total loss: 205.2330665588379\n"
     ]
    },
    {
     "name": "stderr",
     "output_type": "stream",
     "text": [
      "MLP Regression Model Training:  76%|███████▌  | 1519/2000 [00:13<00:04, 109.57it/s]"
     ]
    },
    {
     "name": "stdout",
     "output_type": "stream",
     "text": [
      "[1501] current epoch total loss: 157.27772331237793\n"
     ]
    },
    {
     "name": "stderr",
     "output_type": "stream",
     "text": [
      "MLP Regression Model Training:  89%|████████▊ | 1772/2000 [00:16<00:02, 109.20it/s]"
     ]
    },
    {
     "name": "stdout",
     "output_type": "stream",
     "text": [
      "[1751] current epoch total loss: 150.01742362976074\n"
     ]
    },
    {
     "name": "stderr",
     "output_type": "stream",
     "text": [
      "MLP Regression Model Training: 100%|██████████| 2000/2000 [00:18<00:00, 109.39it/s]\n"
     ]
    },
    {
     "name": "stdout",
     "output_type": "stream",
     "text": [
      "Training finished, final loss: 163.53797721862793\n",
      "feature function output shape: torch.Size([515, 32])\n",
      "Loaded full dataset CCS with shape: torch.Size([1030, 8]),torch.Size([1030])\n",
      "Loaded split dataset CCS train shape: torch.Size([515, 8]) test sizetorch.Size([515, 8]) \n",
      "setup a MLP regression network structure with [8, 64, 64, 32], dropout prob: 0.2\n",
      "MLP Regressor model setup with input dim: 8\n"
     ]
    },
    {
     "name": "stderr",
     "output_type": "stream",
     "text": [
      "MLP Regression Model Training:   1%|          | 11/2000 [00:00<00:18, 109.34it/s]"
     ]
    },
    {
     "name": "stdout",
     "output_type": "stream",
     "text": [
      "[1] current epoch total loss: 7556.899658203125\n"
     ]
    },
    {
     "name": "stderr",
     "output_type": "stream",
     "text": [
      "MLP Regression Model Training:  13%|█▎        | 264/2000 [00:02<00:15, 109.17it/s]"
     ]
    },
    {
     "name": "stdout",
     "output_type": "stream",
     "text": [
      "[251] current epoch total loss: 237.9906415939331\n"
     ]
    },
    {
     "name": "stderr",
     "output_type": "stream",
     "text": [
      "MLP Regression Model Training:  26%|██▌       | 517/2000 [00:04<00:13, 109.22it/s]"
     ]
    },
    {
     "name": "stdout",
     "output_type": "stream",
     "text": [
      "[501] current epoch total loss: 188.02338832616806\n"
     ]
    },
    {
     "name": "stderr",
     "output_type": "stream",
     "text": [
      "MLP Regression Model Training:  38%|███▊      | 770/2000 [00:07<00:11, 109.29it/s]"
     ]
    },
    {
     "name": "stdout",
     "output_type": "stream",
     "text": [
      "[751] current epoch total loss: 154.16591787338257\n"
     ]
    },
    {
     "name": "stderr",
     "output_type": "stream",
     "text": [
      "MLP Regression Model Training:  51%|█████     | 1012/2000 [00:09<00:09, 109.39it/s]"
     ]
    },
    {
     "name": "stdout",
     "output_type": "stream",
     "text": [
      "[1001] current epoch total loss: 146.82209873199463\n"
     ]
    },
    {
     "name": "stderr",
     "output_type": "stream",
     "text": [
      "MLP Regression Model Training:  63%|██████▎   | 1265/2000 [00:11<00:06, 109.26it/s]"
     ]
    },
    {
     "name": "stdout",
     "output_type": "stream",
     "text": [
      "[1251] current epoch total loss: 136.33496189117432\n"
     ]
    },
    {
     "name": "stderr",
     "output_type": "stream",
     "text": [
      "MLP Regression Model Training:  76%|███████▌  | 1518/2000 [00:13<00:04, 109.28it/s]"
     ]
    },
    {
     "name": "stdout",
     "output_type": "stream",
     "text": [
      "[1501] current epoch total loss: 157.1092529296875\n"
     ]
    },
    {
     "name": "stderr",
     "output_type": "stream",
     "text": [
      "MLP Regression Model Training:  89%|████████▊ | 1771/2000 [00:16<00:02, 109.24it/s]"
     ]
    },
    {
     "name": "stdout",
     "output_type": "stream",
     "text": [
      "[1751] current epoch total loss: 149.96098136901855\n"
     ]
    },
    {
     "name": "stderr",
     "output_type": "stream",
     "text": [
      "MLP Regression Model Training: 100%|██████████| 2000/2000 [00:18<00:00, 109.30it/s]\n"
     ]
    },
    {
     "name": "stdout",
     "output_type": "stream",
     "text": [
      "Training finished, final loss: 127.78139114379883\n",
      "feature function output shape: torch.Size([515, 32])\n",
      "Loaded full dataset CCS with shape: torch.Size([1030, 8]),torch.Size([1030])\n",
      "Loaded split dataset CCS train shape: torch.Size([515, 8]) test sizetorch.Size([515, 8]) \n",
      "setup a MLP regression network structure with [8, 64, 64, 32], dropout prob: 0.2\n",
      "MLP Regressor model setup with input dim: 8\n"
     ]
    },
    {
     "name": "stderr",
     "output_type": "stream",
     "text": [
      "MLP Regression Model Training:   1%|          | 11/2000 [00:00<00:18, 108.67it/s]"
     ]
    },
    {
     "name": "stdout",
     "output_type": "stream",
     "text": [
      "[1] current epoch total loss: 7143.9251708984375\n"
     ]
    },
    {
     "name": "stderr",
     "output_type": "stream",
     "text": [
      "MLP Regression Model Training:  13%|█▎        | 264/2000 [00:02<00:15, 109.03it/s]"
     ]
    },
    {
     "name": "stdout",
     "output_type": "stream",
     "text": [
      "[251] current epoch total loss: 256.7623748779297\n"
     ]
    },
    {
     "name": "stderr",
     "output_type": "stream",
     "text": [
      "MLP Regression Model Training:  26%|██▌       | 517/2000 [00:04<00:13, 109.22it/s]"
     ]
    },
    {
     "name": "stdout",
     "output_type": "stream",
     "text": [
      "[501] current epoch total loss: 184.6398868560791\n"
     ]
    },
    {
     "name": "stderr",
     "output_type": "stream",
     "text": [
      "MLP Regression Model Training:  38%|███▊      | 770/2000 [00:07<00:11, 109.13it/s]"
     ]
    },
    {
     "name": "stdout",
     "output_type": "stream",
     "text": [
      "[751] current epoch total loss: 176.28351402282715\n"
     ]
    },
    {
     "name": "stderr",
     "output_type": "stream",
     "text": [
      "MLP Regression Model Training:  51%|█████     | 1019/2000 [00:09<00:08, 111.44it/s]"
     ]
    },
    {
     "name": "stdout",
     "output_type": "stream",
     "text": [
      "[1001] current epoch total loss: 137.91698455810547\n"
     ]
    },
    {
     "name": "stderr",
     "output_type": "stream",
     "text": [
      "MLP Regression Model Training:  63%|██████▎   | 1265/2000 [00:11<00:06, 108.58it/s]"
     ]
    },
    {
     "name": "stdout",
     "output_type": "stream",
     "text": [
      "[1251] current epoch total loss: 163.95822143554688\n"
     ]
    },
    {
     "name": "stderr",
     "output_type": "stream",
     "text": [
      "MLP Regression Model Training:  76%|███████▌  | 1517/2000 [00:13<00:04, 110.09it/s]"
     ]
    },
    {
     "name": "stdout",
     "output_type": "stream",
     "text": [
      "[1501] current epoch total loss: 128.5021390914917\n"
     ]
    },
    {
     "name": "stderr",
     "output_type": "stream",
     "text": [
      "MLP Regression Model Training:  88%|████████▊ | 1767/2000 [00:16<00:02, 110.16it/s]"
     ]
    },
    {
     "name": "stdout",
     "output_type": "stream",
     "text": [
      "[1751] current epoch total loss: 123.07081413269043\n"
     ]
    },
    {
     "name": "stderr",
     "output_type": "stream",
     "text": [
      "MLP Regression Model Training: 100%|██████████| 2000/2000 [00:18<00:00, 109.58it/s]\n"
     ]
    },
    {
     "name": "stdout",
     "output_type": "stream",
     "text": [
      "Training finished, final loss: 126.93701648712158\n",
      "feature function output shape: torch.Size([515, 32])\n",
      "Loaded full dataset CCS with shape: torch.Size([1030, 8]),torch.Size([1030])\n",
      "Loaded split dataset CCS train shape: torch.Size([515, 8]) test sizetorch.Size([515, 8]) \n",
      "setup a MLP regression network structure with [8, 64, 64, 32], dropout prob: 0.2\n",
      "MLP Regressor model setup with input dim: 8\n"
     ]
    },
    {
     "name": "stderr",
     "output_type": "stream",
     "text": [
      "MLP Regression Model Training:   1%|          | 11/2000 [00:00<00:18, 109.38it/s]"
     ]
    },
    {
     "name": "stdout",
     "output_type": "stream",
     "text": [
      "[1] current epoch total loss: 6878.883239746094\n"
     ]
    },
    {
     "name": "stderr",
     "output_type": "stream",
     "text": [
      "MLP Regression Model Training:  13%|█▎        | 268/2000 [00:02<00:15, 110.51it/s]"
     ]
    },
    {
     "name": "stdout",
     "output_type": "stream",
     "text": [
      "[251] current epoch total loss: 338.25777435302734\n"
     ]
    },
    {
     "name": "stderr",
     "output_type": "stream",
     "text": [
      "MLP Regression Model Training:  26%|██▌       | 520/2000 [00:04<00:13, 110.88it/s]"
     ]
    },
    {
     "name": "stdout",
     "output_type": "stream",
     "text": [
      "[501] current epoch total loss: 262.25096130371094\n"
     ]
    },
    {
     "name": "stderr",
     "output_type": "stream",
     "text": [
      "MLP Regression Model Training:  38%|███▊      | 763/2000 [00:06<00:11, 109.62it/s]"
     ]
    },
    {
     "name": "stdout",
     "output_type": "stream",
     "text": [
      "[751] current epoch total loss: 189.33702087402344\n"
     ]
    },
    {
     "name": "stderr",
     "output_type": "stream",
     "text": [
      "MLP Regression Model Training:  51%|█████     | 1017/2000 [00:09<00:08, 109.64it/s]"
     ]
    },
    {
     "name": "stdout",
     "output_type": "stream",
     "text": [
      "[1001] current epoch total loss: 211.5489616394043\n"
     ]
    },
    {
     "name": "stderr",
     "output_type": "stream",
     "text": [
      "MLP Regression Model Training:  64%|██████▎   | 1270/2000 [00:11<00:06, 109.81it/s]"
     ]
    },
    {
     "name": "stdout",
     "output_type": "stream",
     "text": [
      "[1251] current epoch total loss: 182.07195663452148\n"
     ]
    },
    {
     "name": "stderr",
     "output_type": "stream",
     "text": [
      "MLP Regression Model Training:  76%|███████▌  | 1513/2000 [00:13<00:04, 109.64it/s]"
     ]
    },
    {
     "name": "stdout",
     "output_type": "stream",
     "text": [
      "[1501] current epoch total loss: 150.0265712738037\n"
     ]
    },
    {
     "name": "stderr",
     "output_type": "stream",
     "text": [
      "MLP Regression Model Training:  88%|████████▊ | 1766/2000 [00:16<00:02, 110.81it/s]"
     ]
    },
    {
     "name": "stdout",
     "output_type": "stream",
     "text": [
      "[1751] current epoch total loss: 163.2915744781494\n"
     ]
    },
    {
     "name": "stderr",
     "output_type": "stream",
     "text": [
      "MLP Regression Model Training: 100%|██████████| 2000/2000 [00:18<00:00, 110.07it/s]\n"
     ]
    },
    {
     "name": "stdout",
     "output_type": "stream",
     "text": [
      "Training finished, final loss: 159.69544982910156\n",
      "feature function output shape: torch.Size([515, 32])\n",
      "Loaded full dataset CCS with shape: torch.Size([1030, 8]),torch.Size([1030])\n",
      "Loaded split dataset CCS train shape: torch.Size([515, 8]) test sizetorch.Size([515, 8]) \n",
      "setup a MLP regression network structure with [8, 64, 64, 32], dropout prob: 0.2\n",
      "MLP Regressor model setup with input dim: 8\n"
     ]
    },
    {
     "name": "stderr",
     "output_type": "stream",
     "text": [
      "MLP Regression Model Training:   1%|          | 12/2000 [00:00<00:18, 110.44it/s]"
     ]
    },
    {
     "name": "stdout",
     "output_type": "stream",
     "text": [
      "[1] current epoch total loss: 7173.9207763671875\n"
     ]
    },
    {
     "name": "stderr",
     "output_type": "stream",
     "text": [
      "MLP Regression Model Training:  13%|█▎        | 264/2000 [00:02<00:15, 110.51it/s]"
     ]
    },
    {
     "name": "stdout",
     "output_type": "stream",
     "text": [
      "[251] current epoch total loss: 253.53221702575684\n"
     ]
    },
    {
     "name": "stderr",
     "output_type": "stream",
     "text": [
      "MLP Regression Model Training:  26%|██▌       | 516/2000 [00:04<00:13, 110.72it/s]"
     ]
    },
    {
     "name": "stdout",
     "output_type": "stream",
     "text": [
      "[501] current epoch total loss: 176.89861583709717\n"
     ]
    },
    {
     "name": "stderr",
     "output_type": "stream",
     "text": [
      "MLP Regression Model Training:  38%|███▊      | 768/2000 [00:06<00:11, 110.58it/s]"
     ]
    },
    {
     "name": "stdout",
     "output_type": "stream",
     "text": [
      "[751] current epoch total loss: 163.68181991577148\n"
     ]
    },
    {
     "name": "stderr",
     "output_type": "stream",
     "text": [
      "MLP Regression Model Training:  51%|█████     | 1020/2000 [00:09<00:08, 110.55it/s]"
     ]
    },
    {
     "name": "stdout",
     "output_type": "stream",
     "text": [
      "[1001] current epoch total loss: 128.0239064693451\n"
     ]
    },
    {
     "name": "stderr",
     "output_type": "stream",
     "text": [
      "MLP Regression Model Training:  64%|██████▎   | 1272/2000 [00:11<00:06, 110.65it/s]"
     ]
    },
    {
     "name": "stdout",
     "output_type": "stream",
     "text": [
      "[1251] current epoch total loss: 125.61143827438354\n"
     ]
    },
    {
     "name": "stderr",
     "output_type": "stream",
     "text": [
      "MLP Regression Model Training:  76%|███████▌  | 1520/2000 [00:13<00:04, 109.71it/s]"
     ]
    },
    {
     "name": "stdout",
     "output_type": "stream",
     "text": [
      "[1501] current epoch total loss: 156.5294704437256\n"
     ]
    },
    {
     "name": "stderr",
     "output_type": "stream",
     "text": [
      "MLP Regression Model Training:  88%|████████▊ | 1767/2000 [00:16<00:02, 109.33it/s]"
     ]
    },
    {
     "name": "stdout",
     "output_type": "stream",
     "text": [
      "[1751] current epoch total loss: 117.59499931335449\n"
     ]
    },
    {
     "name": "stderr",
     "output_type": "stream",
     "text": [
      "MLP Regression Model Training: 100%|██████████| 2000/2000 [00:18<00:00, 110.18it/s]\n"
     ]
    },
    {
     "name": "stdout",
     "output_type": "stream",
     "text": [
      "Training finished, final loss: 143.60522651672363\n",
      "feature function output shape: torch.Size([515, 32])\n",
      "Loaded full dataset CCS with shape: torch.Size([1030, 8]),torch.Size([1030])\n",
      "Loaded split dataset CCS train shape: torch.Size([515, 8]) test sizetorch.Size([515, 8]) \n",
      "setup a MLP regression network structure with [8, 64, 64, 32], dropout prob: 0.2\n",
      "MLP Regressor model setup with input dim: 8\n"
     ]
    },
    {
     "name": "stderr",
     "output_type": "stream",
     "text": [
      "MLP Regression Model Training:   1%|          | 11/2000 [00:00<00:18, 109.59it/s]"
     ]
    },
    {
     "name": "stdout",
     "output_type": "stream",
     "text": [
      "[1] current epoch total loss: 7233.3641357421875\n"
     ]
    },
    {
     "name": "stderr",
     "output_type": "stream",
     "text": [
      "MLP Regression Model Training:  13%|█▎        | 269/2000 [00:02<00:15, 109.02it/s]"
     ]
    },
    {
     "name": "stdout",
     "output_type": "stream",
     "text": [
      "[251] current epoch total loss: 236.17626571655273\n"
     ]
    },
    {
     "name": "stderr",
     "output_type": "stream",
     "text": [
      "MLP Regression Model Training:  26%|██▌       | 512/2000 [00:04<00:13, 110.01it/s]"
     ]
    },
    {
     "name": "stdout",
     "output_type": "stream",
     "text": [
      "[501] current epoch total loss: 230.28753280639648\n"
     ]
    },
    {
     "name": "stderr",
     "output_type": "stream",
     "text": [
      "MLP Regression Model Training:  38%|███▊      | 770/2000 [00:07<00:11, 109.42it/s]"
     ]
    },
    {
     "name": "stdout",
     "output_type": "stream",
     "text": [
      "[751] current epoch total loss: 160.67637014389038\n"
     ]
    },
    {
     "name": "stderr",
     "output_type": "stream",
     "text": [
      "MLP Regression Model Training:  51%|█████     | 1021/2000 [00:09<00:08, 109.72it/s]"
     ]
    },
    {
     "name": "stdout",
     "output_type": "stream",
     "text": [
      "[1001] current epoch total loss: 186.28684616088867\n"
     ]
    },
    {
     "name": "stderr",
     "output_type": "stream",
     "text": [
      "MLP Regression Model Training:  63%|██████▎   | 1268/2000 [00:11<00:06, 110.18it/s]"
     ]
    },
    {
     "name": "stdout",
     "output_type": "stream",
     "text": [
      "[1251] current epoch total loss: 145.53782749176025\n"
     ]
    },
    {
     "name": "stderr",
     "output_type": "stream",
     "text": [
      "MLP Regression Model Training:  76%|███████▌  | 1522/2000 [00:13<00:04, 108.89it/s]"
     ]
    },
    {
     "name": "stdout",
     "output_type": "stream",
     "text": [
      "[1501] current epoch total loss: 154.57994651794434\n"
     ]
    },
    {
     "name": "stderr",
     "output_type": "stream",
     "text": [
      "MLP Regression Model Training:  88%|████████▊ | 1765/2000 [00:16<00:02, 109.30it/s]"
     ]
    },
    {
     "name": "stdout",
     "output_type": "stream",
     "text": [
      "[1751] current epoch total loss: 142.21097946166992\n"
     ]
    },
    {
     "name": "stderr",
     "output_type": "stream",
     "text": [
      "MLP Regression Model Training: 100%|██████████| 2000/2000 [00:18<00:00, 109.50it/s]\n"
     ]
    },
    {
     "name": "stdout",
     "output_type": "stream",
     "text": [
      "Training finished, final loss: 123.55751991271973\n",
      "feature function output shape: torch.Size([515, 32])\n",
      "Finished dataset CCS, results saved to: results_run_by_LRJ/CCS/CCS_coverage_bandwidth.csv\n",
      "Also saved CCS_results to results_run_by_LRJ/CCS/CCS_results.pkl\n",
      "Testing feature CP on dataset PT with epochs=1000\n",
      "Loaded full dataset PT with shape: torch.Size([5875, 21]),torch.Size([5875])\n",
      "Loaded split dataset PT train shape: torch.Size([2937, 21]) test sizetorch.Size([2938, 21]) \n",
      "setup a MLP regression network structure with [21, 64, 64, 32], dropout prob: 0.2\n",
      "MLP Regressor model setup with input dim: 21\n"
     ]
    },
    {
     "name": "stderr",
     "output_type": "stream",
     "text": [
      "MLP Regression Model Training:   0%|          | 3/1000 [00:00<00:40, 24.43it/s]"
     ]
    },
    {
     "name": "stdout",
     "output_type": "stream",
     "text": [
      "[1] current epoch total loss: 3.2665135860443115\n"
     ]
    },
    {
     "name": "stderr",
     "output_type": "stream",
     "text": [
      "MLP Regression Model Training:  26%|██▌       | 255/1000 [00:10<00:31, 23.97it/s]"
     ]
    },
    {
     "name": "stdout",
     "output_type": "stream",
     "text": [
      "[251] current epoch total loss: 0.050035300431773067\n"
     ]
    },
    {
     "name": "stderr",
     "output_type": "stream",
     "text": [
      "MLP Regression Model Training:  50%|█████     | 504/1000 [00:20<00:20, 24.07it/s]"
     ]
    },
    {
     "name": "stdout",
     "output_type": "stream",
     "text": [
      "[501] current epoch total loss: 0.03646685788407922\n"
     ]
    },
    {
     "name": "stderr",
     "output_type": "stream",
     "text": [
      "MLP Regression Model Training:  75%|███████▌  | 754/1000 [00:33<00:10, 24.06it/s]"
     ]
    },
    {
     "name": "stdout",
     "output_type": "stream",
     "text": [
      "[751] current epoch total loss: 0.03504711843561381\n"
     ]
    },
    {
     "name": "stderr",
     "output_type": "stream",
     "text": [
      "MLP Regression Model Training: 100%|██████████| 1000/1000 [00:43<00:00, 22.98it/s]\n"
     ]
    },
    {
     "name": "stdout",
     "output_type": "stream",
     "text": [
      "Training finished, final loss: 0.031852198066189885\n"
     ]
    },
    {
     "data": {
      "image/png": "[encoded data removed]",
      "text/plain": [
       "<Figure size 640x480 with 1 Axes>"
      ]
     },
     "metadata": {},
     "output_type": "display_data"
    },
    {
     "name": "stdout",
     "output_type": "stream",
     "text": [
      "feature function output shape: torch.Size([2938, 32])\n",
      "Loaded full dataset PT with shape: torch.Size([5875, 21]),torch.Size([5875])\n",
      "Loaded split dataset PT train shape: torch.Size([2937, 21]) test sizetorch.Size([2938, 21]) \n",
      "setup a MLP regression network structure with [21, 64, 64, 32], dropout prob: 0.2\n",
      "MLP Regressor model setup with input dim: 21\n"
     ]
    },
    {
     "name": "stderr",
     "output_type": "stream",
     "text": [
      "MLP Regression Model Training:   0%|          | 3/1000 [00:00<00:43, 23.16it/s]"
     ]
    },
    {
     "name": "stdout",
     "output_type": "stream",
     "text": [
      "[1] current epoch total loss: 2.5857515148818493\n"
     ]
    },
    {
     "name": "stderr",
     "output_type": "stream",
     "text": [
      "MLP Regression Model Training:  26%|██▌       | 255/1000 [00:10<00:30, 24.33it/s]"
     ]
    },
    {
     "name": "stdout",
     "output_type": "stream",
     "text": [
      "[251] current epoch total loss: 0.05301992560271174\n"
     ]
    },
    {
     "name": "stderr",
     "output_type": "stream",
     "text": [
      "MLP Regression Model Training:  50%|█████     | 504/1000 [00:20<00:20, 24.10it/s]"
     ]
    },
    {
     "name": "stdout",
     "output_type": "stream",
     "text": [
      "[501] current epoch total loss: 0.0384761729510501\n"
     ]
    },
    {
     "name": "stderr",
     "output_type": "stream",
     "text": [
      "MLP Regression Model Training:  75%|███████▌  | 753/1000 [00:31<00:10, 24.06it/s]"
     ]
    },
    {
     "name": "stdout",
     "output_type": "stream",
     "text": [
      "[751] current epoch total loss: 0.03614735940936953\n"
     ]
    },
    {
     "name": "stderr",
     "output_type": "stream",
     "text": [
      "MLP Regression Model Training: 100%|██████████| 1000/1000 [00:41<00:00, 24.11it/s]\n"
     ]
    },
    {
     "name": "stdout",
     "output_type": "stream",
     "text": [
      "Training finished, final loss: 0.03421697160229087\n",
      "feature function output shape: torch.Size([2938, 32])\n",
      "Loaded full dataset PT with shape: torch.Size([5875, 21]),torch.Size([5875])\n",
      "Loaded split dataset PT train shape: torch.Size([2937, 21]) test sizetorch.Size([2938, 21]) \n",
      "setup a MLP regression network structure with [21, 64, 64, 32], dropout prob: 0.2\n",
      "MLP Regressor model setup with input dim: 21\n"
     ]
    },
    {
     "name": "stderr",
     "output_type": "stream",
     "text": [
      "MLP Regression Model Training:   0%|          | 0/1000 [00:00<?, ?it/s]"
     ]
    },
    {
     "name": "stdout",
     "output_type": "stream",
     "text": [
      "[1] current epoch total loss: 2.7246769443154335\n"
     ]
    },
    {
     "name": "stderr",
     "output_type": "stream",
     "text": [
      "MLP Regression Model Training:  26%|██▌       | 255/1000 [00:10<00:31, 24.03it/s]"
     ]
    },
    {
     "name": "stdout",
     "output_type": "stream",
     "text": [
      "[251] current epoch total loss: 0.05234052683226764\n"
     ]
    },
    {
     "name": "stderr",
     "output_type": "stream",
     "text": [
      "MLP Regression Model Training:  50%|█████     | 504/1000 [00:20<00:20, 24.26it/s]"
     ]
    },
    {
     "name": "stdout",
     "output_type": "stream",
     "text": [
      "[501] current epoch total loss: 0.03870820323936641\n"
     ]
    },
    {
     "name": "stderr",
     "output_type": "stream",
     "text": [
      "MLP Regression Model Training:  75%|███████▌  | 753/1000 [00:31<00:10, 24.31it/s]"
     ]
    },
    {
     "name": "stdout",
     "output_type": "stream",
     "text": [
      "[751] current epoch total loss: 0.03570927435066551\n"
     ]
    },
    {
     "name": "stderr",
     "output_type": "stream",
     "text": [
      "MLP Regression Model Training: 100%|██████████| 1000/1000 [00:41<00:00, 24.13it/s]\n"
     ]
    },
    {
     "name": "stdout",
     "output_type": "stream",
     "text": [
      "Training finished, final loss: 0.03391483868472278\n",
      "feature function output shape: torch.Size([2938, 32])\n",
      "Loaded full dataset PT with shape: torch.Size([5875, 21]),torch.Size([5875])\n",
      "Loaded split dataset PT train shape: torch.Size([2937, 21]) test sizetorch.Size([2938, 21]) \n",
      "setup a MLP regression network structure with [21, 64, 64, 32], dropout prob: 0.2\n",
      "MLP Regressor model setup with input dim: 21\n"
     ]
    },
    {
     "name": "stderr",
     "output_type": "stream",
     "text": [
      "MLP Regression Model Training:   0%|          | 0/1000 [00:00<?, ?it/s]"
     ]
    },
    {
     "name": "stdout",
     "output_type": "stream",
     "text": [
      "[1] current epoch total loss: 2.5496182590723038\n"
     ]
    },
    {
     "name": "stderr",
     "output_type": "stream",
     "text": [
      "MLP Regression Model Training:  26%|██▌       | 255/1000 [00:10<00:30, 24.08it/s]"
     ]
    },
    {
     "name": "stdout",
     "output_type": "stream",
     "text": [
      "[251] current epoch total loss: 0.05013541330117732\n"
     ]
    },
    {
     "name": "stderr",
     "output_type": "stream",
     "text": [
      "MLP Regression Model Training:  50%|█████     | 504/1000 [00:20<00:20, 24.21it/s]"
     ]
    },
    {
     "name": "stdout",
     "output_type": "stream",
     "text": [
      "[501] current epoch total loss: 0.039710559183731675\n"
     ]
    },
    {
     "name": "stderr",
     "output_type": "stream",
     "text": [
      "MLP Regression Model Training:  75%|███████▌  | 753/1000 [00:31<00:10, 24.16it/s]"
     ]
    },
    {
     "name": "stdout",
     "output_type": "stream",
     "text": [
      "[751] current epoch total loss: 0.033779951627366245\n"
     ]
    },
    {
     "name": "stderr",
     "output_type": "stream",
     "text": [
      "MLP Regression Model Training: 100%|██████████| 1000/1000 [00:41<00:00, 24.14it/s]\n"
     ]
    },
    {
     "name": "stdout",
     "output_type": "stream",
     "text": [
      "Training finished, final loss: 0.03051969944499433\n",
      "feature function output shape: torch.Size([2938, 32])\n",
      "Loaded full dataset PT with shape: torch.Size([5875, 21]),torch.Size([5875])\n",
      "Loaded split dataset PT train shape: torch.Size([2937, 21]) test sizetorch.Size([2938, 21]) \n",
      "setup a MLP regression network structure with [21, 64, 64, 32], dropout prob: 0.2\n",
      "MLP Regressor model setup with input dim: 21\n"
     ]
    },
    {
     "name": "stderr",
     "output_type": "stream",
     "text": [
      "MLP Regression Model Training:   0%|          | 0/1000 [00:00<?, ?it/s]"
     ]
    },
    {
     "name": "stdout",
     "output_type": "stream",
     "text": [
      "[1] current epoch total loss: 4.587888635694981\n"
     ]
    },
    {
     "name": "stderr",
     "output_type": "stream",
     "text": [
      "MLP Regression Model Training:  25%|██▌       | 254/1000 [00:12<00:30, 24.12it/s]"
     ]
    },
    {
     "name": "stdout",
     "output_type": "stream",
     "text": [
      "[251] current epoch total loss: 0.05292880441993475\n"
     ]
    },
    {
     "name": "stderr",
     "output_type": "stream",
     "text": [
      "MLP Regression Model Training:  50%|█████     | 503/1000 [00:22<00:20, 24.10it/s]"
     ]
    },
    {
     "name": "stdout",
     "output_type": "stream",
     "text": [
      "[501] current epoch total loss: 0.04115544958040118\n"
     ]
    },
    {
     "name": "stderr",
     "output_type": "stream",
     "text": [
      "MLP Regression Model Training:  76%|███████▌  | 755/1000 [00:33<00:10, 24.15it/s]"
     ]
    },
    {
     "name": "stdout",
     "output_type": "stream",
     "text": [
      "[751] current epoch total loss: 0.034902038401924074\n"
     ]
    },
    {
     "name": "stderr",
     "output_type": "stream",
     "text": [
      "MLP Regression Model Training: 100%|██████████| 1000/1000 [00:43<00:00, 23.12it/s]\n"
     ]
    },
    {
     "name": "stdout",
     "output_type": "stream",
     "text": [
      "Training finished, final loss: 0.03512342553585768\n",
      "feature function output shape: torch.Size([2938, 32])\n",
      "Loaded full dataset PT with shape: torch.Size([5875, 21]),torch.Size([5875])\n",
      "Loaded split dataset PT train shape: torch.Size([2937, 21]) test sizetorch.Size([2938, 21]) \n",
      "setup a MLP regression network structure with [21, 64, 64, 32], dropout prob: 0.2\n",
      "MLP Regressor model setup with input dim: 21\n"
     ]
    },
    {
     "name": "stderr",
     "output_type": "stream",
     "text": [
      "MLP Regression Model Training:   0%|          | 0/1000 [00:00<?, ?it/s]"
     ]
    },
    {
     "name": "stdout",
     "output_type": "stream",
     "text": [
      "[1] current epoch total loss: 1.3799310959875584\n"
     ]
    },
    {
     "name": "stderr",
     "output_type": "stream",
     "text": [
      "MLP Regression Model Training:  26%|██▌       | 255/1000 [00:10<00:30, 24.18it/s]"
     ]
    },
    {
     "name": "stdout",
     "output_type": "stream",
     "text": [
      "[251] current epoch total loss: 0.04700632253661752\n"
     ]
    },
    {
     "name": "stderr",
     "output_type": "stream",
     "text": [
      "MLP Regression Model Training:  50%|█████     | 504/1000 [00:20<00:20, 24.09it/s]"
     ]
    },
    {
     "name": "stdout",
     "output_type": "stream",
     "text": [
      "[501] current epoch total loss: 0.0359963959781453\n"
     ]
    },
    {
     "name": "stderr",
     "output_type": "stream",
     "text": [
      "MLP Regression Model Training:  75%|███████▌  | 753/1000 [00:31<00:10, 24.09it/s]"
     ]
    },
    {
     "name": "stdout",
     "output_type": "stream",
     "text": [
      "[751] current epoch total loss: 0.03334226575680077\n"
     ]
    },
    {
     "name": "stderr",
     "output_type": "stream",
     "text": [
      "MLP Regression Model Training: 100%|██████████| 1000/1000 [00:41<00:00, 24.09it/s]\n"
     ]
    },
    {
     "name": "stdout",
     "output_type": "stream",
     "text": [
      "Training finished, final loss: 0.030317026423290372\n",
      "feature function output shape: torch.Size([2938, 32])\n",
      "Loaded full dataset PT with shape: torch.Size([5875, 21]),torch.Size([5875])\n",
      "Loaded split dataset PT train shape: torch.Size([2937, 21]) test sizetorch.Size([2938, 21]) \n",
      "setup a MLP regression network structure with [21, 64, 64, 32], dropout prob: 0.2\n",
      "MLP Regressor model setup with input dim: 21\n"
     ]
    },
    {
     "name": "stderr",
     "output_type": "stream",
     "text": [
      "MLP Regression Model Training:   0%|          | 0/1000 [00:00<?, ?it/s]"
     ]
    },
    {
     "name": "stdout",
     "output_type": "stream",
     "text": [
      "[1] current epoch total loss: 2.448605954647064\n"
     ]
    },
    {
     "name": "stderr",
     "output_type": "stream",
     "text": [
      "MLP Regression Model Training:  26%|██▌       | 255/1000 [00:10<00:31, 24.03it/s]"
     ]
    },
    {
     "name": "stdout",
     "output_type": "stream",
     "text": [
      "[251] current epoch total loss: 0.05157187848817557\n"
     ]
    },
    {
     "name": "stderr",
     "output_type": "stream",
     "text": [
      "MLP Regression Model Training:  50%|█████     | 504/1000 [00:20<00:20, 24.18it/s]"
     ]
    },
    {
     "name": "stdout",
     "output_type": "stream",
     "text": [
      "[501] current epoch total loss: 0.038761507836170495\n"
     ]
    },
    {
     "name": "stderr",
     "output_type": "stream",
     "text": [
      "MLP Regression Model Training:  75%|███████▌  | 753/1000 [00:31<00:10, 24.03it/s]"
     ]
    },
    {
     "name": "stdout",
     "output_type": "stream",
     "text": [
      "[751] current epoch total loss: 0.03433413786115125\n"
     ]
    },
    {
     "name": "stderr",
     "output_type": "stream",
     "text": [
      "MLP Regression Model Training: 100%|██████████| 1000/1000 [00:41<00:00, 24.13it/s]\n"
     ]
    },
    {
     "name": "stdout",
     "output_type": "stream",
     "text": [
      "Training finished, final loss: 0.034672681998927146\n",
      "feature function output shape: torch.Size([2938, 32])\n",
      "Loaded full dataset PT with shape: torch.Size([5875, 21]),torch.Size([5875])\n",
      "Loaded split dataset PT train shape: torch.Size([2937, 21]) test sizetorch.Size([2938, 21]) \n",
      "setup a MLP regression network structure with [21, 64, 64, 32], dropout prob: 0.2\n",
      "MLP Regressor model setup with input dim: 21\n"
     ]
    },
    {
     "name": "stderr",
     "output_type": "stream",
     "text": [
      "MLP Regression Model Training:   0%|          | 0/1000 [00:00<?, ?it/s]"
     ]
    },
    {
     "name": "stdout",
     "output_type": "stream",
     "text": [
      "[1] current epoch total loss: 2.2619978226721287\n"
     ]
    },
    {
     "name": "stderr",
     "output_type": "stream",
     "text": [
      "MLP Regression Model Training:  26%|██▌       | 255/1000 [00:10<00:30, 24.07it/s]"
     ]
    },
    {
     "name": "stdout",
     "output_type": "stream",
     "text": [
      "[251] current epoch total loss: 0.047539283405058086\n"
     ]
    },
    {
     "name": "stderr",
     "output_type": "stream",
     "text": [
      "MLP Regression Model Training:  50%|█████     | 504/1000 [00:20<00:20, 24.18it/s]"
     ]
    },
    {
     "name": "stdout",
     "output_type": "stream",
     "text": [
      "[501] current epoch total loss: 0.035652620950713754\n"
     ]
    },
    {
     "name": "stderr",
     "output_type": "stream",
     "text": [
      "MLP Regression Model Training:  75%|███████▌  | 753/1000 [00:31<00:10, 24.17it/s]"
     ]
    },
    {
     "name": "stdout",
     "output_type": "stream",
     "text": [
      "[751] current epoch total loss: 0.034063758910633624\n"
     ]
    },
    {
     "name": "stderr",
     "output_type": "stream",
     "text": [
      "MLP Regression Model Training: 100%|██████████| 1000/1000 [00:41<00:00, 24.13it/s]\n"
     ]
    },
    {
     "name": "stdout",
     "output_type": "stream",
     "text": [
      "Training finished, final loss: 0.03193132346495986\n",
      "feature function output shape: torch.Size([2938, 32])\n",
      "Loaded full dataset PT with shape: torch.Size([5875, 21]),torch.Size([5875])\n",
      "Loaded split dataset PT train shape: torch.Size([2937, 21]) test sizetorch.Size([2938, 21]) \n",
      "setup a MLP regression network structure with [21, 64, 64, 32], dropout prob: 0.2\n",
      "MLP Regressor model setup with input dim: 21\n"
     ]
    },
    {
     "name": "stderr",
     "output_type": "stream",
     "text": [
      "MLP Regression Model Training:   0%|          | 0/1000 [00:00<?, ?it/s]"
     ]
    },
    {
     "name": "stdout",
     "output_type": "stream",
     "text": [
      "[1] current epoch total loss: 3.644404835999012\n"
     ]
    },
    {
     "name": "stderr",
     "output_type": "stream",
     "text": [
      "MLP Regression Model Training:  26%|██▌       | 255/1000 [00:10<00:31, 23.98it/s]"
     ]
    },
    {
     "name": "stdout",
     "output_type": "stream",
     "text": [
      "[251] current epoch total loss: 0.051702221389859915\n"
     ]
    },
    {
     "name": "stderr",
     "output_type": "stream",
     "text": [
      "MLP Regression Model Training:  50%|█████     | 504/1000 [00:21<00:20, 24.13it/s]"
     ]
    },
    {
     "name": "stdout",
     "output_type": "stream",
     "text": [
      "[501] current epoch total loss: 0.0388717275345698\n"
     ]
    },
    {
     "name": "stderr",
     "output_type": "stream",
     "text": [
      "MLP Regression Model Training:  75%|███████▌  | 753/1000 [00:31<00:10, 24.09it/s]"
     ]
    },
    {
     "name": "stdout",
     "output_type": "stream",
     "text": [
      "[751] current epoch total loss: 0.033909359481185675\n"
     ]
    },
    {
     "name": "stderr",
     "output_type": "stream",
     "text": [
      "MLP Regression Model Training: 100%|██████████| 1000/1000 [00:41<00:00, 24.02it/s]\n"
     ]
    },
    {
     "name": "stdout",
     "output_type": "stream",
     "text": [
      "Training finished, final loss: 0.033746790257282555\n",
      "feature function output shape: torch.Size([2938, 32])\n",
      "Loaded full dataset PT with shape: torch.Size([5875, 21]),torch.Size([5875])\n",
      "Loaded split dataset PT train shape: torch.Size([2937, 21]) test sizetorch.Size([2938, 21]) \n",
      "setup a MLP regression network structure with [21, 64, 64, 32], dropout prob: 0.2\n",
      "MLP Regressor model setup with input dim: 21\n"
     ]
    },
    {
     "name": "stderr",
     "output_type": "stream",
     "text": [
      "MLP Regression Model Training:   0%|          | 0/1000 [00:00<?, ?it/s]"
     ]
    },
    {
     "name": "stdout",
     "output_type": "stream",
     "text": [
      "[1] current epoch total loss: 1.5845148004591465\n"
     ]
    },
    {
     "name": "stderr",
     "output_type": "stream",
     "text": [
      "MLP Regression Model Training:  26%|██▌       | 255/1000 [00:10<00:30, 24.04it/s]"
     ]
    },
    {
     "name": "stdout",
     "output_type": "stream",
     "text": [
      "[251] current epoch total loss: 0.049258538288995624\n"
     ]
    },
    {
     "name": "stderr",
     "output_type": "stream",
     "text": [
      "MLP Regression Model Training:  50%|█████     | 504/1000 [00:20<00:20, 24.10it/s]"
     ]
    },
    {
     "name": "stdout",
     "output_type": "stream",
     "text": [
      "[501] current epoch total loss: 0.037905225646682084\n"
     ]
    },
    {
     "name": "stderr",
     "output_type": "stream",
     "text": [
      "MLP Regression Model Training:  75%|███████▌  | 753/1000 [00:31<00:10, 24.13it/s]"
     ]
    },
    {
     "name": "stdout",
     "output_type": "stream",
     "text": [
      "[751] current epoch total loss: 0.03322443412616849\n"
     ]
    },
    {
     "name": "stderr",
     "output_type": "stream",
     "text": [
      "MLP Regression Model Training: 100%|██████████| 1000/1000 [00:41<00:00, 24.17it/s]\n"
     ]
    },
    {
     "name": "stdout",
     "output_type": "stream",
     "text": [
      "Training finished, final loss: 0.03203601378481835\n",
      "feature function output shape: torch.Size([2938, 32])\n",
      "Finished dataset PT, results saved to: results_run_by_LRJ/PT/PT_coverage_bandwidth.csv\n",
      "Also saved PT_results to results_run_by_LRJ/PT/PT_results.pkl\n",
      "Testing feature CP on dataset QFT with epochs=2000\n",
      "Loaded full dataset QFT with shape: torch.Size([907, 6]),torch.Size([907])\n",
      "Loaded split dataset QFT train shape: torch.Size([453, 6]) test sizetorch.Size([454, 6]) \n",
      "setup a MLP regression network structure with [6, 64, 64, 32], dropout prob: 0.2\n",
      "MLP Regressor model setup with input dim: 6\n"
     ]
    },
    {
     "name": "stderr",
     "output_type": "stream",
     "text": [
      "MLP Regression Model Training:   0%|          | 0/2000 [00:00<?, ?it/s]"
     ]
    },
    {
     "name": "stdout",
     "output_type": "stream",
     "text": [
      "[1] current epoch total loss: 75.68733310699463\n"
     ]
    },
    {
     "name": "stderr",
     "output_type": "stream",
     "text": [
      "MLP Regression Model Training:  13%|█▎        | 266/2000 [00:01<00:12, 136.04it/s]"
     ]
    },
    {
     "name": "stdout",
     "output_type": "stream",
     "text": [
      "[251] current epoch total loss: 3.561240494251251\n"
     ]
    },
    {
     "name": "stderr",
     "output_type": "stream",
     "text": [
      "MLP Regression Model Training:  26%|██▌       | 518/2000 [00:03<00:10, 136.54it/s]"
     ]
    },
    {
     "name": "stdout",
     "output_type": "stream",
     "text": [
      "[501] current epoch total loss: 2.871788501739502\n"
     ]
    },
    {
     "name": "stderr",
     "output_type": "stream",
     "text": [
      "MLP Regression Model Training:  38%|███▊      | 770/2000 [00:05<00:09, 136.24it/s]"
     ]
    },
    {
     "name": "stdout",
     "output_type": "stream",
     "text": [
      "[751] current epoch total loss: 2.154223293066025\n"
     ]
    },
    {
     "name": "stderr",
     "output_type": "stream",
     "text": [
      "MLP Regression Model Training:  51%|█████     | 1022/2000 [00:07<00:07, 135.29it/s]"
     ]
    },
    {
     "name": "stdout",
     "output_type": "stream",
     "text": [
      "[1001] current epoch total loss: 2.263259708881378\n"
     ]
    },
    {
     "name": "stderr",
     "output_type": "stream",
     "text": [
      "MLP Regression Model Training:  64%|██████▎   | 1274/2000 [00:09<00:05, 135.88it/s]"
     ]
    },
    {
     "name": "stdout",
     "output_type": "stream",
     "text": [
      "[1251] current epoch total loss: 1.7077695429325104\n"
     ]
    },
    {
     "name": "stderr",
     "output_type": "stream",
     "text": [
      "MLP Regression Model Training:  76%|███████▋  | 1526/2000 [00:11<00:03, 136.06it/s]"
     ]
    },
    {
     "name": "stdout",
     "output_type": "stream",
     "text": [
      "[1501] current epoch total loss: 1.922000914812088\n"
     ]
    },
    {
     "name": "stderr",
     "output_type": "stream",
     "text": [
      "MLP Regression Model Training:  89%|████████▉ | 1778/2000 [00:13<00:01, 135.47it/s]"
     ]
    },
    {
     "name": "stdout",
     "output_type": "stream",
     "text": [
      "[1751] current epoch total loss: 1.6078770160675049\n"
     ]
    },
    {
     "name": "stderr",
     "output_type": "stream",
     "text": [
      "MLP Regression Model Training: 100%|██████████| 2000/2000 [00:14<00:00, 136.04it/s]\n"
     ]
    },
    {
     "name": "stdout",
     "output_type": "stream",
     "text": [
      "Training finished, final loss: 1.439378410577774\n"
     ]
    },
    {
     "data": {
      "image/png": "[encoded data removed]",
      "text/plain": [
       "<Figure size 640x480 with 1 Axes>"
      ]
     },
     "metadata": {},
     "output_type": "display_data"
    },
    {
     "name": "stdout",
     "output_type": "stream",
     "text": [
      "feature function output shape: torch.Size([454, 32])\n",
      "Loaded full dataset QFT with shape: torch.Size([907, 6]),torch.Size([907])\n",
      "Loaded split dataset QFT train shape: torch.Size([453, 6]) test sizetorch.Size([454, 6]) \n",
      "setup a MLP regression network structure with [6, 64, 64, 32], dropout prob: 0.2\n",
      "MLP Regressor model setup with input dim: 6\n"
     ]
    },
    {
     "name": "stderr",
     "output_type": "stream",
     "text": [
      "MLP Regression Model Training:   0%|          | 0/2000 [00:00<?, ?it/s]"
     ]
    },
    {
     "name": "stdout",
     "output_type": "stream",
     "text": [
      "[1] current epoch total loss: 63.25291442871094\n"
     ]
    },
    {
     "name": "stderr",
     "output_type": "stream",
     "text": [
      "MLP Regression Model Training:  13%|█▎        | 266/2000 [00:01<00:12, 135.01it/s]"
     ]
    },
    {
     "name": "stdout",
     "output_type": "stream",
     "text": [
      "[251] current epoch total loss: 3.628115177154541\n"
     ]
    },
    {
     "name": "stderr",
     "output_type": "stream",
     "text": [
      "MLP Regression Model Training:  26%|██▌       | 518/2000 [00:03<00:10, 135.81it/s]"
     ]
    },
    {
     "name": "stdout",
     "output_type": "stream",
     "text": [
      "[501] current epoch total loss: 2.7900590300559998\n"
     ]
    },
    {
     "name": "stderr",
     "output_type": "stream",
     "text": [
      "MLP Regression Model Training:  38%|███▊      | 770/2000 [00:05<00:09, 135.94it/s]"
     ]
    },
    {
     "name": "stdout",
     "output_type": "stream",
     "text": [
      "[751] current epoch total loss: 2.3140504360198975\n"
     ]
    },
    {
     "name": "stderr",
     "output_type": "stream",
     "text": [
      "MLP Regression Model Training:  51%|█████     | 1022/2000 [00:07<00:07, 135.77it/s]"
     ]
    },
    {
     "name": "stdout",
     "output_type": "stream",
     "text": [
      "[1001] current epoch total loss: 2.0498868823051453\n"
     ]
    },
    {
     "name": "stderr",
     "output_type": "stream",
     "text": [
      "MLP Regression Model Training:  64%|██████▎   | 1274/2000 [00:09<00:05, 135.60it/s]"
     ]
    },
    {
     "name": "stdout",
     "output_type": "stream",
     "text": [
      "[1251] current epoch total loss: 1.974045306444168\n"
     ]
    },
    {
     "name": "stderr",
     "output_type": "stream",
     "text": [
      "MLP Regression Model Training:  76%|███████▋  | 1526/2000 [00:11<00:03, 135.50it/s]"
     ]
    },
    {
     "name": "stdout",
     "output_type": "stream",
     "text": [
      "[1501] current epoch total loss: 1.651751160621643\n"
     ]
    },
    {
     "name": "stderr",
     "output_type": "stream",
     "text": [
      "MLP Regression Model Training:  89%|████████▉ | 1778/2000 [00:13<00:01, 135.57it/s]"
     ]
    },
    {
     "name": "stdout",
     "output_type": "stream",
     "text": [
      "[1751] current epoch total loss: 1.4060339331626892\n"
     ]
    },
    {
     "name": "stderr",
     "output_type": "stream",
     "text": [
      "MLP Regression Model Training: 100%|██████████| 2000/2000 [00:14<00:00, 135.58it/s]\n"
     ]
    },
    {
     "name": "stdout",
     "output_type": "stream",
     "text": [
      "Training finished, final loss: 1.2805594205856323\n",
      "feature function output shape: torch.Size([454, 32])\n",
      "Loaded full dataset QFT with shape: torch.Size([907, 6]),torch.Size([907])\n",
      "Loaded split dataset QFT train shape: torch.Size([453, 6]) test sizetorch.Size([454, 6]) \n",
      "setup a MLP regression network structure with [6, 64, 64, 32], dropout prob: 0.2\n",
      "MLP Regressor model setup with input dim: 6\n"
     ]
    },
    {
     "name": "stderr",
     "output_type": "stream",
     "text": [
      "MLP Regression Model Training:   1%|          | 14/2000 [00:00<00:14, 134.94it/s]"
     ]
    },
    {
     "name": "stdout",
     "output_type": "stream",
     "text": [
      "[1] current epoch total loss: 68.52903938293457\n"
     ]
    },
    {
     "name": "stderr",
     "output_type": "stream",
     "text": [
      "MLP Regression Model Training:  13%|█▎        | 266/2000 [00:01<00:12, 135.86it/s]"
     ]
    },
    {
     "name": "stdout",
     "output_type": "stream",
     "text": [
      "[251] current epoch total loss: 2.9255579710006714\n"
     ]
    },
    {
     "name": "stderr",
     "output_type": "stream",
     "text": [
      "MLP Regression Model Training:  26%|██▌       | 518/2000 [00:03<00:10, 136.17it/s]"
     ]
    },
    {
     "name": "stdout",
     "output_type": "stream",
     "text": [
      "[501] current epoch total loss: 2.306466221809387\n"
     ]
    },
    {
     "name": "stderr",
     "output_type": "stream",
     "text": [
      "MLP Regression Model Training:  38%|███▊      | 770/2000 [00:05<00:09, 136.03it/s]"
     ]
    },
    {
     "name": "stdout",
     "output_type": "stream",
     "text": [
      "[751] current epoch total loss: 2.1806342601776123\n"
     ]
    },
    {
     "name": "stderr",
     "output_type": "stream",
     "text": [
      "MLP Regression Model Training:  51%|█████     | 1022/2000 [00:07<00:07, 135.85it/s]"
     ]
    },
    {
     "name": "stdout",
     "output_type": "stream",
     "text": [
      "[1001] current epoch total loss: 1.8674159348011017\n"
     ]
    },
    {
     "name": "stderr",
     "output_type": "stream",
     "text": [
      "MLP Regression Model Training:  64%|██████▎   | 1274/2000 [00:09<00:05, 135.62it/s]"
     ]
    },
    {
     "name": "stdout",
     "output_type": "stream",
     "text": [
      "[1251] current epoch total loss: 1.768700659275055\n"
     ]
    },
    {
     "name": "stderr",
     "output_type": "stream",
     "text": [
      "MLP Regression Model Training:  76%|███████▋  | 1526/2000 [00:11<00:03, 136.00it/s]"
     ]
    },
    {
     "name": "stdout",
     "output_type": "stream",
     "text": [
      "[1501] current epoch total loss: 1.5460565388202667\n"
     ]
    },
    {
     "name": "stderr",
     "output_type": "stream",
     "text": [
      "MLP Regression Model Training:  89%|████████▉ | 1778/2000 [00:13<00:01, 135.84it/s]"
     ]
    },
    {
     "name": "stdout",
     "output_type": "stream",
     "text": [
      "[1751] current epoch total loss: 1.3257316052913666\n"
     ]
    },
    {
     "name": "stderr",
     "output_type": "stream",
     "text": [
      "MLP Regression Model Training: 100%|██████████| 2000/2000 [00:14<00:00, 135.92it/s]\n"
     ]
    },
    {
     "name": "stdout",
     "output_type": "stream",
     "text": [
      "Training finished, final loss: 1.2817630469799042\n",
      "feature function output shape: torch.Size([454, 32])\n",
      "Loaded full dataset QFT with shape: torch.Size([907, 6]),torch.Size([907])\n",
      "Loaded split dataset QFT train shape: torch.Size([453, 6]) test sizetorch.Size([454, 6]) \n",
      "setup a MLP regression network structure with [6, 64, 64, 32], dropout prob: 0.2\n",
      "MLP Regressor model setup with input dim: 6\n"
     ]
    },
    {
     "name": "stderr",
     "output_type": "stream",
     "text": [
      "MLP Regression Model Training:   1%|          | 14/2000 [00:00<00:14, 135.22it/s]"
     ]
    },
    {
     "name": "stdout",
     "output_type": "stream",
     "text": [
      "[1] current epoch total loss: 69.62448978424072\n"
     ]
    },
    {
     "name": "stderr",
     "output_type": "stream",
     "text": [
      "MLP Regression Model Training:  13%|█▎        | 266/2000 [00:01<00:12, 135.82it/s]"
     ]
    },
    {
     "name": "stdout",
     "output_type": "stream",
     "text": [
      "[251] current epoch total loss: 3.448829412460327\n"
     ]
    },
    {
     "name": "stderr",
     "output_type": "stream",
     "text": [
      "MLP Regression Model Training:  26%|██▌       | 518/2000 [00:03<00:10, 135.93it/s]"
     ]
    },
    {
     "name": "stdout",
     "output_type": "stream",
     "text": [
      "[501] current epoch total loss: 2.674842357635498\n"
     ]
    },
    {
     "name": "stderr",
     "output_type": "stream",
     "text": [
      "MLP Regression Model Training:  38%|███▊      | 770/2000 [00:05<00:09, 135.71it/s]"
     ]
    },
    {
     "name": "stdout",
     "output_type": "stream",
     "text": [
      "[751] current epoch total loss: 2.3608346581459045\n"
     ]
    },
    {
     "name": "stderr",
     "output_type": "stream",
     "text": [
      "MLP Regression Model Training:  51%|█████     | 1022/2000 [00:07<00:07, 135.50it/s]"
     ]
    },
    {
     "name": "stdout",
     "output_type": "stream",
     "text": [
      "[1001] current epoch total loss: 2.0179371535778046\n"
     ]
    },
    {
     "name": "stderr",
     "output_type": "stream",
     "text": [
      "MLP Regression Model Training:  64%|██████▎   | 1274/2000 [00:09<00:05, 135.87it/s]"
     ]
    },
    {
     "name": "stdout",
     "output_type": "stream",
     "text": [
      "[1251] current epoch total loss: 1.7785551846027374\n"
     ]
    },
    {
     "name": "stderr",
     "output_type": "stream",
     "text": [
      "MLP Regression Model Training:  76%|███████▋  | 1526/2000 [00:11<00:03, 136.12it/s]"
     ]
    },
    {
     "name": "stdout",
     "output_type": "stream",
     "text": [
      "[1501] current epoch total loss: 1.7672289311885834\n"
     ]
    },
    {
     "name": "stderr",
     "output_type": "stream",
     "text": [
      "MLP Regression Model Training:  89%|████████▉ | 1778/2000 [00:13<00:01, 135.97it/s]"
     ]
    },
    {
     "name": "stdout",
     "output_type": "stream",
     "text": [
      "[1751] current epoch total loss: 1.3728273510932922\n"
     ]
    },
    {
     "name": "stderr",
     "output_type": "stream",
     "text": [
      "MLP Regression Model Training: 100%|██████████| 2000/2000 [00:14<00:00, 135.63it/s]\n"
     ]
    },
    {
     "name": "stdout",
     "output_type": "stream",
     "text": [
      "Training finished, final loss: 1.4820432364940643\n",
      "feature function output shape: torch.Size([454, 32])\n",
      "Loaded full dataset QFT with shape: torch.Size([907, 6]),torch.Size([907])\n",
      "Loaded split dataset QFT train shape: torch.Size([453, 6]) test sizetorch.Size([454, 6]) \n",
      "setup a MLP regression network structure with [6, 64, 64, 32], dropout prob: 0.2\n",
      "MLP Regressor model setup with input dim: 6\n"
     ]
    },
    {
     "name": "stderr",
     "output_type": "stream",
     "text": [
      "MLP Regression Model Training:   1%|          | 14/2000 [00:00<00:15, 132.32it/s]"
     ]
    },
    {
     "name": "stdout",
     "output_type": "stream",
     "text": [
      "[1] current epoch total loss: 64.41891098022461\n"
     ]
    },
    {
     "name": "stderr",
     "output_type": "stream",
     "text": [
      "MLP Regression Model Training:  13%|█▎        | 266/2000 [00:01<00:12, 135.29it/s]"
     ]
    },
    {
     "name": "stdout",
     "output_type": "stream",
     "text": [
      "[251] current epoch total loss: 3.2917124032974243\n"
     ]
    },
    {
     "name": "stderr",
     "output_type": "stream",
     "text": [
      "MLP Regression Model Training:  26%|██▌       | 518/2000 [00:03<00:10, 135.06it/s]"
     ]
    },
    {
     "name": "stdout",
     "output_type": "stream",
     "text": [
      "[501] current epoch total loss: 2.9021331071853638\n"
     ]
    },
    {
     "name": "stderr",
     "output_type": "stream",
     "text": [
      "MLP Regression Model Training:  38%|███▊      | 770/2000 [00:05<00:09, 135.84it/s]"
     ]
    },
    {
     "name": "stdout",
     "output_type": "stream",
     "text": [
      "[751] current epoch total loss: 2.1953254640102386\n"
     ]
    },
    {
     "name": "stderr",
     "output_type": "stream",
     "text": [
      "MLP Regression Model Training:  51%|█████     | 1022/2000 [00:07<00:07, 135.67it/s]"
     ]
    },
    {
     "name": "stdout",
     "output_type": "stream",
     "text": [
      "[1001] current epoch total loss: 2.002666413784027\n"
     ]
    },
    {
     "name": "stderr",
     "output_type": "stream",
     "text": [
      "MLP Regression Model Training:  64%|██████▎   | 1274/2000 [00:09<00:05, 136.18it/s]"
     ]
    },
    {
     "name": "stdout",
     "output_type": "stream",
     "text": [
      "[1251] current epoch total loss: 1.6940991878509521\n"
     ]
    },
    {
     "name": "stderr",
     "output_type": "stream",
     "text": [
      "MLP Regression Model Training:  76%|███████▋  | 1526/2000 [00:11<00:03, 136.38it/s]"
     ]
    },
    {
     "name": "stdout",
     "output_type": "stream",
     "text": [
      "[1501] current epoch total loss: 1.3152396231889725\n"
     ]
    },
    {
     "name": "stderr",
     "output_type": "stream",
     "text": [
      "MLP Regression Model Training:  89%|████████▉ | 1778/2000 [00:13<00:01, 136.13it/s]"
     ]
    },
    {
     "name": "stdout",
     "output_type": "stream",
     "text": [
      "[1751] current epoch total loss: 1.4392688870429993\n"
     ]
    },
    {
     "name": "stderr",
     "output_type": "stream",
     "text": [
      "MLP Regression Model Training: 100%|██████████| 2000/2000 [00:14<00:00, 135.59it/s]\n"
     ]
    },
    {
     "name": "stdout",
     "output_type": "stream",
     "text": [
      "Training finished, final loss: 1.2786539644002914\n",
      "feature function output shape: torch.Size([454, 32])\n",
      "Loaded full dataset QFT with shape: torch.Size([907, 6]),torch.Size([907])\n",
      "Loaded split dataset QFT train shape: torch.Size([453, 6]) test sizetorch.Size([454, 6]) \n",
      "setup a MLP regression network structure with [6, 64, 64, 32], dropout prob: 0.2\n",
      "MLP Regressor model setup with input dim: 6\n"
     ]
    },
    {
     "name": "stderr",
     "output_type": "stream",
     "text": [
      "MLP Regression Model Training:   1%|          | 14/2000 [00:00<00:14, 135.29it/s]"
     ]
    },
    {
     "name": "stdout",
     "output_type": "stream",
     "text": [
      "[1] current epoch total loss: 78.39286231994629\n"
     ]
    },
    {
     "name": "stderr",
     "output_type": "stream",
     "text": [
      "MLP Regression Model Training:  13%|█▎        | 266/2000 [00:01<00:12, 136.20it/s]"
     ]
    },
    {
     "name": "stdout",
     "output_type": "stream",
     "text": [
      "[251] current epoch total loss: 3.5037498474121094\n"
     ]
    },
    {
     "name": "stderr",
     "output_type": "stream",
     "text": [
      "MLP Regression Model Training:  26%|██▌       | 518/2000 [00:03<00:10, 135.98it/s]"
     ]
    },
    {
     "name": "stdout",
     "output_type": "stream",
     "text": [
      "[501] current epoch total loss: 2.6746049225330353\n"
     ]
    },
    {
     "name": "stderr",
     "output_type": "stream",
     "text": [
      "MLP Regression Model Training:  38%|███▊      | 770/2000 [00:05<00:09, 135.93it/s]"
     ]
    },
    {
     "name": "stdout",
     "output_type": "stream",
     "text": [
      "[751] current epoch total loss: 2.55687415599823\n"
     ]
    },
    {
     "name": "stderr",
     "output_type": "stream",
     "text": [
      "MLP Regression Model Training:  51%|█████     | 1022/2000 [00:07<00:07, 135.94it/s]"
     ]
    },
    {
     "name": "stdout",
     "output_type": "stream",
     "text": [
      "[1001] current epoch total loss: 2.006640374660492\n"
     ]
    },
    {
     "name": "stderr",
     "output_type": "stream",
     "text": [
      "MLP Regression Model Training:  64%|██████▎   | 1274/2000 [00:09<00:05, 136.02it/s]"
     ]
    },
    {
     "name": "stdout",
     "output_type": "stream",
     "text": [
      "[1251] current epoch total loss: 2.1533972024917603\n"
     ]
    },
    {
     "name": "stderr",
     "output_type": "stream",
     "text": [
      "MLP Regression Model Training:  76%|███████▋  | 1526/2000 [00:11<00:03, 136.04it/s]"
     ]
    },
    {
     "name": "stdout",
     "output_type": "stream",
     "text": [
      "[1501] current epoch total loss: 1.7447809278964996\n"
     ]
    },
    {
     "name": "stderr",
     "output_type": "stream",
     "text": [
      "MLP Regression Model Training:  89%|████████▉ | 1778/2000 [00:13<00:01, 135.97it/s]"
     ]
    },
    {
     "name": "stdout",
     "output_type": "stream",
     "text": [
      "[1751] current epoch total loss: 1.4130298346281052\n"
     ]
    },
    {
     "name": "stderr",
     "output_type": "stream",
     "text": [
      "MLP Regression Model Training: 100%|██████████| 2000/2000 [00:14<00:00, 135.84it/s]\n"
     ]
    },
    {
     "name": "stdout",
     "output_type": "stream",
     "text": [
      "Training finished, final loss: 1.6314314603805542\n",
      "feature function output shape: torch.Size([454, 32])\n",
      "Loaded full dataset QFT with shape: torch.Size([907, 6]),torch.Size([907])\n",
      "Loaded split dataset QFT train shape: torch.Size([453, 6]) test sizetorch.Size([454, 6]) \n",
      "setup a MLP regression network structure with [6, 64, 64, 32], dropout prob: 0.2\n",
      "MLP Regressor model setup with input dim: 6\n"
     ]
    },
    {
     "name": "stderr",
     "output_type": "stream",
     "text": [
      "MLP Regression Model Training:   1%|          | 14/2000 [00:00<00:14, 135.68it/s]"
     ]
    },
    {
     "name": "stdout",
     "output_type": "stream",
     "text": [
      "[1] current epoch total loss: 72.89138984680176\n"
     ]
    },
    {
     "name": "stderr",
     "output_type": "stream",
     "text": [
      "MLP Regression Model Training:  13%|█▎        | 266/2000 [00:01<00:12, 135.07it/s]"
     ]
    },
    {
     "name": "stdout",
     "output_type": "stream",
     "text": [
      "[251] current epoch total loss: 3.1847185492515564\n"
     ]
    },
    {
     "name": "stderr",
     "output_type": "stream",
     "text": [
      "MLP Regression Model Training:  26%|██▌       | 518/2000 [00:03<00:11, 134.59it/s]"
     ]
    },
    {
     "name": "stdout",
     "output_type": "stream",
     "text": [
      "[501] current epoch total loss: 2.3980546593666077\n"
     ]
    },
    {
     "name": "stderr",
     "output_type": "stream",
     "text": [
      "MLP Regression Model Training:  38%|███▊      | 770/2000 [00:05<00:09, 133.92it/s]"
     ]
    },
    {
     "name": "stdout",
     "output_type": "stream",
     "text": [
      "[751] current epoch total loss: 2.4047210812568665\n"
     ]
    },
    {
     "name": "stderr",
     "output_type": "stream",
     "text": [
      "MLP Regression Model Training:  51%|█████     | 1022/2000 [00:07<00:07, 135.63it/s]"
     ]
    },
    {
     "name": "stdout",
     "output_type": "stream",
     "text": [
      "[1001] current epoch total loss: 1.8381225168704987\n"
     ]
    },
    {
     "name": "stderr",
     "output_type": "stream",
     "text": [
      "MLP Regression Model Training:  64%|██████▎   | 1274/2000 [00:09<00:05, 134.96it/s]"
     ]
    },
    {
     "name": "stdout",
     "output_type": "stream",
     "text": [
      "[1251] current epoch total loss: 1.5427627116441727\n"
     ]
    },
    {
     "name": "stderr",
     "output_type": "stream",
     "text": [
      "MLP Regression Model Training:  76%|███████▋  | 1526/2000 [00:11<00:03, 135.05it/s]"
     ]
    },
    {
     "name": "stdout",
     "output_type": "stream",
     "text": [
      "[1501] current epoch total loss: 1.412294864654541\n"
     ]
    },
    {
     "name": "stderr",
     "output_type": "stream",
     "text": [
      "MLP Regression Model Training:  89%|████████▉ | 1778/2000 [00:13<00:01, 135.39it/s]"
     ]
    },
    {
     "name": "stdout",
     "output_type": "stream",
     "text": [
      "[1751] current epoch total loss: 1.4293463826179504\n"
     ]
    },
    {
     "name": "stderr",
     "output_type": "stream",
     "text": [
      "MLP Regression Model Training: 100%|██████████| 2000/2000 [00:14<00:00, 134.51it/s]\n"
     ]
    },
    {
     "name": "stdout",
     "output_type": "stream",
     "text": [
      "Training finished, final loss: 1.252994492650032\n",
      "feature function output shape: torch.Size([454, 32])\n",
      "Loaded full dataset QFT with shape: torch.Size([907, 6]),torch.Size([907])\n",
      "Loaded split dataset QFT train shape: torch.Size([453, 6]) test sizetorch.Size([454, 6]) \n",
      "setup a MLP regression network structure with [6, 64, 64, 32], dropout prob: 0.2\n",
      "MLP Regressor model setup with input dim: 6\n"
     ]
    },
    {
     "name": "stderr",
     "output_type": "stream",
     "text": [
      "MLP Regression Model Training:   1%|          | 14/2000 [00:00<00:14, 135.17it/s]"
     ]
    },
    {
     "name": "stdout",
     "output_type": "stream",
     "text": [
      "[1] current epoch total loss: 84.03436279296875\n"
     ]
    },
    {
     "name": "stderr",
     "output_type": "stream",
     "text": [
      "MLP Regression Model Training:  13%|█▎        | 266/2000 [00:01<00:12, 135.33it/s]"
     ]
    },
    {
     "name": "stdout",
     "output_type": "stream",
     "text": [
      "[251] current epoch total loss: 3.486841320991516\n"
     ]
    },
    {
     "name": "stderr",
     "output_type": "stream",
     "text": [
      "MLP Regression Model Training:  26%|██▌       | 518/2000 [00:03<00:10, 135.34it/s]"
     ]
    },
    {
     "name": "stdout",
     "output_type": "stream",
     "text": [
      "[501] current epoch total loss: 2.4407089352607727\n"
     ]
    },
    {
     "name": "stderr",
     "output_type": "stream",
     "text": [
      "MLP Regression Model Training:  38%|███▊      | 770/2000 [00:05<00:09, 135.19it/s]"
     ]
    },
    {
     "name": "stdout",
     "output_type": "stream",
     "text": [
      "[751] current epoch total loss: 2.242050915956497\n"
     ]
    },
    {
     "name": "stderr",
     "output_type": "stream",
     "text": [
      "MLP Regression Model Training:  51%|█████     | 1022/2000 [00:07<00:07, 135.10it/s]"
     ]
    },
    {
     "name": "stdout",
     "output_type": "stream",
     "text": [
      "[1001] current epoch total loss: 1.7017490565776825\n"
     ]
    },
    {
     "name": "stderr",
     "output_type": "stream",
     "text": [
      "MLP Regression Model Training:  64%|██████▎   | 1274/2000 [00:09<00:05, 135.22it/s]"
     ]
    },
    {
     "name": "stdout",
     "output_type": "stream",
     "text": [
      "[1251] current epoch total loss: 1.5859809517860413\n"
     ]
    },
    {
     "name": "stderr",
     "output_type": "stream",
     "text": [
      "MLP Regression Model Training:  76%|███████▋  | 1526/2000 [00:11<00:03, 135.27it/s]"
     ]
    },
    {
     "name": "stdout",
     "output_type": "stream",
     "text": [
      "[1501] current epoch total loss: 1.5006221234798431\n"
     ]
    },
    {
     "name": "stderr",
     "output_type": "stream",
     "text": [
      "MLP Regression Model Training:  89%|████████▉ | 1778/2000 [00:13<00:01, 135.31it/s]"
     ]
    },
    {
     "name": "stdout",
     "output_type": "stream",
     "text": [
      "[1751] current epoch total loss: 1.2933702170848846\n"
     ]
    },
    {
     "name": "stderr",
     "output_type": "stream",
     "text": [
      "MLP Regression Model Training: 100%|██████████| 2000/2000 [00:14<00:00, 135.30it/s]\n"
     ]
    },
    {
     "name": "stdout",
     "output_type": "stream",
     "text": [
      "Training finished, final loss: 1.210739716887474\n",
      "feature function output shape: torch.Size([454, 32])\n",
      "Loaded full dataset QFT with shape: torch.Size([907, 6]),torch.Size([907])\n",
      "Loaded split dataset QFT train shape: torch.Size([453, 6]) test sizetorch.Size([454, 6]) \n",
      "setup a MLP regression network structure with [6, 64, 64, 32], dropout prob: 0.2\n",
      "MLP Regressor model setup with input dim: 6\n"
     ]
    },
    {
     "name": "stderr",
     "output_type": "stream",
     "text": [
      "MLP Regression Model Training:   1%|          | 14/2000 [00:00<00:14, 135.37it/s]"
     ]
    },
    {
     "name": "stdout",
     "output_type": "stream",
     "text": [
      "[1] current epoch total loss: 79.90814018249512\n"
     ]
    },
    {
     "name": "stderr",
     "output_type": "stream",
     "text": [
      "MLP Regression Model Training:  13%|█▎        | 266/2000 [00:01<00:12, 135.44it/s]"
     ]
    },
    {
     "name": "stdout",
     "output_type": "stream",
     "text": [
      "[251] current epoch total loss: 3.656979203224182\n"
     ]
    },
    {
     "name": "stderr",
     "output_type": "stream",
     "text": [
      "MLP Regression Model Training:  26%|██▌       | 518/2000 [00:03<00:10, 135.81it/s]"
     ]
    },
    {
     "name": "stdout",
     "output_type": "stream",
     "text": [
      "[501] current epoch total loss: 3.0713798999786377\n"
     ]
    },
    {
     "name": "stderr",
     "output_type": "stream",
     "text": [
      "MLP Regression Model Training:  38%|███▊      | 770/2000 [00:05<00:09, 134.54it/s]"
     ]
    },
    {
     "name": "stdout",
     "output_type": "stream",
     "text": [
      "[751] current epoch total loss: 2.4634039998054504\n"
     ]
    },
    {
     "name": "stderr",
     "output_type": "stream",
     "text": [
      "MLP Regression Model Training:  51%|█████     | 1022/2000 [00:07<00:07, 135.45it/s]"
     ]
    },
    {
     "name": "stdout",
     "output_type": "stream",
     "text": [
      "[1001] current epoch total loss: 1.9855069518089294\n"
     ]
    },
    {
     "name": "stderr",
     "output_type": "stream",
     "text": [
      "MLP Regression Model Training:  64%|██████▎   | 1274/2000 [00:09<00:05, 135.43it/s]"
     ]
    },
    {
     "name": "stdout",
     "output_type": "stream",
     "text": [
      "[1251] current epoch total loss: 1.9301114678382874\n"
     ]
    },
    {
     "name": "stderr",
     "output_type": "stream",
     "text": [
      "MLP Regression Model Training:  76%|███████▋  | 1526/2000 [00:11<00:03, 135.51it/s]"
     ]
    },
    {
     "name": "stdout",
     "output_type": "stream",
     "text": [
      "[1501] current epoch total loss: 1.7242507338523865\n"
     ]
    },
    {
     "name": "stderr",
     "output_type": "stream",
     "text": [
      "MLP Regression Model Training:  89%|████████▉ | 1778/2000 [00:13<00:01, 135.90it/s]"
     ]
    },
    {
     "name": "stdout",
     "output_type": "stream",
     "text": [
      "[1751] current epoch total loss: 1.619172841310501\n"
     ]
    },
    {
     "name": "stderr",
     "output_type": "stream",
     "text": [
      "MLP Regression Model Training: 100%|██████████| 2000/2000 [00:14<00:00, 135.53it/s]\n"
     ]
    },
    {
     "name": "stdout",
     "output_type": "stream",
     "text": [
      "Training finished, final loss: 1.7467329502105713\n",
      "feature function output shape: torch.Size([454, 32])\n",
      "Loaded full dataset QFT with shape: torch.Size([907, 6]),torch.Size([907])\n",
      "Loaded split dataset QFT train shape: torch.Size([453, 6]) test sizetorch.Size([454, 6]) \n",
      "setup a MLP regression network structure with [6, 64, 64, 32], dropout prob: 0.2\n",
      "MLP Regressor model setup with input dim: 6\n"
     ]
    },
    {
     "name": "stderr",
     "output_type": "stream",
     "text": [
      "MLP Regression Model Training:   1%|          | 14/2000 [00:00<00:14, 135.05it/s]"
     ]
    },
    {
     "name": "stdout",
     "output_type": "stream",
     "text": [
      "[1] current epoch total loss: 75.92491340637207\n"
     ]
    },
    {
     "name": "stderr",
     "output_type": "stream",
     "text": [
      "MLP Regression Model Training:  13%|█▎        | 266/2000 [00:01<00:12, 135.44it/s]"
     ]
    },
    {
     "name": "stdout",
     "output_type": "stream",
     "text": [
      "[251] current epoch total loss: 2.8862739205360413\n"
     ]
    },
    {
     "name": "stderr",
     "output_type": "stream",
     "text": [
      "MLP Regression Model Training:  26%|██▌       | 518/2000 [00:03<00:10, 135.43it/s]"
     ]
    },
    {
     "name": "stdout",
     "output_type": "stream",
     "text": [
      "[501] current epoch total loss: 2.68415629863739\n"
     ]
    },
    {
     "name": "stderr",
     "output_type": "stream",
     "text": [
      "MLP Regression Model Training:  38%|███▊      | 770/2000 [00:05<00:09, 135.50it/s]"
     ]
    },
    {
     "name": "stdout",
     "output_type": "stream",
     "text": [
      "[751] current epoch total loss: 2.3701823949813843\n"
     ]
    },
    {
     "name": "stderr",
     "output_type": "stream",
     "text": [
      "MLP Regression Model Training:  51%|█████     | 1022/2000 [00:07<00:07, 135.65it/s]"
     ]
    },
    {
     "name": "stdout",
     "output_type": "stream",
     "text": [
      "[1001] current epoch total loss: 2.130132347345352\n"
     ]
    },
    {
     "name": "stderr",
     "output_type": "stream",
     "text": [
      "MLP Regression Model Training:  64%|██████▎   | 1274/2000 [00:09<00:05, 134.57it/s]"
     ]
    },
    {
     "name": "stdout",
     "output_type": "stream",
     "text": [
      "[1251] current epoch total loss: 1.9378824830055237\n"
     ]
    },
    {
     "name": "stderr",
     "output_type": "stream",
     "text": [
      "MLP Regression Model Training:  76%|███████▋  | 1526/2000 [00:11<00:03, 135.36it/s]"
     ]
    },
    {
     "name": "stdout",
     "output_type": "stream",
     "text": [
      "[1501] current epoch total loss: 1.9785552024841309\n"
     ]
    },
    {
     "name": "stderr",
     "output_type": "stream",
     "text": [
      "MLP Regression Model Training:  88%|████████▊ | 1764/2000 [00:13<00:01, 133.84it/s]"
     ]
    },
    {
     "name": "stdout",
     "output_type": "stream",
     "text": [
      "[1751] current epoch total loss: 1.3174376040697098\n"
     ]
    },
    {
     "name": "stderr",
     "output_type": "stream",
     "text": [
      "MLP Regression Model Training: 100%|██████████| 2000/2000 [00:14<00:00, 135.05it/s]\n"
     ]
    },
    {
     "name": "stdout",
     "output_type": "stream",
     "text": [
      "Training finished, final loss: 1.0815014243125916\n",
      "feature function output shape: torch.Size([454, 32])\n",
      "Finished dataset QFT, results saved to: results_run_by_LRJ/QFT/QFT_coverage_bandwidth.csv\n",
      "Also saved QFT_results to results_run_by_LRJ/QFT/QFT_results.pkl\n",
      "Testing feature CP on dataset YH with epochs=2000\n",
      "Loaded full dataset YH with shape: torch.Size([307, 6]),torch.Size([307])\n",
      "Loaded split dataset YH train shape: torch.Size([153, 6]) test sizetorch.Size([154, 6]) \n",
      "setup a MLP regression network structure with [6, 64, 64, 32], dropout prob: 0.2\n",
      "MLP Regressor model setup with input dim: 6\n"
     ]
    },
    {
     "name": "stderr",
     "output_type": "stream",
     "text": [
      "MLP Regression Model Training:   1%|▏         | 27/2000 [00:00<00:07, 264.72it/s]"
     ]
    },
    {
     "name": "stdout",
     "output_type": "stream",
     "text": [
      "[1] current epoch total loss: 488.4600372314453\n"
     ]
    },
    {
     "name": "stderr",
     "output_type": "stream",
     "text": [
      "MLP Regression Model Training:  15%|█▍        | 297/2000 [00:01<00:06, 265.12it/s]"
     ]
    },
    {
     "name": "stdout",
     "output_type": "stream",
     "text": [
      "[251] current epoch total loss: 39.44255828857422\n"
     ]
    },
    {
     "name": "stderr",
     "output_type": "stream",
     "text": [
      "MLP Regression Model Training:  27%|██▋       | 540/2000 [00:02<00:05, 264.94it/s]"
     ]
    },
    {
     "name": "stdout",
     "output_type": "stream",
     "text": [
      "[501] current epoch total loss: 23.879326105117798\n"
     ]
    },
    {
     "name": "stderr",
     "output_type": "stream",
     "text": [
      "MLP Regression Model Training:  39%|███▉      | 783/2000 [00:02<00:04, 266.93it/s]"
     ]
    },
    {
     "name": "stdout",
     "output_type": "stream",
     "text": [
      "[751] current epoch total loss: 23.950547218322754\n"
     ]
    },
    {
     "name": "stderr",
     "output_type": "stream",
     "text": [
      "MLP Regression Model Training:  53%|█████▎    | 1053/2000 [00:03<00:03, 267.27it/s]"
     ]
    },
    {
     "name": "stdout",
     "output_type": "stream",
     "text": [
      "[1001] current epoch total loss: 10.949203968048096\n"
     ]
    },
    {
     "name": "stderr",
     "output_type": "stream",
     "text": [
      "MLP Regression Model Training:  65%|██████▍   | 1296/2000 [00:04<00:02, 267.40it/s]"
     ]
    },
    {
     "name": "stdout",
     "output_type": "stream",
     "text": [
      "[1251] current epoch total loss: 13.083829164505005\n"
     ]
    },
    {
     "name": "stderr",
     "output_type": "stream",
     "text": [
      "MLP Regression Model Training:  77%|███████▋  | 1539/2000 [00:05<00:01, 267.50it/s]"
     ]
    },
    {
     "name": "stdout",
     "output_type": "stream",
     "text": [
      "[1501] current epoch total loss: 9.980731964111328\n"
     ]
    },
    {
     "name": "stderr",
     "output_type": "stream",
     "text": [
      "MLP Regression Model Training:  89%|████████▉ | 1782/2000 [00:06<00:00, 267.09it/s]"
     ]
    },
    {
     "name": "stdout",
     "output_type": "stream",
     "text": [
      "[1751] current epoch total loss: 13.11164903640747\n"
     ]
    },
    {
     "name": "stderr",
     "output_type": "stream",
     "text": [
      "MLP Regression Model Training: 100%|██████████| 2000/2000 [00:07<00:00, 266.68it/s]\n"
     ]
    },
    {
     "name": "stdout",
     "output_type": "stream",
     "text": [
      "Training finished, final loss: 11.47105598449707\n"
     ]
    },
    {
     "data": {
      "image/png": "[encoded data removed]",
      "text/plain": [
       "<Figure size 640x480 with 1 Axes>"
      ]
     },
     "metadata": {},
     "output_type": "display_data"
    },
    {
     "name": "stdout",
     "output_type": "stream",
     "text": [
      "feature function output shape: torch.Size([154, 32])\n",
      "Loaded full dataset YH with shape: torch.Size([307, 6]),torch.Size([307])\n",
      "Loaded split dataset YH train shape: torch.Size([153, 6]) test sizetorch.Size([154, 6]) \n",
      "setup a MLP regression network structure with [6, 64, 64, 32], dropout prob: 0.2\n",
      "MLP Regressor model setup with input dim: 6\n"
     ]
    },
    {
     "name": "stderr",
     "output_type": "stream",
     "text": [
      "MLP Regression Model Training:   0%|          | 0/2000 [00:00<?, ?it/s]"
     ]
    },
    {
     "name": "stdout",
     "output_type": "stream",
     "text": [
      "[1] current epoch total loss: 773.2081298828125\n"
     ]
    },
    {
     "name": "stderr",
     "output_type": "stream",
     "text": [
      "MLP Regression Model Training:  15%|█▍        | 297/2000 [00:01<00:06, 266.94it/s]"
     ]
    },
    {
     "name": "stdout",
     "output_type": "stream",
     "text": [
      "[251] current epoch total loss: 61.3744010925293\n"
     ]
    },
    {
     "name": "stderr",
     "output_type": "stream",
     "text": [
      "MLP Regression Model Training:  27%|██▋       | 540/2000 [00:02<00:05, 266.96it/s]"
     ]
    },
    {
     "name": "stdout",
     "output_type": "stream",
     "text": [
      "[501] current epoch total loss: 23.875435829162598\n"
     ]
    },
    {
     "name": "stderr",
     "output_type": "stream",
     "text": [
      "MLP Regression Model Training:  39%|███▉      | 783/2000 [00:02<00:04, 267.31it/s]"
     ]
    },
    {
     "name": "stdout",
     "output_type": "stream",
     "text": [
      "[751] current epoch total loss: 20.91233253479004\n"
     ]
    },
    {
     "name": "stderr",
     "output_type": "stream",
     "text": [
      "MLP Regression Model Training:  53%|█████▎    | 1053/2000 [00:03<00:03, 267.25it/s]"
     ]
    },
    {
     "name": "stdout",
     "output_type": "stream",
     "text": [
      "[1001] current epoch total loss: 13.155716896057129\n"
     ]
    },
    {
     "name": "stderr",
     "output_type": "stream",
     "text": [
      "MLP Regression Model Training:  65%|██████▍   | 1296/2000 [00:04<00:02, 267.34it/s]"
     ]
    },
    {
     "name": "stdout",
     "output_type": "stream",
     "text": [
      "[1251] current epoch total loss: 20.732258796691895\n"
     ]
    },
    {
     "name": "stderr",
     "output_type": "stream",
     "text": [
      "MLP Regression Model Training:  77%|███████▋  | 1539/2000 [00:05<00:01, 267.19it/s]"
     ]
    },
    {
     "name": "stdout",
     "output_type": "stream",
     "text": [
      "[1501] current epoch total loss: 12.48548173904419\n"
     ]
    },
    {
     "name": "stderr",
     "output_type": "stream",
     "text": [
      "MLP Regression Model Training:  89%|████████▉ | 1782/2000 [00:06<00:00, 267.35it/s]"
     ]
    },
    {
     "name": "stdout",
     "output_type": "stream",
     "text": [
      "[1751] current epoch total loss: 12.71636152267456\n"
     ]
    },
    {
     "name": "stderr",
     "output_type": "stream",
     "text": [
      "MLP Regression Model Training: 100%|██████████| 2000/2000 [00:07<00:00, 266.96it/s]\n"
     ]
    },
    {
     "name": "stdout",
     "output_type": "stream",
     "text": [
      "Training finished, final loss: 14.096207618713379\n",
      "feature function output shape: torch.Size([154, 32])\n",
      "Loaded full dataset YH with shape: torch.Size([307, 6]),torch.Size([307])\n",
      "Loaded split dataset YH train shape: torch.Size([153, 6]) test sizetorch.Size([154, 6]) \n",
      "setup a MLP regression network structure with [6, 64, 64, 32], dropout prob: 0.2\n",
      "MLP Regressor model setup with input dim: 6\n"
     ]
    },
    {
     "name": "stderr",
     "output_type": "stream",
     "text": [
      "MLP Regression Model Training:   1%|▏         | 27/2000 [00:00<00:07, 265.37it/s]"
     ]
    },
    {
     "name": "stdout",
     "output_type": "stream",
     "text": [
      "[1] current epoch total loss: 662.2908935546875\n"
     ]
    },
    {
     "name": "stderr",
     "output_type": "stream",
     "text": [
      "MLP Regression Model Training:  15%|█▍        | 297/2000 [00:01<00:06, 265.61it/s]"
     ]
    },
    {
     "name": "stdout",
     "output_type": "stream",
     "text": [
      "[251] current epoch total loss: 60.52475929260254\n"
     ]
    },
    {
     "name": "stderr",
     "output_type": "stream",
     "text": [
      "MLP Regression Model Training:  27%|██▋       | 540/2000 [00:02<00:05, 265.63it/s]"
     ]
    },
    {
     "name": "stdout",
     "output_type": "stream",
     "text": [
      "[501] current epoch total loss: 48.57333183288574\n"
     ]
    },
    {
     "name": "stderr",
     "output_type": "stream",
     "text": [
      "MLP Regression Model Training:  39%|███▉      | 783/2000 [00:02<00:04, 265.63it/s]"
     ]
    },
    {
     "name": "stdout",
     "output_type": "stream",
     "text": [
      "[751] current epoch total loss: 24.96371078491211\n"
     ]
    },
    {
     "name": "stderr",
     "output_type": "stream",
     "text": [
      "MLP Regression Model Training:  53%|█████▎    | 1053/2000 [00:03<00:03, 265.56it/s]"
     ]
    },
    {
     "name": "stdout",
     "output_type": "stream",
     "text": [
      "[1001] current epoch total loss: 29.97026252746582\n"
     ]
    },
    {
     "name": "stderr",
     "output_type": "stream",
     "text": [
      "MLP Regression Model Training:  65%|██████▍   | 1296/2000 [00:04<00:02, 265.53it/s]"
     ]
    },
    {
     "name": "stdout",
     "output_type": "stream",
     "text": [
      "[1251] current epoch total loss: 18.79224967956543\n"
     ]
    },
    {
     "name": "stderr",
     "output_type": "stream",
     "text": [
      "MLP Regression Model Training:  77%|███████▋  | 1539/2000 [00:05<00:01, 265.73it/s]"
     ]
    },
    {
     "name": "stdout",
     "output_type": "stream",
     "text": [
      "[1501] current epoch total loss: 25.93138885498047\n"
     ]
    },
    {
     "name": "stderr",
     "output_type": "stream",
     "text": [
      "MLP Regression Model Training:  89%|████████▉ | 1782/2000 [00:06<00:00, 266.56it/s]"
     ]
    },
    {
     "name": "stdout",
     "output_type": "stream",
     "text": [
      "[1751] current epoch total loss: 16.003715991973877\n"
     ]
    },
    {
     "name": "stderr",
     "output_type": "stream",
     "text": [
      "MLP Regression Model Training: 100%|██████████| 2000/2000 [00:07<00:00, 265.89it/s]\n"
     ]
    },
    {
     "name": "stdout",
     "output_type": "stream",
     "text": [
      "Training finished, final loss: 11.890052556991577\n",
      "feature function output shape: torch.Size([154, 32])\n",
      "Loaded full dataset YH with shape: torch.Size([307, 6]),torch.Size([307])\n",
      "Loaded split dataset YH train shape: torch.Size([153, 6]) test sizetorch.Size([154, 6]) \n",
      "setup a MLP regression network structure with [6, 64, 64, 32], dropout prob: 0.2\n",
      "MLP Regressor model setup with input dim: 6\n"
     ]
    },
    {
     "name": "stderr",
     "output_type": "stream",
     "text": [
      "MLP Regression Model Training:   1%|▏         | 27/2000 [00:00<00:07, 266.05it/s]"
     ]
    },
    {
     "name": "stdout",
     "output_type": "stream",
     "text": [
      "[1] current epoch total loss: 632.9700012207031\n"
     ]
    },
    {
     "name": "stderr",
     "output_type": "stream",
     "text": [
      "MLP Regression Model Training:  15%|█▍        | 297/2000 [00:01<00:06, 266.08it/s]"
     ]
    },
    {
     "name": "stdout",
     "output_type": "stream",
     "text": [
      "[251] current epoch total loss: 51.85959339141846\n"
     ]
    },
    {
     "name": "stderr",
     "output_type": "stream",
     "text": [
      "MLP Regression Model Training:  27%|██▋       | 540/2000 [00:02<00:05, 267.40it/s]"
     ]
    },
    {
     "name": "stdout",
     "output_type": "stream",
     "text": [
      "[501] current epoch total loss: 26.378046989440918\n"
     ]
    },
    {
     "name": "stderr",
     "output_type": "stream",
     "text": [
      "MLP Regression Model Training:  39%|███▉      | 783/2000 [00:02<00:04, 267.63it/s]"
     ]
    },
    {
     "name": "stdout",
     "output_type": "stream",
     "text": [
      "[751] current epoch total loss: 24.7610821723938\n"
     ]
    },
    {
     "name": "stderr",
     "output_type": "stream",
     "text": [
      "MLP Regression Model Training:  53%|█████▎    | 1053/2000 [00:03<00:03, 267.81it/s]"
     ]
    },
    {
     "name": "stdout",
     "output_type": "stream",
     "text": [
      "[1001] current epoch total loss: 17.071038246154785\n"
     ]
    },
    {
     "name": "stderr",
     "output_type": "stream",
     "text": [
      "MLP Regression Model Training:  65%|██████▍   | 1296/2000 [00:04<00:02, 267.75it/s]"
     ]
    },
    {
     "name": "stdout",
     "output_type": "stream",
     "text": [
      "[1251] current epoch total loss: 16.71700143814087\n"
     ]
    },
    {
     "name": "stderr",
     "output_type": "stream",
     "text": [
      "MLP Regression Model Training:  77%|███████▋  | 1539/2000 [00:05<00:01, 267.67it/s]"
     ]
    },
    {
     "name": "stdout",
     "output_type": "stream",
     "text": [
      "[1501] current epoch total loss: 12.462310314178467\n"
     ]
    },
    {
     "name": "stderr",
     "output_type": "stream",
     "text": [
      "MLP Regression Model Training:  89%|████████▉ | 1782/2000 [00:06<00:00, 267.32it/s]"
     ]
    },
    {
     "name": "stdout",
     "output_type": "stream",
     "text": [
      "[1751] current epoch total loss: 16.820618152618408\n"
     ]
    },
    {
     "name": "stderr",
     "output_type": "stream",
     "text": [
      "MLP Regression Model Training: 100%|██████████| 2000/2000 [00:07<00:00, 267.31it/s]\n"
     ]
    },
    {
     "name": "stdout",
     "output_type": "stream",
     "text": [
      "Training finished, final loss: 15.500483989715576\n",
      "feature function output shape: torch.Size([154, 32])\n",
      "Loaded full dataset YH with shape: torch.Size([307, 6]),torch.Size([307])\n",
      "Loaded split dataset YH train shape: torch.Size([153, 6]) test sizetorch.Size([154, 6]) \n",
      "setup a MLP regression network structure with [6, 64, 64, 32], dropout prob: 0.2\n",
      "MLP Regressor model setup with input dim: 6\n"
     ]
    },
    {
     "name": "stderr",
     "output_type": "stream",
     "text": [
      "MLP Regression Model Training:   1%|▏         | 27/2000 [00:00<00:07, 265.51it/s]"
     ]
    },
    {
     "name": "stdout",
     "output_type": "stream",
     "text": [
      "[1] current epoch total loss: 967.0628051757812\n"
     ]
    },
    {
     "name": "stderr",
     "output_type": "stream",
     "text": [
      "MLP Regression Model Training:  15%|█▍        | 297/2000 [00:01<00:06, 266.59it/s]"
     ]
    },
    {
     "name": "stdout",
     "output_type": "stream",
     "text": [
      "[251] current epoch total loss: 87.52758026123047\n"
     ]
    },
    {
     "name": "stderr",
     "output_type": "stream",
     "text": [
      "MLP Regression Model Training:  27%|██▋       | 540/2000 [00:02<00:05, 265.59it/s]"
     ]
    },
    {
     "name": "stdout",
     "output_type": "stream",
     "text": [
      "[501] current epoch total loss: 37.15738296508789\n"
     ]
    },
    {
     "name": "stderr",
     "output_type": "stream",
     "text": [
      "MLP Regression Model Training:  39%|███▉      | 783/2000 [00:02<00:04, 266.29it/s]"
     ]
    },
    {
     "name": "stdout",
     "output_type": "stream",
     "text": [
      "[751] current epoch total loss: 17.417105674743652\n"
     ]
    },
    {
     "name": "stderr",
     "output_type": "stream",
     "text": [
      "MLP Regression Model Training:  53%|█████▎    | 1053/2000 [00:03<00:03, 266.08it/s]"
     ]
    },
    {
     "name": "stdout",
     "output_type": "stream",
     "text": [
      "[1001] current epoch total loss: 22.881023406982422\n"
     ]
    },
    {
     "name": "stderr",
     "output_type": "stream",
     "text": [
      "MLP Regression Model Training:  65%|██████▍   | 1296/2000 [00:04<00:02, 265.74it/s]"
     ]
    },
    {
     "name": "stdout",
     "output_type": "stream",
     "text": [
      "[1251] current epoch total loss: 24.139942169189453\n"
     ]
    },
    {
     "name": "stderr",
     "output_type": "stream",
     "text": [
      "MLP Regression Model Training:  77%|███████▋  | 1539/2000 [00:05<00:01, 268.50it/s]"
     ]
    },
    {
     "name": "stdout",
     "output_type": "stream",
     "text": [
      "[1501] current epoch total loss: 25.59006118774414\n"
     ]
    },
    {
     "name": "stderr",
     "output_type": "stream",
     "text": [
      "MLP Regression Model Training:  89%|████████▉ | 1782/2000 [00:06<00:00, 268.76it/s]"
     ]
    },
    {
     "name": "stdout",
     "output_type": "stream",
     "text": [
      "[1751] current epoch total loss: 13.585222482681274\n"
     ]
    },
    {
     "name": "stderr",
     "output_type": "stream",
     "text": [
      "MLP Regression Model Training: 100%|██████████| 2000/2000 [00:07<00:00, 267.05it/s]\n"
     ]
    },
    {
     "name": "stdout",
     "output_type": "stream",
     "text": [
      "Training finished, final loss: 16.852581024169922\n",
      "feature function output shape: torch.Size([154, 32])\n",
      "Loaded full dataset YH with shape: torch.Size([307, 6]),torch.Size([307])\n",
      "Loaded split dataset YH train shape: torch.Size([153, 6]) test sizetorch.Size([154, 6]) \n",
      "setup a MLP regression network structure with [6, 64, 64, 32], dropout prob: 0.2\n",
      "MLP Regressor model setup with input dim: 6\n"
     ]
    },
    {
     "name": "stderr",
     "output_type": "stream",
     "text": [
      "MLP Regression Model Training:   1%|▏         | 27/2000 [00:00<00:07, 268.38it/s]"
     ]
    },
    {
     "name": "stdout",
     "output_type": "stream",
     "text": [
      "[1] current epoch total loss: 807.8811645507812\n"
     ]
    },
    {
     "name": "stderr",
     "output_type": "stream",
     "text": [
      "MLP Regression Model Training:  15%|█▍        | 297/2000 [00:01<00:06, 268.91it/s]"
     ]
    },
    {
     "name": "stdout",
     "output_type": "stream",
     "text": [
      "[251] current epoch total loss: 51.109994888305664\n"
     ]
    },
    {
     "name": "stderr",
     "output_type": "stream",
     "text": [
      "MLP Regression Model Training:  27%|██▋       | 540/2000 [00:02<00:05, 266.69it/s]"
     ]
    },
    {
     "name": "stdout",
     "output_type": "stream",
     "text": [
      "[501] current epoch total loss: 29.319499969482422\n"
     ]
    },
    {
     "name": "stderr",
     "output_type": "stream",
     "text": [
      "MLP Regression Model Training:  39%|███▉      | 783/2000 [00:02<00:04, 265.20it/s]"
     ]
    },
    {
     "name": "stdout",
     "output_type": "stream",
     "text": [
      "[751] current epoch total loss: 25.644776344299316\n"
     ]
    },
    {
     "name": "stderr",
     "output_type": "stream",
     "text": [
      "MLP Regression Model Training:  53%|█████▎    | 1053/2000 [00:03<00:03, 262.62it/s]"
     ]
    },
    {
     "name": "stdout",
     "output_type": "stream",
     "text": [
      "[1001] current epoch total loss: 17.093953609466553\n"
     ]
    },
    {
     "name": "stderr",
     "output_type": "stream",
     "text": [
      "MLP Regression Model Training:  65%|██████▍   | 1296/2000 [00:04<00:02, 263.35it/s]"
     ]
    },
    {
     "name": "stdout",
     "output_type": "stream",
     "text": [
      "[1251] current epoch total loss: 19.78023338317871\n"
     ]
    },
    {
     "name": "stderr",
     "output_type": "stream",
     "text": [
      "MLP Regression Model Training:  77%|███████▋  | 1539/2000 [00:05<00:01, 262.30it/s]"
     ]
    },
    {
     "name": "stdout",
     "output_type": "stream",
     "text": [
      "[1501] current epoch total loss: 14.77922511100769\n"
     ]
    },
    {
     "name": "stderr",
     "output_type": "stream",
     "text": [
      "MLP Regression Model Training:  89%|████████▉ | 1782/2000 [00:06<00:00, 263.29it/s]"
     ]
    },
    {
     "name": "stdout",
     "output_type": "stream",
     "text": [
      "[1751] current epoch total loss: 20.117947578430176\n"
     ]
    },
    {
     "name": "stderr",
     "output_type": "stream",
     "text": [
      "MLP Regression Model Training: 100%|██████████| 2000/2000 [00:07<00:00, 264.14it/s]\n"
     ]
    },
    {
     "name": "stdout",
     "output_type": "stream",
     "text": [
      "Training finished, final loss: 13.081311702728271\n",
      "feature function output shape: torch.Size([154, 32])\n",
      "Loaded full dataset YH with shape: torch.Size([307, 6]),torch.Size([307])\n",
      "Loaded split dataset YH train shape: torch.Size([153, 6]) test sizetorch.Size([154, 6]) \n",
      "setup a MLP regression network structure with [6, 64, 64, 32], dropout prob: 0.2\n",
      "MLP Regressor model setup with input dim: 6\n"
     ]
    },
    {
     "name": "stderr",
     "output_type": "stream",
     "text": [
      "MLP Regression Model Training:   1%|▏         | 27/2000 [00:00<00:07, 265.42it/s]"
     ]
    },
    {
     "name": "stdout",
     "output_type": "stream",
     "text": [
      "[1] current epoch total loss: 705.4461364746094\n"
     ]
    },
    {
     "name": "stderr",
     "output_type": "stream",
     "text": [
      "MLP Regression Model Training:  15%|█▍        | 297/2000 [00:01<00:06, 267.63it/s]"
     ]
    },
    {
     "name": "stdout",
     "output_type": "stream",
     "text": [
      "[251] current epoch total loss: 41.84649658203125\n"
     ]
    },
    {
     "name": "stderr",
     "output_type": "stream",
     "text": [
      "MLP Regression Model Training:  27%|██▋       | 540/2000 [00:02<00:05, 268.21it/s]"
     ]
    },
    {
     "name": "stdout",
     "output_type": "stream",
     "text": [
      "[501] current epoch total loss: 34.6226921081543\n"
     ]
    },
    {
     "name": "stderr",
     "output_type": "stream",
     "text": [
      "MLP Regression Model Training:  39%|███▉      | 783/2000 [00:02<00:04, 268.75it/s]"
     ]
    },
    {
     "name": "stdout",
     "output_type": "stream",
     "text": [
      "[751] current epoch total loss: 32.745676040649414\n"
     ]
    },
    {
     "name": "stderr",
     "output_type": "stream",
     "text": [
      "MLP Regression Model Training:  53%|█████▎    | 1053/2000 [00:03<00:03, 268.60it/s]"
     ]
    },
    {
     "name": "stdout",
     "output_type": "stream",
     "text": [
      "[1001] current epoch total loss: 17.700568199157715\n"
     ]
    },
    {
     "name": "stderr",
     "output_type": "stream",
     "text": [
      "MLP Regression Model Training:  65%|██████▍   | 1296/2000 [00:04<00:02, 266.55it/s]"
     ]
    },
    {
     "name": "stdout",
     "output_type": "stream",
     "text": [
      "[1251] current epoch total loss: 16.389182090759277\n"
     ]
    },
    {
     "name": "stderr",
     "output_type": "stream",
     "text": [
      "MLP Regression Model Training:  77%|███████▋  | 1539/2000 [00:05<00:01, 266.45it/s]"
     ]
    },
    {
     "name": "stdout",
     "output_type": "stream",
     "text": [
      "[1501] current epoch total loss: 13.650486946105957\n"
     ]
    },
    {
     "name": "stderr",
     "output_type": "stream",
     "text": [
      "MLP Regression Model Training:  89%|████████▉ | 1782/2000 [00:06<00:00, 267.46it/s]"
     ]
    },
    {
     "name": "stdout",
     "output_type": "stream",
     "text": [
      "[1751] current epoch total loss: 19.135700225830078\n"
     ]
    },
    {
     "name": "stderr",
     "output_type": "stream",
     "text": [
      "MLP Regression Model Training: 100%|██████████| 2000/2000 [00:07<00:00, 267.49it/s]\n"
     ]
    },
    {
     "name": "stdout",
     "output_type": "stream",
     "text": [
      "Training finished, final loss: 16.54782772064209\n",
      "feature function output shape: torch.Size([154, 32])\n",
      "Loaded full dataset YH with shape: torch.Size([307, 6]),torch.Size([307])\n",
      "Loaded split dataset YH train shape: torch.Size([153, 6]) test sizetorch.Size([154, 6]) \n",
      "setup a MLP regression network structure with [6, 64, 64, 32], dropout prob: 0.2\n",
      "MLP Regressor model setup with input dim: 6\n"
     ]
    },
    {
     "name": "stderr",
     "output_type": "stream",
     "text": [
      "MLP Regression Model Training:   1%|▏         | 27/2000 [00:00<00:07, 267.62it/s]"
     ]
    },
    {
     "name": "stdout",
     "output_type": "stream",
     "text": [
      "[1] current epoch total loss: 574.733642578125\n"
     ]
    },
    {
     "name": "stderr",
     "output_type": "stream",
     "text": [
      "MLP Regression Model Training:  15%|█▍        | 297/2000 [00:01<00:06, 268.03it/s]"
     ]
    },
    {
     "name": "stdout",
     "output_type": "stream",
     "text": [
      "[251] current epoch total loss: 37.246137619018555\n"
     ]
    },
    {
     "name": "stderr",
     "output_type": "stream",
     "text": [
      "MLP Regression Model Training:  27%|██▋       | 540/2000 [00:02<00:05, 267.93it/s]"
     ]
    },
    {
     "name": "stdout",
     "output_type": "stream",
     "text": [
      "[501] current epoch total loss: 21.140209674835205\n"
     ]
    },
    {
     "name": "stderr",
     "output_type": "stream",
     "text": [
      "MLP Regression Model Training:  39%|███▉      | 783/2000 [00:02<00:04, 268.08it/s]"
     ]
    },
    {
     "name": "stdout",
     "output_type": "stream",
     "text": [
      "[751] current epoch total loss: 10.709083795547485\n"
     ]
    },
    {
     "name": "stderr",
     "output_type": "stream",
     "text": [
      "MLP Regression Model Training:  53%|█████▎    | 1054/2000 [00:03<00:03, 268.76it/s]"
     ]
    },
    {
     "name": "stdout",
     "output_type": "stream",
     "text": [
      "[1001] current epoch total loss: 20.220680713653564\n"
     ]
    },
    {
     "name": "stderr",
     "output_type": "stream",
     "text": [
      "MLP Regression Model Training:  65%|██████▍   | 1297/2000 [00:04<00:02, 265.48it/s]"
     ]
    },
    {
     "name": "stdout",
     "output_type": "stream",
     "text": [
      "[1251] current epoch total loss: 16.59550189971924\n"
     ]
    },
    {
     "name": "stderr",
     "output_type": "stream",
     "text": [
      "MLP Regression Model Training:  77%|███████▋  | 1540/2000 [00:05<00:01, 265.89it/s]"
     ]
    },
    {
     "name": "stdout",
     "output_type": "stream",
     "text": [
      "[1501] current epoch total loss: 9.794700860977173\n"
     ]
    },
    {
     "name": "stderr",
     "output_type": "stream",
     "text": [
      "MLP Regression Model Training:  89%|████████▉ | 1783/2000 [00:06<00:00, 265.83it/s]"
     ]
    },
    {
     "name": "stdout",
     "output_type": "stream",
     "text": [
      "[1751] current epoch total loss: 10.182774782180786\n"
     ]
    },
    {
     "name": "stderr",
     "output_type": "stream",
     "text": [
      "MLP Regression Model Training: 100%|██████████| 2000/2000 [00:07<00:00, 266.92it/s]\n"
     ]
    },
    {
     "name": "stdout",
     "output_type": "stream",
     "text": [
      "Training finished, final loss: 11.36262321472168\n",
      "feature function output shape: torch.Size([154, 32])\n",
      "Loaded full dataset YH with shape: torch.Size([307, 6]),torch.Size([307])\n",
      "Loaded split dataset YH train shape: torch.Size([153, 6]) test sizetorch.Size([154, 6]) \n",
      "setup a MLP regression network structure with [6, 64, 64, 32], dropout prob: 0.2\n",
      "MLP Regressor model setup with input dim: 6\n"
     ]
    },
    {
     "name": "stderr",
     "output_type": "stream",
     "text": [
      "MLP Regression Model Training:   1%|▏         | 27/2000 [00:00<00:07, 264.21it/s]"
     ]
    },
    {
     "name": "stdout",
     "output_type": "stream",
     "text": [
      "[1] current epoch total loss: 1046.5062866210938\n"
     ]
    },
    {
     "name": "stderr",
     "output_type": "stream",
     "text": [
      "MLP Regression Model Training:  15%|█▍        | 297/2000 [00:01<00:06, 265.59it/s]"
     ]
    },
    {
     "name": "stdout",
     "output_type": "stream",
     "text": [
      "[251] current epoch total loss: 127.03131866455078\n"
     ]
    },
    {
     "name": "stderr",
     "output_type": "stream",
     "text": [
      "MLP Regression Model Training:  27%|██▋       | 540/2000 [00:02<00:05, 265.50it/s]"
     ]
    },
    {
     "name": "stdout",
     "output_type": "stream",
     "text": [
      "[501] current epoch total loss: 68.20783424377441\n"
     ]
    },
    {
     "name": "stderr",
     "output_type": "stream",
     "text": [
      "MLP Regression Model Training:  39%|███▉      | 783/2000 [00:02<00:04, 265.46it/s]"
     ]
    },
    {
     "name": "stdout",
     "output_type": "stream",
     "text": [
      "[751] current epoch total loss: 73.67505264282227\n"
     ]
    },
    {
     "name": "stderr",
     "output_type": "stream",
     "text": [
      "MLP Regression Model Training:  53%|█████▎    | 1053/2000 [00:03<00:03, 265.66it/s]"
     ]
    },
    {
     "name": "stdout",
     "output_type": "stream",
     "text": [
      "[1001] current epoch total loss: 36.03170108795166\n"
     ]
    },
    {
     "name": "stderr",
     "output_type": "stream",
     "text": [
      "MLP Regression Model Training:  65%|██████▍   | 1296/2000 [00:04<00:02, 264.10it/s]"
     ]
    },
    {
     "name": "stdout",
     "output_type": "stream",
     "text": [
      "[1251] current epoch total loss: 42.733346939086914\n"
     ]
    },
    {
     "name": "stderr",
     "output_type": "stream",
     "text": [
      "MLP Regression Model Training:  77%|███████▋  | 1539/2000 [00:05<00:01, 265.18it/s]"
     ]
    },
    {
     "name": "stdout",
     "output_type": "stream",
     "text": [
      "[1501] current epoch total loss: 39.34187316894531\n"
     ]
    },
    {
     "name": "stderr",
     "output_type": "stream",
     "text": [
      "MLP Regression Model Training:  89%|████████▉ | 1782/2000 [00:06<00:00, 265.41it/s]"
     ]
    },
    {
     "name": "stdout",
     "output_type": "stream",
     "text": [
      "[1751] current epoch total loss: 27.77182149887085\n"
     ]
    },
    {
     "name": "stderr",
     "output_type": "stream",
     "text": [
      "MLP Regression Model Training: 100%|██████████| 2000/2000 [00:07<00:00, 265.35it/s]\n"
     ]
    },
    {
     "name": "stdout",
     "output_type": "stream",
     "text": [
      "Training finished, final loss: 12.972461223602295\n",
      "feature function output shape: torch.Size([154, 32])\n",
      "Loaded full dataset YH with shape: torch.Size([307, 6]),torch.Size([307])\n",
      "Loaded split dataset YH train shape: torch.Size([153, 6]) test sizetorch.Size([154, 6]) \n",
      "setup a MLP regression network structure with [6, 64, 64, 32], dropout prob: 0.2\n",
      "MLP Regressor model setup with input dim: 6\n"
     ]
    },
    {
     "name": "stderr",
     "output_type": "stream",
     "text": [
      "MLP Regression Model Training:   1%|▏         | 27/2000 [00:00<00:07, 263.56it/s]"
     ]
    },
    {
     "name": "stdout",
     "output_type": "stream",
     "text": [
      "[1] current epoch total loss: 673.2099304199219\n"
     ]
    },
    {
     "name": "stderr",
     "output_type": "stream",
     "text": [
      "MLP Regression Model Training:  15%|█▍        | 297/2000 [00:01<00:06, 265.78it/s]"
     ]
    },
    {
     "name": "stdout",
     "output_type": "stream",
     "text": [
      "[251] current epoch total loss: 54.19676971435547\n"
     ]
    },
    {
     "name": "stderr",
     "output_type": "stream",
     "text": [
      "MLP Regression Model Training:  27%|██▋       | 540/2000 [00:02<00:05, 265.80it/s]"
     ]
    },
    {
     "name": "stdout",
     "output_type": "stream",
     "text": [
      "[501] current epoch total loss: 27.196179389953613\n"
     ]
    },
    {
     "name": "stderr",
     "output_type": "stream",
     "text": [
      "MLP Regression Model Training:  39%|███▉      | 783/2000 [00:02<00:04, 265.60it/s]"
     ]
    },
    {
     "name": "stdout",
     "output_type": "stream",
     "text": [
      "[751] current epoch total loss: 30.97181987762451\n"
     ]
    },
    {
     "name": "stderr",
     "output_type": "stream",
     "text": [
      "MLP Regression Model Training:  53%|█████▎    | 1053/2000 [00:03<00:03, 265.31it/s]"
     ]
    },
    {
     "name": "stdout",
     "output_type": "stream",
     "text": [
      "[1001] current epoch total loss: 20.347593307495117\n"
     ]
    },
    {
     "name": "stderr",
     "output_type": "stream",
     "text": [
      "MLP Regression Model Training:  65%|██████▍   | 1296/2000 [00:04<00:02, 265.18it/s]"
     ]
    },
    {
     "name": "stdout",
     "output_type": "stream",
     "text": [
      "[1251] current epoch total loss: 12.923265933990479\n"
     ]
    },
    {
     "name": "stderr",
     "output_type": "stream",
     "text": [
      "MLP Regression Model Training:  77%|███████▋  | 1539/2000 [00:05<00:01, 265.46it/s]"
     ]
    },
    {
     "name": "stdout",
     "output_type": "stream",
     "text": [
      "[1501] current epoch total loss: 14.689858436584473\n"
     ]
    },
    {
     "name": "stderr",
     "output_type": "stream",
     "text": [
      "MLP Regression Model Training:  89%|████████▉ | 1782/2000 [00:06<00:00, 264.67it/s]"
     ]
    },
    {
     "name": "stdout",
     "output_type": "stream",
     "text": [
      "[1751] current epoch total loss: 9.799016952514648\n"
     ]
    },
    {
     "name": "stderr",
     "output_type": "stream",
     "text": [
      "MLP Regression Model Training: 100%|██████████| 2000/2000 [00:07<00:00, 265.15it/s]"
     ]
    },
    {
     "name": "stdout",
     "output_type": "stream",
     "text": [
      "Training finished, final loss: 12.71989631652832\n",
      "feature function output shape: torch.Size([154, 32])\n",
      "Finished dataset YH, results saved to: results_run_by_LRJ/YH/YH_coverage_bandwidth.csv\n",
      "Also saved YH_results to results_run_by_LRJ/YH/YH_results.pkl\n",
      "All done!\n"
     ]
    },
    {
     "name": "stderr",
     "output_type": "stream",
     "text": [
      "\n"
     ]
    }
   ],
   "source": [
    "import torch\n",
    "import sys\n",
    "import os\n",
    "import pandas as pd\n",
    "import pickle  # 新增：用于保存 .pkl 文件\n",
    "from torch import nn\n",
    "from tqdm import tqdm\n",
    "import random\n",
    "import numpy as np\n",
    "import matplotlib.pyplot as plt\n",
    "import seaborn as sns\n",
    "from argparse import ArgumentParser\n",
    "\n",
    "# 如果在脚本环境下:\n",
    "if \"__file__\" in globals():\n",
    "    main_folder_path = os.path.abspath(os.path.join(os.path.dirname(__file__), \"..\"))\n",
    "else:\n",
    "    # Jupyter Notebook 环境下:\n",
    "    main_folder_path = os.path.abspath(os.path.join(os.getcwd(), \"..\"))\n",
    "\n",
    "sys.path.append(main_folder_path)\n",
    "os.makedirs('pictures', exist_ok=True)\n",
    "\n",
    "from dataloaders.dataloaders import CSVsLoader\n",
    "from algorithms.feature_CP import ConformalPredictionMethods\n",
    "from algorithms.conformal import Conformal\n",
    "\n",
    "parser = ArgumentParser()\n",
    "parser.add_argument('--device', type=str, default='cuda:0', help='device to run the model on')\n",
    "# parser.add_argument('--DATASET_LIST', type=str, default=['WQ','CCS','PT','QFT','YH'],\n",
    "#                     help='List of all datasets')\n",
    "# 第一次有个包没装跑到CCS的时候断了\n",
    "parser.add_argument('--DATASET_LIST', type=str, default=['CCS','PT','QFT','YH'],\n",
    "                    help='List of all datasets')\n",
    "parser.add_argument('--dataset', type=str, default='WQ', \n",
    "                    help='Specify a single dataset to run')\n",
    "parser.add_argument('--epochs', type=int, default=1000)\n",
    "parser.add_argument('--WQ-epochs', type=int, default=1000)\n",
    "parser.add_argument('--CCS-epochs', type=int, default=1000)\n",
    "parser.add_argument('--PT-epochs', type=int, default=1000)\n",
    "parser.add_argument('--QFT-epochs', type=int, default=1000)\n",
    "parser.add_argument('--YH-epochs', type=int, default=1000)\n",
    "\n",
    "args, unknown = parser.parse_known_args()\n",
    "print(f\"Using device: {args.device}\")\n",
    "\n",
    "# 这里演示遍历所有数据集:\n",
    "for dataset in args.DATASET_LIST:\n",
    "    # 设置 dataset\n",
    "    args.dataset = dataset\n",
    "    \n",
    "    # 针对不同数据集设置 epochs\n",
    "    if dataset in [\"WQ\", \"PT\"]:\n",
    "        args.epochs = 1000\n",
    "    else:\n",
    "        args.epochs = 2000\n",
    "    \n",
    "    print(f\"Testing feature CP on dataset {dataset} with epochs={args.epochs}\")\n",
    "    \n",
    "    # 动态创建结果变量名，例如 'YH_results', 'CCS_results' 等\n",
    "    results_var_name = f\"{dataset}_results\"\n",
    "    globals()[results_var_name] = []  # 在全局命名空间中创建空列表\n",
    "    \n",
    "    # 设置重复次数\n",
    "    repeat = 10\n",
    "    \n",
    "    # 为当前 dataset 创建输出文件夹\n",
    "    result_folder = os.path.join(\"results_run_by_LRJ\", dataset)\n",
    "    os.makedirs(result_folder, exist_ok=True)\n",
    "    \n",
    "    for run_idx in range(repeat):\n",
    "        # 加载数据和模型\n",
    "        My_trainer = CSVsLoader(args)\n",
    "        My_methods = ConformalPredictionMethods()\n",
    "        My_trainer.load_full_data()\n",
    "        My_trainer.load_split_data()\n",
    "        My_trainer.make_MLP_Regressor()\n",
    "        My_trainer.train_MLP_Regressor()\n",
    "        \n",
    "        # 仅在第一轮绘制 loss 曲线并保存\n",
    "        if run_idx == 0:\n",
    "            plt.plot(My_trainer.train_loss_logger, label=\"train loss\")\n",
    "            plt.plot(My_trainer.test_loss_logger, label=\"test loss\")\n",
    "            plt.legend()\n",
    "            plt.title(f\"{dataset}_loss curve\")\n",
    "            loss_fig_path = os.path.join(\"pictures\", f\"{dataset}_loss.png\")\n",
    "            plt.savefig(loss_fig_path)\n",
    "            plt.show()\n",
    "        \n",
    "        # 模型评估\n",
    "        My_trainer.model.eval()\n",
    "        \n",
    "        # 获取特征\n",
    "        u_features = My_trainer.model.feature_func_forward(My_trainer.X00)\n",
    "        y_predictions = My_trainer.model.predictor_head_forward(u_features)\n",
    "        \n",
    "        # 计算绝对误差\n",
    "        abs_error = torch.abs(y_predictions.squeeze(-1) - My_trainer.y00)\n",
    "        \n",
    "        # 计算梯度范数，用于分数 scores\n",
    "        grad = torch.autograd.grad(\n",
    "            y_predictions[0],\n",
    "            u_features,\n",
    "            allow_unused=True,\n",
    "            retain_graph=True\n",
    "        )[0][0]\n",
    "        grad_norm = torch.norm(grad, p=2)\n",
    "        \n",
    "        scores = abs_error / grad_norm\n",
    "        \n",
    "        # 计算加权分位数与带宽\n",
    "        cpmethods = ConformalPredictionMethods()\n",
    "        Q_corrected = cpmethods.weighted_quantile(scores, 0.9, torch.ones_like(scores)) * grad_norm\n",
    "        bandwidth = 2 * Q_corrected\n",
    "        \n",
    "        # 得到模型最终预测\n",
    "        end_to_end_predictions = My_trainer.model(My_trainer.X00)\n",
    "        \n",
    "        # 预测区间\n",
    "        fcp_intervals = torch.concatenate(\n",
    "            [end_to_end_predictions - Q_corrected, end_to_end_predictions + Q_corrected],\n",
    "            dim=-1\n",
    "        )\n",
    "        \n",
    "        # 覆盖率计算\n",
    "        cnt = 0\n",
    "        for i in range(My_trainer.X00.shape[0]):\n",
    "            if (end_to_end_predictions[i] >= fcp_intervals[i, 0]) and \\\n",
    "               (end_to_end_predictions[i] <= fcp_intervals[i, 1]):\n",
    "                cnt += 1\n",
    "        coverage = cnt / My_trainer.X00.shape[0]\n",
    "        \n",
    "        # 保存结果到对应的全局变量 list 中\n",
    "        globals()[results_var_name].append([coverage, bandwidth.cpu().detach().numpy()])\n",
    "    \n",
    "    # 将 coverage/bandwidth 汇总信息保存到 CSV\n",
    "    coverage_vals = [item[0] for item in globals()[results_var_name]]\n",
    "    bandwidth_vals = [item[1] for item in globals()[results_var_name]]\n",
    "    df_results = pd.DataFrame({\n",
    "        'coverage': coverage_vals,\n",
    "        'bandwidth': bandwidth_vals\n",
    "    })\n",
    "    csv_save_path = os.path.join(result_folder, f\"{dataset}_coverage_bandwidth.csv\")\n",
    "    df_results.to_csv(csv_save_path, index=False)\n",
    "    \n",
    "    # 保存 {dataset}_results.pkl\n",
    "    pkl_save_path = os.path.join(result_folder, f\"{dataset}_results.pkl\")\n",
    "    with open(pkl_save_path, 'wb') as f:\n",
    "        pickle.dump(globals()[results_var_name], f)\n",
    "    \n",
    "    print(f\"Finished dataset {dataset}, results saved to: {csv_save_path}\")\n",
    "    print(f\"Also saved {results_var_name} to {pkl_save_path}\")\n",
    "\n",
    "print(\"All done!\")\n"
   ]
  },
  {
   "cell_type": "code",
   "execution_count": 2,
   "metadata": {},
   "outputs": [
    {
     "ename": "ModuleNotFoundError",
     "evalue": "No module named 'numpy._core'",
     "output_type": "error",
     "traceback": [
      "\u001b[1;31m---------------------------------------------------------------------------\u001b[0m",
      "\u001b[1;31mModuleNotFoundError\u001b[0m                       Traceback (most recent call last)",
      "Cell \u001b[1;32mIn[2], line 10\u001b[0m\n\u001b[0;32m      8\u001b[0m pkl_path \u001b[38;5;241m=\u001b[39m \u001b[38;5;124mf\u001b[39m\u001b[38;5;124m'\u001b[39m\u001b[38;5;124mresults_run_by_LRJ/\u001b[39m\u001b[38;5;132;01m{\u001b[39;00mdataset\u001b[38;5;132;01m}\u001b[39;00m\u001b[38;5;124m/\u001b[39m\u001b[38;5;132;01m{\u001b[39;00mdataset\u001b[38;5;132;01m}\u001b[39;00m\u001b[38;5;124m_results.pkl\u001b[39m\u001b[38;5;124m'\u001b[39m\n\u001b[0;32m      9\u001b[0m \u001b[38;5;28;01mwith\u001b[39;00m \u001b[38;5;28mopen\u001b[39m(pkl_path, \u001b[38;5;124m'\u001b[39m\u001b[38;5;124mrb\u001b[39m\u001b[38;5;124m'\u001b[39m) \u001b[38;5;28;01mas\u001b[39;00m f:\n\u001b[1;32m---> 10\u001b[0m     results_loaded[dataset] \u001b[38;5;241m=\u001b[39m \u001b[43mpickle\u001b[49m\u001b[38;5;241;43m.\u001b[39;49m\u001b[43mload\u001b[49m\u001b[43m(\u001b[49m\u001b[43mf\u001b[49m\u001b[43m)\u001b[49m\n\u001b[0;32m     11\u001b[0m     \u001b[38;5;28mprint\u001b[39m(\u001b[38;5;124mf\u001b[39m\u001b[38;5;124m\"\u001b[39m\u001b[38;5;132;01m{\u001b[39;00mdataset\u001b[38;5;132;01m}\u001b[39;00m\u001b[38;5;124m_results_loaded: \u001b[39m\u001b[38;5;132;01m{\u001b[39;00mresults_loaded[dataset]\u001b[38;5;132;01m}\u001b[39;00m\u001b[38;5;124m\"\u001b[39m)\n\u001b[0;32m     12\u001b[0m \u001b[38;5;28mprint\u001b[39m(\u001b[38;5;124m'\u001b[39m\u001b[38;5;124m--\u001b[39m\u001b[38;5;124m'\u001b[39m\u001b[38;5;241m*\u001b[39m\u001b[38;5;241m20\u001b[39m)\n",
      "\u001b[1;31mModuleNotFoundError\u001b[0m: No module named 'numpy._core'"
     ]
    }
   ],
   "source": [
    "import pickle\n",
    "\n",
    "    \n",
    "datasets = ['WQ','CCS','PT','QFT','YH']\n",
    "results_loaded = {}\n",
    "\n",
    "for dataset in datasets:\n",
    "    pkl_path = f'results_run_by_LRJ/{dataset}/{dataset}_results.pkl'\n",
    "    with open(pkl_path, 'rb') as f:\n",
    "        results_loaded[dataset] = pickle.load(f)\n",
    "        print(f\"{dataset}_results_loaded: {results_loaded[dataset]}\")\n",
    "    print('--'*20)"
   ]
  },
  {
   "cell_type": "code",
   "execution_count": 6,
   "metadata": {},
   "outputs": [
    {
     "data": {
      "text/html": [
       "<div>\n",
       "<style scoped>\n",
       "    .dataframe tbody tr th:only-of-type {\n",
       "        vertical-align: middle;\n",
       "    }\n",
       "\n",
       "    .dataframe tbody tr th {\n",
       "        vertical-align: top;\n",
       "    }\n",
       "\n",
       "    .dataframe thead th {\n",
       "        text-align: right;\n",
       "    }\n",
       "</style>\n",
       "<table border=\"1\" class=\"dataframe\">\n",
       "  <thead>\n",
       "    <tr style=\"text-align: right;\">\n",
       "      <th></th>\n",
       "      <th>WQ_ID</th>\n",
       "      <th>WQ_Value</th>\n",
       "      <th>CCS_ID</th>\n",
       "      <th>CCS_Value</th>\n",
       "      <th>PT_ID</th>\n",
       "      <th>PT_Value</th>\n",
       "      <th>QFT_ID</th>\n",
       "      <th>QFT_Value</th>\n",
       "      <th>YH_ID</th>\n",
       "      <th>YH_Value</th>\n",
       "    </tr>\n",
       "  </thead>\n",
       "  <tbody>\n",
       "    <tr>\n",
       "      <th>0</th>\n",
       "      <td>1.0</td>\n",
       "      <td>2.2868414</td>\n",
       "      <td>1.0</td>\n",
       "      <td>22.130413</td>\n",
       "      <td>1.0</td>\n",
       "      <td>0.1380189</td>\n",
       "      <td>1.0</td>\n",
       "      <td>3.0011065</td>\n",
       "      <td>1.0</td>\n",
       "      <td>8.1688385</td>\n",
       "    </tr>\n",
       "    <tr>\n",
       "      <th>1</th>\n",
       "      <td>1.0</td>\n",
       "      <td>2.3012009</td>\n",
       "      <td>1.0</td>\n",
       "      <td>29.052536</td>\n",
       "      <td>1.0</td>\n",
       "      <td>0.15138465</td>\n",
       "      <td>1.0</td>\n",
       "      <td>3.1183968</td>\n",
       "      <td>1.0</td>\n",
       "      <td>11.983261</td>\n",
       "    </tr>\n",
       "    <tr>\n",
       "      <th>2</th>\n",
       "      <td>1.0</td>\n",
       "      <td>2.2110548</td>\n",
       "      <td>1.0</td>\n",
       "      <td>24.589157</td>\n",
       "      <td>1.0</td>\n",
       "      <td>0.12372833</td>\n",
       "      <td>1.0</td>\n",
       "      <td>2.963235</td>\n",
       "      <td>1.0</td>\n",
       "      <td>8.384827</td>\n",
       "    </tr>\n",
       "    <tr>\n",
       "      <th>3</th>\n",
       "      <td>1.0</td>\n",
       "      <td>2.4232101</td>\n",
       "      <td>1.0</td>\n",
       "      <td>25.088219</td>\n",
       "      <td>1.0</td>\n",
       "      <td>0.14351007</td>\n",
       "      <td>1.0</td>\n",
       "      <td>3.2468894</td>\n",
       "      <td>1.0</td>\n",
       "      <td>5.7819552</td>\n",
       "    </tr>\n",
       "    <tr>\n",
       "      <th>4</th>\n",
       "      <td>1.0</td>\n",
       "      <td>2.2896137</td>\n",
       "      <td>1.0</td>\n",
       "      <td>25.221188</td>\n",
       "      <td>1.0</td>\n",
       "      <td>0.12774888</td>\n",
       "      <td>1.0</td>\n",
       "      <td>3.3842869</td>\n",
       "      <td>1.0</td>\n",
       "      <td>10.543612</td>\n",
       "    </tr>\n",
       "    <tr>\n",
       "      <th>5</th>\n",
       "      <td>1.0</td>\n",
       "      <td>2.2645998</td>\n",
       "      <td>1.0</td>\n",
       "      <td>22.168228</td>\n",
       "      <td>1.0</td>\n",
       "      <td>0.12769642</td>\n",
       "      <td>1.0</td>\n",
       "      <td>3.14931</td>\n",
       "      <td>1.0</td>\n",
       "      <td>7.355606</td>\n",
       "    </tr>\n",
       "    <tr>\n",
       "      <th>6</th>\n",
       "      <td>1.0</td>\n",
       "      <td>2.270194</td>\n",
       "      <td>1.0</td>\n",
       "      <td>24.27388</td>\n",
       "      <td>1.0</td>\n",
       "      <td>0.14398219</td>\n",
       "      <td>1.0</td>\n",
       "      <td>2.9410667</td>\n",
       "      <td>1.0</td>\n",
       "      <td>5.7921295</td>\n",
       "    </tr>\n",
       "    <tr>\n",
       "      <th>7</th>\n",
       "      <td>1.0</td>\n",
       "      <td>2.2072258</td>\n",
       "      <td>1.0</td>\n",
       "      <td>31.870218</td>\n",
       "      <td>1.0</td>\n",
       "      <td>0.13619573</td>\n",
       "      <td>1.0</td>\n",
       "      <td>3.398713</td>\n",
       "      <td>1.0</td>\n",
       "      <td>11.357491</td>\n",
       "    </tr>\n",
       "    <tr>\n",
       "      <th>8</th>\n",
       "      <td>1.0</td>\n",
       "      <td>2.1650448</td>\n",
       "      <td>1.0</td>\n",
       "      <td>29.619274</td>\n",
       "      <td>1.0</td>\n",
       "      <td>0.12978387</td>\n",
       "      <td>1.0</td>\n",
       "      <td>3.1442585</td>\n",
       "      <td>1.0</td>\n",
       "      <td>9.24251</td>\n",
       "    </tr>\n",
       "    <tr>\n",
       "      <th>9</th>\n",
       "      <td>1.0</td>\n",
       "      <td>2.1974487</td>\n",
       "      <td>1.0</td>\n",
       "      <td>28.217613</td>\n",
       "      <td>1.0</td>\n",
       "      <td>0.13089496</td>\n",
       "      <td>1.0</td>\n",
       "      <td>3.110226</td>\n",
       "      <td>1.0</td>\n",
       "      <td>20.698196</td>\n",
       "    </tr>\n",
       "  </tbody>\n",
       "</table>\n",
       "</div>"
      ],
      "text/plain": [
       "   WQ_ID   WQ_Value  CCS_ID  CCS_Value  PT_ID    PT_Value  QFT_ID  QFT_Value  \\\n",
       "0    1.0  2.2868414     1.0  22.130413    1.0   0.1380189     1.0  3.0011065   \n",
       "1    1.0  2.3012009     1.0  29.052536    1.0  0.15138465     1.0  3.1183968   \n",
       "2    1.0  2.2110548     1.0  24.589157    1.0  0.12372833     1.0   2.963235   \n",
       "3    1.0  2.4232101     1.0  25.088219    1.0  0.14351007     1.0  3.2468894   \n",
       "4    1.0  2.2896137     1.0  25.221188    1.0  0.12774888     1.0  3.3842869   \n",
       "5    1.0  2.2645998     1.0  22.168228    1.0  0.12769642     1.0    3.14931   \n",
       "6    1.0   2.270194     1.0   24.27388    1.0  0.14398219     1.0  2.9410667   \n",
       "7    1.0  2.2072258     1.0  31.870218    1.0  0.13619573     1.0   3.398713   \n",
       "8    1.0  2.1650448     1.0  29.619274    1.0  0.12978387     1.0  3.1442585   \n",
       "9    1.0  2.1974487     1.0  28.217613    1.0  0.13089496     1.0   3.110226   \n",
       "\n",
       "   YH_ID   YH_Value  \n",
       "0    1.0  8.1688385  \n",
       "1    1.0  11.983261  \n",
       "2    1.0   8.384827  \n",
       "3    1.0  5.7819552  \n",
       "4    1.0  10.543612  \n",
       "5    1.0   7.355606  \n",
       "6    1.0  5.7921295  \n",
       "7    1.0  11.357491  \n",
       "8    1.0    9.24251  \n",
       "9    1.0  20.698196  "
      ]
     },
     "execution_count": 6,
     "metadata": {},
     "output_type": "execute_result"
    }
   ],
   "source": [
    "import pandas as pd\n",
    "import numpy as np\n",
    "\n",
    "# Define the data\n",
    "WQ_results_loaded = [[1.0, np.array(2.2868414, dtype=np.float32)], [1.0, np.array(2.3012009, dtype=np.float32)], \n",
    "                     [1.0, np.array(2.2110548, dtype=np.float32)], [1.0, np.array(2.4232101, dtype=np.float32)], \n",
    "                     [1.0, np.array(2.2896137, dtype=np.float32)], [1.0, np.array(2.2645998, dtype=np.float32)], \n",
    "                     [1.0, np.array(2.270194, dtype=np.float32)], [1.0, np.array(2.2072258, dtype=np.float32)], \n",
    "                     [1.0, np.array(2.1650448, dtype=np.float32)], [1.0, np.array(2.1974487, dtype=np.float32)]]\n",
    "\n",
    "CCS_results_loaded = [[1.0, np.array(22.130413, dtype=np.float32)], [1.0, np.array(29.052536, dtype=np.float32)], \n",
    "                      [1.0, np.array(24.589157, dtype=np.float32)], [1.0, np.array(25.088219, dtype=np.float32)], \n",
    "                      [1.0, np.array(25.221188, dtype=np.float32)], [1.0, np.array(22.168228, dtype=np.float32)], \n",
    "                      [1.0, np.array(24.27388, dtype=np.float32)], [1.0, np.array(31.870218, dtype=np.float32)], \n",
    "                      [1.0, np.array(29.619274, dtype=np.float32)], [1.0, np.array(28.217613, dtype=np.float32)]]\n",
    "\n",
    "PT_results_loaded = [[1.0, np.array(0.1380189, dtype=np.float32)], [1.0, np.array(0.15138465, dtype=np.float32)], \n",
    "                     [1.0, np.array(0.12372833, dtype=np.float32)], [1.0, np.array(0.14351007, dtype=np.float32)], \n",
    "                     [1.0, np.array(0.12774888, dtype=np.float32)], [1.0, np.array(0.12769642, dtype=np.float32)], \n",
    "                     [1.0, np.array(0.14398219, dtype=np.float32)], [1.0, np.array(0.13619573, dtype=np.float32)], \n",
    "                     [1.0, np.array(0.12978387, dtype=np.float32)], [1.0, np.array(0.13089496, dtype=np.float32)]]\n",
    "\n",
    "QFT_results_loaded = [[1.0, np.array(3.0011065, dtype=np.float32)], [1.0, np.array(3.1183968, dtype=np.float32)], \n",
    "                      [1.0, np.array(2.963235, dtype=np.float32)], [1.0, np.array(3.2468894, dtype=np.float32)], \n",
    "                      [1.0, np.array(3.3842869, dtype=np.float32)], [1.0, np.array(3.14931, dtype=np.float32)], \n",
    "                      [1.0, np.array(2.9410667, dtype=np.float32)], [1.0, np.array(3.398713, dtype=np.float32)], \n",
    "                      [1.0, np.array(3.1442585, dtype=np.float32)], [1.0, np.array(3.110226, dtype=np.float32)]]\n",
    "\n",
    "YH_results_loaded = [[1.0, np.array(8.1688385, dtype=np.float32)], [1.0, np.array(11.983261, dtype=np.float32)], \n",
    "                     [1.0, np.array(8.384827, dtype=np.float32)], [1.0, np.array(5.7819552, dtype=np.float32)], \n",
    "                     [1.0, np.array(10.543612, dtype=np.float32)], [1.0, np.array(7.355606, dtype=np.float32)], \n",
    "                     [1.0, np.array(5.7921295, dtype=np.float32)], [1.0, np.array(11.357491, dtype=np.float32)], \n",
    "                     [1.0, np.array(9.24251, dtype=np.float32)], [1.0, np.array(20.698196, dtype=np.float32)]]\n",
    "\n",
    "# Convert to DataFrame\n",
    "WQ_df = pd.DataFrame(WQ_results_loaded, columns=['ID', 'Value'])\n",
    "CCS_df = pd.DataFrame(CCS_results_loaded, columns=['ID', 'Value'])\n",
    "PT_df = pd.DataFrame(PT_results_loaded, columns=['ID', 'Value'])\n",
    "QFT_df = pd.DataFrame(QFT_results_loaded, columns=['ID', 'Value'])\n",
    "YH_df = pd.DataFrame(YH_results_loaded, columns=['ID', 'Value'])\n",
    "\n",
    "# Merge all the dataframes into one\n",
    "final_df = pd.concat([WQ_df, CCS_df, PT_df, QFT_df, YH_df], axis=1)\n",
    "final_df.columns = ['WQ_ID', 'WQ_Value', 'CCS_ID', 'CCS_Value', 'PT_ID', 'PT_Value', 'QFT_ID', 'QFT_Value', 'YH_ID', 'YH_Value']\n",
    "\n",
    "final_df"
   ]
  },
  {
   "cell_type": "code",
   "execution_count": 7,
   "metadata": {},
   "outputs": [
    {
     "name": "stdout",
     "output_type": "stream",
     "text": [
      "WQ Average: 2.262, WQ Standard Deviation: 0.073\n",
      "CCS Average: 26.223, CCS Standard Deviation: 3.289\n",
      "PT Average: 0.135, PT Standard Deviation: 0.009\n",
      "QFT Average: 3.146, QFT Standard Deviation: 0.16\n",
      "YH Average: 9.931, YH Standard Deviation: 4.34\n"
     ]
    }
   ],
   "source": [
    "# Calculate average and std for each dataset\n",
    "WQ_avg = round(WQ_df['Value'].apply(lambda x: x.item()).mean(), 3)\n",
    "WQ_std = round(WQ_df['Value'].apply(lambda x: x.item()).std(), 3)\n",
    "\n",
    "CCS_avg = round(CCS_df['Value'].apply(lambda x: x.item()).mean(), 3)\n",
    "CCS_std = round(CCS_df['Value'].apply(lambda x: x.item()).std(), 3)\n",
    "\n",
    "PT_avg = round(PT_df['Value'].apply(lambda x: x.item()).mean(), 3)\n",
    "PT_std = round(PT_df['Value'].apply(lambda x: x.item()).std(), 3)\n",
    "\n",
    "QFT_avg = round(QFT_df['Value'].apply(lambda x: x.item()).mean(), 3)\n",
    "QFT_std = round(QFT_df['Value'].apply(lambda x: x.item()).std(), 3)\n",
    "\n",
    "YH_avg = round(YH_df['Value'].apply(lambda x: x.item()).mean(), 3)\n",
    "YH_std = round(YH_df['Value'].apply(lambda x: x.item()).std(), 3)\n",
    "\n",
    "# Print the results\n",
    "print(f\"WQ Average: ${WQ_avg} \\pm {WQ_std}$\")\n",
    "print(f\"CCS Average: {CCS_avg}, CCS Standard Deviation: {CCS_std}\")\n",
    "print(f\"PT Average: {PT_avg}, PT Standard Deviation: {PT_std}\")\n",
    "print(f\"QFT Average: {QFT_avg}, QFT Standard Deviation: {QFT_std}\")\n",
    "print(f\"YH Average: {YH_avg}, YH Standard Deviation: {YH_std}\")\n"
   ]
  },
  {
   "cell_type": "code",
   "execution_count": 8,
   "metadata": {},
   "outputs": [
    {
     "name": "stdout",
     "output_type": "stream",
     "text": [
      "WQ Average: $2.262 \\pm 0.073$\n",
      "CCS Average: $26.223 \\pm 3.289$\n",
      "PT Average: $0.135 \\pm 0.009$\n",
      "QFT Average: $3.146 \\pm 0.16$\n",
      "YH Average: $9.931 \\pm 4.34$\n"
     ]
    }
   ],
   "source": [
    "print(f\"WQ Average: ${WQ_avg} \\pm {WQ_std}$\")\n",
    "print(f\"CCS Average: ${CCS_avg} \\pm {CCS_std}$\")\n",
    "print(f\"PT Average: ${PT_avg} \\pm {PT_std}$\")\n",
    "print(f\"QFT Average: ${QFT_avg} \\pm {QFT_std}$\")\n",
    "print(f\"YH Average: ${YH_avg} \\pm {YH_std}$\")"
   ]
  },
  {
   "cell_type": "code",
   "execution_count": null,
   "metadata": {},
   "outputs": [],
   "source": []
  }
 ],
 "metadata": {
  "kernelspec": {
   "display_name": "torch_2.0.1_test_one",
   "language": "python",
   "name": "torch_one"
  },
  "language_info": {
   "codemirror_mode": {
    "name": "ipython",
    "version": 3
   },
   "file_extension": ".py",
   "mimetype": "text/x-python",
   "name": "python",
   "nbconvert_exporter": "python",
   "pygments_lexer": "ipython3",
   "version": "3.9.19"
  }
 },
 "nbformat": 4,
 "nbformat_minor": 2
}
