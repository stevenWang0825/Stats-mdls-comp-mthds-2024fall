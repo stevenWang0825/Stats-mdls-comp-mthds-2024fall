{
 "cells": [
  {
   "cell_type": "code",
   "execution_count": 21,
   "metadata": {},
   "outputs": [
    {
     "name": "stdout",
     "output_type": "stream",
     "text": [
      "using device:cuda:0\n"
     ]
    }
   ],
   "source": [
    "import torch,sys,os\n",
    "import pandas as pd\n",
    "from torch import nn\n",
    "from tqdm import tqdm\n",
    "import random\n",
    "import numpy as np\n",
    "import matplotlib.pyplot as plt\n",
    "import seaborn as sns\n",
    "from argparse import ArgumentParser\n",
    "if \"__file__\" in globals():\n",
    "    main_folder_path = os.path.abspath(os.path.join(os.path.dirname(__file__), \"..\"))\n",
    "else:\n",
    "    main_folder_path = os.path.abspath(os.path.join(os.getcwd(), \"..\"))\n",
    "sys.path.append(main_folder_path)\n",
    "os.makedirs('pictures', exist_ok=True)\n",
    "\n",
    "from dataloaders.dataloaders import CSVsLoader\n",
    "from algorithms.feature_CP import ConformalPredictionMethods\n",
    "from algorithms.conformal import Conformal\n",
    "\n",
    "parser = ArgumentParser()\n",
    "parser.add_argument('--device', type=str, default='cuda:0', help='device to run the model on')\n",
    "parser.add_argument('--DATASET_LIST',type=str,default=['WQ','CCS','PT','QFT','YH'])\n",
    "parser.add_argument('--dataset', type=str, default='WQ')\n",
    "parser.add_argument('--epochs', type=int, default=1000)\n",
    "parser.add_argument('--WQ-epochs',type=int,default=1000)\n",
    "parser.add_argument('--CCS-epochs',type=int,default=1000)\n",
    "parser.add_argument('--PT-epochs',type=int,default=1000)\n",
    "parser.add_argument('--QFT-epochs',type=int,default=1000)\n",
    "parser.add_argument('--YH-epochs',type=int,default=1000)\n",
    "args, unknown = parser.parse_known_args()\n",
    "print(f\"using device:{args.device}\")"
   ]
  },
  {
   "cell_type": "code",
   "execution_count": 80,
   "metadata": {},
   "outputs": [
    {
     "name": "stdout",
     "output_type": "stream",
     "text": [
      "Loaded full dataset WQ with shape: torch.Size([6497, 11]),torch.Size([6497])\n",
      "Loaded split dataset WQ train shape: torch.Size([3248, 11]) test sizetorch.Size([3249, 11]) \n",
      "setup a MLP regression network structure with [11, 64, 64, 32], dropout prob: 0.2\n",
      "MLP Regressor model setup with input dim: 11\n"
     ]
    },
    {
     "name": "stderr",
     "output_type": "stream",
     "text": [
      "MLP Regression Model Training: 100%|█████████████████████████████████████████████████████| 1/1 [00:00<00:00, 10.56it/s]"
     ]
    },
    {
     "name": "stdout",
     "output_type": "stream",
     "text": [
      "[1] current epoch total loss: 715.1792850494385\n",
      "Training finished, final loss: 715.1792850494385\n",
      "feature function output shape: torch.Size([3249, 32])\n"
     ]
    },
    {
     "name": "stderr",
     "output_type": "stream",
     "text": [
      "\n",
      "C:\\Users\\wangr\\AppData\\Local\\Temp\\ipykernel_13808\\966848459.py:58: FutureWarning: The behavior of DataFrame concatenation with empty or all-NA entries is deprecated. In a future version, this will no longer exclude empty or all-NA columns when determining the result dtypes. To retain the old behavior, exclude the relevant entries before the concat operation.\n",
      "  results_df = pd.concat([results_df, new_row], ignore_index=True)\n"
     ]
    },
    {
     "name": "stdout",
     "output_type": "stream",
     "text": [
      "Loaded full dataset WQ with shape: torch.Size([6497, 11]),torch.Size([6497])\n",
      "Loaded split dataset WQ train shape: torch.Size([3248, 11]) test sizetorch.Size([3249, 11]) \n",
      "setup a MLP regression network structure with [11, 64, 64, 32], dropout prob: 0.2\n",
      "MLP Regressor model setup with input dim: 11\n"
     ]
    },
    {
     "name": "stderr",
     "output_type": "stream",
     "text": [
      "MLP Regression Model Training: 100%|█████████████████████████████████████████████████████| 1/1 [00:00<00:00, 13.20it/s]\n"
     ]
    },
    {
     "name": "stdout",
     "output_type": "stream",
     "text": [
      "[1] current epoch total loss: 794.6536254882812\n",
      "Training finished, final loss: 794.6536254882812\n",
      "feature function output shape: torch.Size([3249, 32])\n",
      "Loaded full dataset WQ with shape: torch.Size([6497, 11]),torch.Size([6497])\n",
      "Loaded split dataset WQ train shape: torch.Size([3248, 11]) test sizetorch.Size([3249, 11]) \n",
      "setup a MLP regression network structure with [11, 64, 64, 32], dropout prob: 0.2\n",
      "MLP Regressor model setup with input dim: 11\n"
     ]
    },
    {
     "name": "stderr",
     "output_type": "stream",
     "text": [
      "MLP Regression Model Training: 100%|█████████████████████████████████████████████████████| 1/1 [00:00<00:00, 11.94it/s]"
     ]
    },
    {
     "name": "stdout",
     "output_type": "stream",
     "text": [
      "[1] current epoch total loss: 765.1834316253662\n",
      "Training finished, final loss: 765.1834316253662\n",
      "feature function output shape: torch.Size([3249, 32])\n"
     ]
    },
    {
     "name": "stderr",
     "output_type": "stream",
     "text": [
      "\n"
     ]
    },
    {
     "name": "stdout",
     "output_type": "stream",
     "text": [
      "Loaded full dataset WQ with shape: torch.Size([6497, 11]),torch.Size([6497])\n",
      "Loaded split dataset WQ train shape: torch.Size([3248, 11]) test sizetorch.Size([3249, 11]) \n",
      "setup a MLP regression network structure with [11, 64, 64, 32], dropout prob: 0.2\n",
      "MLP Regressor model setup with input dim: 11\n"
     ]
    },
    {
     "name": "stderr",
     "output_type": "stream",
     "text": [
      "MLP Regression Model Training: 100%|█████████████████████████████████████████████████████| 1/1 [00:00<00:00, 13.19it/s]"
     ]
    },
    {
     "name": "stdout",
     "output_type": "stream",
     "text": [
      "[1] current epoch total loss: 858.410795211792\n",
      "Training finished, final loss: 858.410795211792\n",
      "feature function output shape: torch.Size([3249, 32])\n"
     ]
    },
    {
     "name": "stderr",
     "output_type": "stream",
     "text": [
      "\n"
     ]
    },
    {
     "name": "stdout",
     "output_type": "stream",
     "text": [
      "Loaded full dataset WQ with shape: torch.Size([6497, 11]),torch.Size([6497])\n",
      "Loaded split dataset WQ train shape: torch.Size([3248, 11]) test sizetorch.Size([3249, 11]) \n",
      "setup a MLP regression network structure with [11, 64, 64, 32], dropout prob: 0.2\n",
      "MLP Regressor model setup with input dim: 11\n"
     ]
    },
    {
     "name": "stderr",
     "output_type": "stream",
     "text": [
      "MLP Regression Model Training: 100%|█████████████████████████████████████████████████████| 1/1 [00:00<00:00, 11.94it/s]"
     ]
    },
    {
     "name": "stdout",
     "output_type": "stream",
     "text": [
      "[1] current epoch total loss: 852.7754344940186\n",
      "Training finished, final loss: 852.7754344940186\n",
      "feature function output shape: torch.Size([3249, 32])\n"
     ]
    },
    {
     "name": "stderr",
     "output_type": "stream",
     "text": [
      "\n"
     ]
    },
    {
     "name": "stdout",
     "output_type": "stream",
     "text": [
      "Loaded full dataset WQ with shape: torch.Size([6497, 11]),torch.Size([6497])\n",
      "Loaded split dataset WQ train shape: torch.Size([3248, 11]) test sizetorch.Size([3249, 11]) \n",
      "setup a MLP regression network structure with [11, 64, 64, 32], dropout prob: 0.2\n",
      "MLP Regressor model setup with input dim: 11\n"
     ]
    },
    {
     "name": "stderr",
     "output_type": "stream",
     "text": [
      "MLP Regression Model Training: 100%|█████████████████████████████████████████████████████| 1/1 [00:00<00:00, 12.54it/s]"
     ]
    },
    {
     "name": "stdout",
     "output_type": "stream",
     "text": [
      "[1] current epoch total loss: 759.9844570159912\n",
      "Training finished, final loss: 759.9844570159912\n",
      "feature function output shape: torch.Size([3249, 32])\n"
     ]
    },
    {
     "name": "stderr",
     "output_type": "stream",
     "text": [
      "\n"
     ]
    },
    {
     "name": "stdout",
     "output_type": "stream",
     "text": [
      "Loaded full dataset WQ with shape: torch.Size([6497, 11]),torch.Size([6497])\n",
      "Loaded split dataset WQ train shape: torch.Size([3248, 11]) test sizetorch.Size([3249, 11]) \n",
      "setup a MLP regression network structure with [11, 64, 64, 32], dropout prob: 0.2\n",
      "MLP Regressor model setup with input dim: 11\n"
     ]
    },
    {
     "name": "stderr",
     "output_type": "stream",
     "text": [
      "MLP Regression Model Training: 100%|█████████████████████████████████████████████████████| 1/1 [00:00<00:00, 13.94it/s]"
     ]
    },
    {
     "name": "stdout",
     "output_type": "stream",
     "text": [
      "[1] current epoch total loss: 801.1783828735352\n",
      "Training finished, final loss: 801.1783828735352\n",
      "feature function output shape: torch.Size([3249, 32])\n"
     ]
    },
    {
     "name": "stderr",
     "output_type": "stream",
     "text": [
      "\n"
     ]
    },
    {
     "name": "stdout",
     "output_type": "stream",
     "text": [
      "Loaded full dataset WQ with shape: torch.Size([6497, 11]),torch.Size([6497])\n",
      "Loaded split dataset WQ train shape: torch.Size([3248, 11]) test sizetorch.Size([3249, 11]) \n",
      "setup a MLP regression network structure with [11, 64, 64, 32], dropout prob: 0.2\n",
      "MLP Regressor model setup with input dim: 11\n"
     ]
    },
    {
     "name": "stderr",
     "output_type": "stream",
     "text": [
      "MLP Regression Model Training: 100%|█████████████████████████████████████████████████████| 1/1 [00:00<00:00, 12.01it/s]"
     ]
    },
    {
     "name": "stdout",
     "output_type": "stream",
     "text": [
      "[1] current epoch total loss: 762.517972946167\n",
      "Training finished, final loss: 762.517972946167\n",
      "feature function output shape: torch.Size([3249, 32])\n"
     ]
    },
    {
     "name": "stderr",
     "output_type": "stream",
     "text": [
      "\n"
     ]
    },
    {
     "name": "stdout",
     "output_type": "stream",
     "text": [
      "Loaded full dataset WQ with shape: torch.Size([6497, 11]),torch.Size([6497])\n",
      "Loaded split dataset WQ train shape: torch.Size([3248, 11]) test sizetorch.Size([3249, 11]) \n",
      "setup a MLP regression network structure with [11, 64, 64, 32], dropout prob: 0.2\n",
      "MLP Regressor model setup with input dim: 11\n"
     ]
    },
    {
     "name": "stderr",
     "output_type": "stream",
     "text": [
      "MLP Regression Model Training: 100%|█████████████████████████████████████████████████████| 1/1 [00:00<00:00, 12.39it/s]"
     ]
    },
    {
     "name": "stdout",
     "output_type": "stream",
     "text": [
      "[1] current epoch total loss: 879.5241794586182\n",
      "Training finished, final loss: 879.5241794586182\n",
      "feature function output shape: torch.Size([3249, 32])\n"
     ]
    },
    {
     "name": "stderr",
     "output_type": "stream",
     "text": [
      "\n"
     ]
    },
    {
     "name": "stdout",
     "output_type": "stream",
     "text": [
      "Loaded full dataset WQ with shape: torch.Size([6497, 11]),torch.Size([6497])\n",
      "Loaded split dataset WQ train shape: torch.Size([3248, 11]) test sizetorch.Size([3249, 11]) \n",
      "setup a MLP regression network structure with [11, 64, 64, 32], dropout prob: 0.2\n",
      "MLP Regressor model setup with input dim: 11\n"
     ]
    },
    {
     "name": "stderr",
     "output_type": "stream",
     "text": [
      "MLP Regression Model Training: 100%|█████████████████████████████████████████████████████| 1/1 [00:00<00:00, 13.56it/s]"
     ]
    },
    {
     "name": "stdout",
     "output_type": "stream",
     "text": [
      "[1] current epoch total loss: 900.7034492492676\n",
      "Training finished, final loss: 900.7034492492676\n",
      "feature function output shape: torch.Size([3249, 32])\n"
     ]
    },
    {
     "name": "stderr",
     "output_type": "stream",
     "text": [
      "\n"
     ]
    },
    {
     "name": "stdout",
     "output_type": "stream",
     "text": [
      "Loaded full dataset WQ with shape: torch.Size([6497, 11]),torch.Size([6497])\n",
      "Loaded split dataset WQ train shape: torch.Size([3248, 11]) test sizetorch.Size([3249, 11]) \n",
      "setup a MLP regression network structure with [11, 64, 64, 32], dropout prob: 0.2\n",
      "MLP Regressor model setup with input dim: 11\n"
     ]
    },
    {
     "name": "stderr",
     "output_type": "stream",
     "text": [
      "MLP Regression Model Training:   4%|██                                                  | 2/50 [00:00<00:03, 14.59it/s]"
     ]
    },
    {
     "name": "stdout",
     "output_type": "stream",
     "text": [
      "[1] current epoch total loss: 997.7028350830078\n"
     ]
    },
    {
     "name": "stderr",
     "output_type": "stream",
     "text": [
      "MLP Regression Model Training: 100%|███████████████████████████████████████████████████| 50/50 [00:03<00:00, 15.69it/s]\n"
     ]
    },
    {
     "name": "stdout",
     "output_type": "stream",
     "text": [
      "Training finished, final loss: 27.518500208854675\n",
      "feature function output shape: torch.Size([3249, 32])\n",
      "Loaded full dataset WQ with shape: torch.Size([6497, 11]),torch.Size([6497])\n",
      "Loaded split dataset WQ train shape: torch.Size([3248, 11]) test sizetorch.Size([3249, 11]) \n",
      "setup a MLP regression network structure with [11, 64, 64, 32], dropout prob: 0.2\n",
      "MLP Regressor model setup with input dim: 11\n"
     ]
    },
    {
     "name": "stderr",
     "output_type": "stream",
     "text": [
      "MLP Regression Model Training:   4%|██                                                  | 2/50 [00:00<00:03, 14.54it/s]"
     ]
    },
    {
     "name": "stdout",
     "output_type": "stream",
     "text": [
      "[1] current epoch total loss: 797.5686988830566\n"
     ]
    },
    {
     "name": "stderr",
     "output_type": "stream",
     "text": [
      "MLP Regression Model Training: 100%|███████████████████████████████████████████████████| 50/50 [00:03<00:00, 15.58it/s]\n"
     ]
    },
    {
     "name": "stdout",
     "output_type": "stream",
     "text": [
      "Training finished, final loss: 27.304800987243652\n",
      "feature function output shape: torch.Size([3249, 32])\n",
      "Loaded full dataset WQ with shape: torch.Size([6497, 11]),torch.Size([6497])\n",
      "Loaded split dataset WQ train shape: torch.Size([3248, 11]) test sizetorch.Size([3249, 11]) \n",
      "setup a MLP regression network structure with [11, 64, 64, 32], dropout prob: 0.2\n",
      "MLP Regressor model setup with input dim: 11\n"
     ]
    },
    {
     "name": "stderr",
     "output_type": "stream",
     "text": [
      "MLP Regression Model Training:   4%|██                                                  | 2/50 [00:00<00:04, 10.59it/s]"
     ]
    },
    {
     "name": "stdout",
     "output_type": "stream",
     "text": [
      "[1] current epoch total loss: 903.6924018859863\n"
     ]
    },
    {
     "name": "stderr",
     "output_type": "stream",
     "text": [
      "MLP Regression Model Training: 100%|███████████████████████████████████████████████████| 50/50 [00:03<00:00, 15.90it/s]\n"
     ]
    },
    {
     "name": "stdout",
     "output_type": "stream",
     "text": [
      "Training finished, final loss: 28.06061363220215\n",
      "feature function output shape: torch.Size([3249, 32])\n",
      "Loaded full dataset WQ with shape: torch.Size([6497, 11]),torch.Size([6497])\n",
      "Loaded split dataset WQ train shape: torch.Size([3248, 11]) test sizetorch.Size([3249, 11]) \n",
      "setup a MLP regression network structure with [11, 64, 64, 32], dropout prob: 0.2\n",
      "MLP Regressor model setup with input dim: 11\n"
     ]
    },
    {
     "name": "stderr",
     "output_type": "stream",
     "text": [
      "MLP Regression Model Training:   4%|██                                                  | 2/50 [00:00<00:03, 14.73it/s]"
     ]
    },
    {
     "name": "stdout",
     "output_type": "stream",
     "text": [
      "[1] current epoch total loss: 724.437479019165\n"
     ]
    },
    {
     "name": "stderr",
     "output_type": "stream",
     "text": [
      "MLP Regression Model Training: 100%|███████████████████████████████████████████████████| 50/50 [00:03<00:00, 15.08it/s]\n"
     ]
    },
    {
     "name": "stdout",
     "output_type": "stream",
     "text": [
      "Training finished, final loss: 26.130447030067444\n",
      "feature function output shape: torch.Size([3249, 32])\n",
      "Loaded full dataset WQ with shape: torch.Size([6497, 11]),torch.Size([6497])\n",
      "Loaded split dataset WQ train shape: torch.Size([3248, 11]) test sizetorch.Size([3249, 11]) \n",
      "setup a MLP regression network structure with [11, 64, 64, 32], dropout prob: 0.2\n",
      "MLP Regressor model setup with input dim: 11\n"
     ]
    },
    {
     "name": "stderr",
     "output_type": "stream",
     "text": [
      "MLP Regression Model Training:   4%|██                                                  | 2/50 [00:00<00:03, 13.15it/s]"
     ]
    },
    {
     "name": "stdout",
     "output_type": "stream",
     "text": [
      "[1] current epoch total loss: 787.2960968017578\n"
     ]
    },
    {
     "name": "stderr",
     "output_type": "stream",
     "text": [
      "MLP Regression Model Training: 100%|███████████████████████████████████████████████████| 50/50 [00:03<00:00, 15.54it/s]\n"
     ]
    },
    {
     "name": "stdout",
     "output_type": "stream",
     "text": [
      "Training finished, final loss: 26.068543910980225\n",
      "feature function output shape: torch.Size([3249, 32])\n",
      "Loaded full dataset WQ with shape: torch.Size([6497, 11]),torch.Size([6497])\n",
      "Loaded split dataset WQ train shape: torch.Size([3248, 11]) test sizetorch.Size([3249, 11]) \n",
      "setup a MLP regression network structure with [11, 64, 64, 32], dropout prob: 0.2\n",
      "MLP Regressor model setup with input dim: 11\n"
     ]
    },
    {
     "name": "stderr",
     "output_type": "stream",
     "text": [
      "MLP Regression Model Training:   4%|██                                                  | 2/50 [00:00<00:03, 14.23it/s]"
     ]
    },
    {
     "name": "stdout",
     "output_type": "stream",
     "text": [
      "[1] current epoch total loss: 743.5035381317139\n"
     ]
    },
    {
     "name": "stderr",
     "output_type": "stream",
     "text": [
      "MLP Regression Model Training: 100%|███████████████████████████████████████████████████| 50/50 [00:03<00:00, 15.16it/s]\n"
     ]
    },
    {
     "name": "stdout",
     "output_type": "stream",
     "text": [
      "Training finished, final loss: 26.91305899620056\n",
      "feature function output shape: torch.Size([3249, 32])\n",
      "Loaded full dataset WQ with shape: torch.Size([6497, 11]),torch.Size([6497])\n",
      "Loaded split dataset WQ train shape: torch.Size([3248, 11]) test sizetorch.Size([3249, 11]) \n",
      "setup a MLP regression network structure with [11, 64, 64, 32], dropout prob: 0.2\n",
      "MLP Regressor model setup with input dim: 11\n"
     ]
    },
    {
     "name": "stderr",
     "output_type": "stream",
     "text": [
      "MLP Regression Model Training:   4%|██                                                  | 2/50 [00:00<00:03, 13.47it/s]"
     ]
    },
    {
     "name": "stdout",
     "output_type": "stream",
     "text": [
      "[1] current epoch total loss: 772.2718772888184\n"
     ]
    },
    {
     "name": "stderr",
     "output_type": "stream",
     "text": [
      "MLP Regression Model Training: 100%|███████████████████████████████████████████████████| 50/50 [00:03<00:00, 14.94it/s]\n"
     ]
    },
    {
     "name": "stdout",
     "output_type": "stream",
     "text": [
      "Training finished, final loss: 28.363191664218903\n",
      "feature function output shape: torch.Size([3249, 32])\n",
      "Loaded full dataset WQ with shape: torch.Size([6497, 11]),torch.Size([6497])\n",
      "Loaded split dataset WQ train shape: torch.Size([3248, 11]) test sizetorch.Size([3249, 11]) \n",
      "setup a MLP regression network structure with [11, 64, 64, 32], dropout prob: 0.2\n",
      "MLP Regressor model setup with input dim: 11\n"
     ]
    },
    {
     "name": "stderr",
     "output_type": "stream",
     "text": [
      "MLP Regression Model Training:   4%|██                                                  | 2/50 [00:00<00:03, 14.91it/s]"
     ]
    },
    {
     "name": "stdout",
     "output_type": "stream",
     "text": [
      "[1] current epoch total loss: 837.8816890716553\n"
     ]
    },
    {
     "name": "stderr",
     "output_type": "stream",
     "text": [
      "MLP Regression Model Training: 100%|███████████████████████████████████████████████████| 50/50 [00:02<00:00, 16.94it/s]\n"
     ]
    },
    {
     "name": "stdout",
     "output_type": "stream",
     "text": [
      "Training finished, final loss: 28.802680552005768\n",
      "feature function output shape: torch.Size([3249, 32])\n",
      "Loaded full dataset WQ with shape: torch.Size([6497, 11]),torch.Size([6497])\n",
      "Loaded split dataset WQ train shape: torch.Size([3248, 11]) test sizetorch.Size([3249, 11]) \n",
      "setup a MLP regression network structure with [11, 64, 64, 32], dropout prob: 0.2\n",
      "MLP Regressor model setup with input dim: 11\n"
     ]
    },
    {
     "name": "stderr",
     "output_type": "stream",
     "text": [
      "MLP Regression Model Training:   4%|██                                                  | 2/50 [00:00<00:03, 15.49it/s]"
     ]
    },
    {
     "name": "stdout",
     "output_type": "stream",
     "text": [
      "[1] current epoch total loss: 758.3652114868164\n"
     ]
    },
    {
     "name": "stderr",
     "output_type": "stream",
     "text": [
      "MLP Regression Model Training: 100%|███████████████████████████████████████████████████| 50/50 [00:03<00:00, 15.84it/s]\n"
     ]
    },
    {
     "name": "stdout",
     "output_type": "stream",
     "text": [
      "Training finished, final loss: 25.974799513816833\n",
      "feature function output shape: torch.Size([3249, 32])\n",
      "Loaded full dataset WQ with shape: torch.Size([6497, 11]),torch.Size([6497])\n",
      "Loaded split dataset WQ train shape: torch.Size([3248, 11]) test sizetorch.Size([3249, 11]) \n",
      "setup a MLP regression network structure with [11, 64, 64, 32], dropout prob: 0.2\n",
      "MLP Regressor model setup with input dim: 11\n"
     ]
    },
    {
     "name": "stderr",
     "output_type": "stream",
     "text": [
      "MLP Regression Model Training:   4%|██                                                  | 2/50 [00:00<00:03, 14.65it/s]"
     ]
    },
    {
     "name": "stdout",
     "output_type": "stream",
     "text": [
      "[1] current epoch total loss: 918.9307861328125\n"
     ]
    },
    {
     "name": "stderr",
     "output_type": "stream",
     "text": [
      "MLP Regression Model Training: 100%|███████████████████████████████████████████████████| 50/50 [00:03<00:00, 16.06it/s]\n"
     ]
    },
    {
     "name": "stdout",
     "output_type": "stream",
     "text": [
      "Training finished, final loss: 29.772476971149445\n",
      "feature function output shape: torch.Size([3249, 32])\n",
      "Loaded full dataset WQ with shape: torch.Size([6497, 11]),torch.Size([6497])\n",
      "Loaded split dataset WQ train shape: torch.Size([3248, 11]) test sizetorch.Size([3249, 11]) \n",
      "setup a MLP regression network structure with [11, 64, 64, 32], dropout prob: 0.2\n",
      "MLP Regressor model setup with input dim: 11\n"
     ]
    },
    {
     "name": "stderr",
     "output_type": "stream",
     "text": [
      "MLP Regression Model Training:   0%|▏                                                  | 2/500 [00:00<00:34, 14.53it/s]"
     ]
    },
    {
     "name": "stdout",
     "output_type": "stream",
     "text": [
      "[1] current epoch total loss: 731.0900745391846\n"
     ]
    },
    {
     "name": "stderr",
     "output_type": "stream",
     "text": [
      "MLP Regression Model Training:  51%|████████████████████████▉                        | 254/500 [00:15<00:14, 16.89it/s]"
     ]
    },
    {
     "name": "stdout",
     "output_type": "stream",
     "text": [
      "[251] current epoch total loss: 18.085467875003815\n"
     ]
    },
    {
     "name": "stderr",
     "output_type": "stream",
     "text": [
      "MLP Regression Model Training: 100%|█████████████████████████████████████████████████| 500/500 [00:31<00:00, 16.11it/s]\n"
     ]
    },
    {
     "name": "stdout",
     "output_type": "stream",
     "text": [
      "Training finished, final loss: 12.6443230509758\n",
      "feature function output shape: torch.Size([3249, 32])\n",
      "Loaded full dataset WQ with shape: torch.Size([6497, 11]),torch.Size([6497])\n",
      "Loaded split dataset WQ train shape: torch.Size([3248, 11]) test sizetorch.Size([3249, 11]) \n",
      "setup a MLP regression network structure with [11, 64, 64, 32], dropout prob: 0.2\n",
      "MLP Regressor model setup with input dim: 11\n"
     ]
    },
    {
     "name": "stderr",
     "output_type": "stream",
     "text": [
      "MLP Regression Model Training:   0%|▏                                                  | 2/500 [00:00<00:32, 15.37it/s]"
     ]
    },
    {
     "name": "stdout",
     "output_type": "stream",
     "text": [
      "[1] current epoch total loss: 879.377498626709\n"
     ]
    },
    {
     "name": "stderr",
     "output_type": "stream",
     "text": [
      "MLP Regression Model Training:  51%|████████████████████████▉                        | 254/500 [00:15<00:15, 16.30it/s]"
     ]
    },
    {
     "name": "stdout",
     "output_type": "stream",
     "text": [
      "[251] current epoch total loss: 17.876882076263428\n"
     ]
    },
    {
     "name": "stderr",
     "output_type": "stream",
     "text": [
      "MLP Regression Model Training: 100%|█████████████████████████████████████████████████| 500/500 [00:30<00:00, 16.52it/s]\n"
     ]
    },
    {
     "name": "stdout",
     "output_type": "stream",
     "text": [
      "Training finished, final loss: 13.523053288459778\n",
      "feature function output shape: torch.Size([3249, 32])\n",
      "Loaded full dataset WQ with shape: torch.Size([6497, 11]),torch.Size([6497])\n",
      "Loaded split dataset WQ train shape: torch.Size([3248, 11]) test sizetorch.Size([3249, 11]) \n",
      "setup a MLP regression network structure with [11, 64, 64, 32], dropout prob: 0.2\n",
      "MLP Regressor model setup with input dim: 11\n"
     ]
    },
    {
     "name": "stderr",
     "output_type": "stream",
     "text": [
      "MLP Regression Model Training:   0%|▏                                                  | 2/500 [00:00<00:36, 13.47it/s]"
     ]
    },
    {
     "name": "stdout",
     "output_type": "stream",
     "text": [
      "[1] current epoch total loss: 838.1410522460938\n"
     ]
    },
    {
     "name": "stderr",
     "output_type": "stream",
     "text": [
      "MLP Regression Model Training:  51%|████████████████████████▉                        | 254/500 [00:15<00:14, 17.48it/s]"
     ]
    },
    {
     "name": "stdout",
     "output_type": "stream",
     "text": [
      "[251] current epoch total loss: 18.661125600337982\n"
     ]
    },
    {
     "name": "stderr",
     "output_type": "stream",
     "text": [
      "MLP Regression Model Training: 100%|█████████████████████████████████████████████████| 500/500 [00:29<00:00, 16.67it/s]\n"
     ]
    },
    {
     "name": "stdout",
     "output_type": "stream",
     "text": [
      "Training finished, final loss: 13.6557035446167\n",
      "feature function output shape: torch.Size([3249, 32])\n",
      "Loaded full dataset WQ with shape: torch.Size([6497, 11]),torch.Size([6497])\n",
      "Loaded split dataset WQ train shape: torch.Size([3248, 11]) test sizetorch.Size([3249, 11]) \n",
      "setup a MLP regression network structure with [11, 64, 64, 32], dropout prob: 0.2\n",
      "MLP Regressor model setup with input dim: 11\n"
     ]
    },
    {
     "name": "stderr",
     "output_type": "stream",
     "text": [
      "MLP Regression Model Training:   0%|▏                                                  | 2/500 [00:00<00:32, 15.32it/s]"
     ]
    },
    {
     "name": "stdout",
     "output_type": "stream",
     "text": [
      "[1] current epoch total loss: 795.5945091247559\n"
     ]
    },
    {
     "name": "stderr",
     "output_type": "stream",
     "text": [
      "MLP Regression Model Training:  51%|████████████████████████▉                        | 254/500 [00:15<00:15, 16.20it/s]"
     ]
    },
    {
     "name": "stdout",
     "output_type": "stream",
     "text": [
      "[251] current epoch total loss: 19.253572583198547\n"
     ]
    },
    {
     "name": "stderr",
     "output_type": "stream",
     "text": [
      "MLP Regression Model Training: 100%|█████████████████████████████████████████████████| 500/500 [00:30<00:00, 16.22it/s]\n"
     ]
    },
    {
     "name": "stdout",
     "output_type": "stream",
     "text": [
      "Training finished, final loss: 13.48259723186493\n",
      "feature function output shape: torch.Size([3249, 32])\n",
      "Loaded full dataset WQ with shape: torch.Size([6497, 11]),torch.Size([6497])\n",
      "Loaded split dataset WQ train shape: torch.Size([3248, 11]) test sizetorch.Size([3249, 11]) \n",
      "setup a MLP regression network structure with [11, 64, 64, 32], dropout prob: 0.2\n",
      "MLP Regressor model setup with input dim: 11\n"
     ]
    },
    {
     "name": "stderr",
     "output_type": "stream",
     "text": [
      "MLP Regression Model Training:   0%|▏                                                  | 2/500 [00:00<00:32, 15.42it/s]"
     ]
    },
    {
     "name": "stdout",
     "output_type": "stream",
     "text": [
      "[1] current epoch total loss: 838.2406959533691\n"
     ]
    },
    {
     "name": "stderr",
     "output_type": "stream",
     "text": [
      "MLP Regression Model Training:  51%|████████████████████████▉                        | 254/500 [00:16<00:16, 15.34it/s]"
     ]
    },
    {
     "name": "stdout",
     "output_type": "stream",
     "text": [
      "[251] current epoch total loss: 19.179724514484406\n"
     ]
    },
    {
     "name": "stderr",
     "output_type": "stream",
     "text": [
      "MLP Regression Model Training: 100%|█████████████████████████████████████████████████| 500/500 [00:31<00:00, 15.83it/s]\n"
     ]
    },
    {
     "name": "stdout",
     "output_type": "stream",
     "text": [
      "Training finished, final loss: 12.857233256101608\n",
      "feature function output shape: torch.Size([3249, 32])\n",
      "Loaded full dataset WQ with shape: torch.Size([6497, 11]),torch.Size([6497])\n",
      "Loaded split dataset WQ train shape: torch.Size([3248, 11]) test sizetorch.Size([3249, 11]) \n",
      "setup a MLP regression network structure with [11, 64, 64, 32], dropout prob: 0.2\n",
      "MLP Regressor model setup with input dim: 11\n"
     ]
    },
    {
     "name": "stderr",
     "output_type": "stream",
     "text": [
      "MLP Regression Model Training:   0%|▏                                                  | 2/500 [00:00<00:33, 15.02it/s]"
     ]
    },
    {
     "name": "stdout",
     "output_type": "stream",
     "text": [
      "[1] current epoch total loss: 778.9054718017578\n"
     ]
    },
    {
     "name": "stderr",
     "output_type": "stream",
     "text": [
      "MLP Regression Model Training:  51%|████████████████████████▉                        | 254/500 [00:15<00:14, 16.71it/s]"
     ]
    },
    {
     "name": "stdout",
     "output_type": "stream",
     "text": [
      "[251] current epoch total loss: 18.98955672979355\n"
     ]
    },
    {
     "name": "stderr",
     "output_type": "stream",
     "text": [
      "MLP Regression Model Training: 100%|█████████████████████████████████████████████████| 500/500 [00:30<00:00, 16.33it/s]\n"
     ]
    },
    {
     "name": "stdout",
     "output_type": "stream",
     "text": [
      "Training finished, final loss: 13.172079354524612\n",
      "feature function output shape: torch.Size([3249, 32])\n",
      "Loaded full dataset WQ with shape: torch.Size([6497, 11]),torch.Size([6497])\n",
      "Loaded split dataset WQ train shape: torch.Size([3248, 11]) test sizetorch.Size([3249, 11]) \n",
      "setup a MLP regression network structure with [11, 64, 64, 32], dropout prob: 0.2\n",
      "MLP Regressor model setup with input dim: 11\n"
     ]
    },
    {
     "name": "stderr",
     "output_type": "stream",
     "text": [
      "MLP Regression Model Training:   0%|▏                                                  | 2/500 [00:00<00:32, 15.20it/s]"
     ]
    },
    {
     "name": "stdout",
     "output_type": "stream",
     "text": [
      "[1] current epoch total loss: 691.8266525268555\n"
     ]
    },
    {
     "name": "stderr",
     "output_type": "stream",
     "text": [
      "MLP Regression Model Training:  51%|████████████████████████▉                        | 254/500 [00:15<00:15, 16.14it/s]"
     ]
    },
    {
     "name": "stdout",
     "output_type": "stream",
     "text": [
      "[251] current epoch total loss: 18.460887789726257\n"
     ]
    },
    {
     "name": "stderr",
     "output_type": "stream",
     "text": [
      "MLP Regression Model Training: 100%|█████████████████████████████████████████████████| 500/500 [00:31<00:00, 15.89it/s]\n"
     ]
    },
    {
     "name": "stdout",
     "output_type": "stream",
     "text": [
      "Training finished, final loss: 13.018932729959488\n",
      "feature function output shape: torch.Size([3249, 32])\n",
      "Loaded full dataset WQ with shape: torch.Size([6497, 11]),torch.Size([6497])\n",
      "Loaded split dataset WQ train shape: torch.Size([3248, 11]) test sizetorch.Size([3249, 11]) \n",
      "setup a MLP regression network structure with [11, 64, 64, 32], dropout prob: 0.2\n",
      "MLP Regressor model setup with input dim: 11\n"
     ]
    },
    {
     "name": "stderr",
     "output_type": "stream",
     "text": [
      "MLP Regression Model Training:   0%|▏                                                  | 2/500 [00:00<00:47, 10.55it/s]"
     ]
    },
    {
     "name": "stdout",
     "output_type": "stream",
     "text": [
      "[1] current epoch total loss: 828.1889629364014\n"
     ]
    },
    {
     "name": "stderr",
     "output_type": "stream",
     "text": [
      "MLP Regression Model Training:  51%|████████████████████████▉                        | 254/500 [00:14<00:14, 17.46it/s]"
     ]
    },
    {
     "name": "stdout",
     "output_type": "stream",
     "text": [
      "[251] current epoch total loss: 18.439527928829193\n"
     ]
    },
    {
     "name": "stderr",
     "output_type": "stream",
     "text": [
      "MLP Regression Model Training: 100%|█████████████████████████████████████████████████| 500/500 [00:29<00:00, 17.10it/s]\n"
     ]
    },
    {
     "name": "stdout",
     "output_type": "stream",
     "text": [
      "Training finished, final loss: 12.537703782320023\n",
      "feature function output shape: torch.Size([3249, 32])\n",
      "Loaded full dataset WQ with shape: torch.Size([6497, 11]),torch.Size([6497])\n",
      "Loaded split dataset WQ train shape: torch.Size([3248, 11]) test sizetorch.Size([3249, 11]) \n",
      "setup a MLP regression network structure with [11, 64, 64, 32], dropout prob: 0.2\n",
      "MLP Regressor model setup with input dim: 11\n"
     ]
    },
    {
     "name": "stderr",
     "output_type": "stream",
     "text": [
      "MLP Regression Model Training:   0%|▏                                                  | 2/500 [00:00<00:32, 15.44it/s]"
     ]
    },
    {
     "name": "stdout",
     "output_type": "stream",
     "text": [
      "[1] current epoch total loss: 777.8358306884766\n"
     ]
    },
    {
     "name": "stderr",
     "output_type": "stream",
     "text": [
      "MLP Regression Model Training:  51%|████████████████████████▉                        | 254/500 [00:15<00:14, 17.00it/s]"
     ]
    },
    {
     "name": "stdout",
     "output_type": "stream",
     "text": [
      "[251] current epoch total loss: 18.12556552886963\n"
     ]
    },
    {
     "name": "stderr",
     "output_type": "stream",
     "text": [
      "MLP Regression Model Training: 100%|█████████████████████████████████████████████████| 500/500 [00:30<00:00, 16.32it/s]\n"
     ]
    },
    {
     "name": "stdout",
     "output_type": "stream",
     "text": [
      "Training finished, final loss: 13.182651609182358\n",
      "feature function output shape: torch.Size([3249, 32])\n",
      "Loaded full dataset WQ with shape: torch.Size([6497, 11]),torch.Size([6497])\n",
      "Loaded split dataset WQ train shape: torch.Size([3248, 11]) test sizetorch.Size([3249, 11]) \n",
      "setup a MLP regression network structure with [11, 64, 64, 32], dropout prob: 0.2\n",
      "MLP Regressor model setup with input dim: 11\n"
     ]
    },
    {
     "name": "stderr",
     "output_type": "stream",
     "text": [
      "MLP Regression Model Training:   0%|▏                                                  | 2/500 [00:00<00:31, 16.01it/s]"
     ]
    },
    {
     "name": "stdout",
     "output_type": "stream",
     "text": [
      "[1] current epoch total loss: 838.7067699432373\n"
     ]
    },
    {
     "name": "stderr",
     "output_type": "stream",
     "text": [
      "MLP Regression Model Training:  51%|████████████████████████▉                        | 254/500 [00:14<00:13, 17.88it/s]"
     ]
    },
    {
     "name": "stdout",
     "output_type": "stream",
     "text": [
      "[251] current epoch total loss: 18.58446168899536\n"
     ]
    },
    {
     "name": "stderr",
     "output_type": "stream",
     "text": [
      "MLP Regression Model Training: 100%|█████████████████████████████████████████████████| 500/500 [00:29<00:00, 17.24it/s]\n"
     ]
    },
    {
     "name": "stdout",
     "output_type": "stream",
     "text": [
      "Training finished, final loss: 12.866781502962112\n",
      "feature function output shape: torch.Size([3249, 32])\n",
      "Loaded full dataset WQ with shape: torch.Size([6497, 11]),torch.Size([6497])\n",
      "Loaded split dataset WQ train shape: torch.Size([3248, 11]) test sizetorch.Size([3249, 11]) \n",
      "setup a MLP regression network structure with [11, 64, 64, 32], dropout prob: 0.2\n",
      "MLP Regressor model setup with input dim: 11\n"
     ]
    },
    {
     "name": "stderr",
     "output_type": "stream",
     "text": [
      "MLP Regression Model Training:   0%|                                                  | 2/1000 [00:00<01:07, 14.81it/s]"
     ]
    },
    {
     "name": "stdout",
     "output_type": "stream",
     "text": [
      "[1] current epoch total loss: 768.6038227081299\n"
     ]
    },
    {
     "name": "stderr",
     "output_type": "stream",
     "text": [
      "MLP Regression Model Training:  25%|████████████▏                                   | 254/1000 [00:14<00:42, 17.73it/s]"
     ]
    },
    {
     "name": "stdout",
     "output_type": "stream",
     "text": [
      "[251] current epoch total loss: 18.420797049999237\n"
     ]
    },
    {
     "name": "stderr",
     "output_type": "stream",
     "text": [
      "MLP Regression Model Training:  50%|████████████████████████▏                       | 504/1000 [00:29<00:29, 17.09it/s]"
     ]
    },
    {
     "name": "stdout",
     "output_type": "stream",
     "text": [
      "[501] current epoch total loss: 12.981577038764954\n"
     ]
    },
    {
     "name": "stderr",
     "output_type": "stream",
     "text": [
      "MLP Regression Model Training:  75%|████████████████████████████████████▏           | 754/1000 [00:44<00:15, 15.48it/s]"
     ]
    },
    {
     "name": "stdout",
     "output_type": "stream",
     "text": [
      "[751] current epoch total loss: 11.29770740866661\n"
     ]
    },
    {
     "name": "stderr",
     "output_type": "stream",
     "text": [
      "MLP Regression Model Training: 100%|███████████████████████████████████████████████| 1000/1000 [01:00<00:00, 16.55it/s]\n"
     ]
    },
    {
     "name": "stdout",
     "output_type": "stream",
     "text": [
      "Training finished, final loss: 10.342382907867432\n",
      "feature function output shape: torch.Size([3249, 32])\n",
      "Loaded full dataset WQ with shape: torch.Size([6497, 11]),torch.Size([6497])\n",
      "Loaded split dataset WQ train shape: torch.Size([3248, 11]) test sizetorch.Size([3249, 11]) \n",
      "setup a MLP regression network structure with [11, 64, 64, 32], dropout prob: 0.2\n",
      "MLP Regressor model setup with input dim: 11\n"
     ]
    },
    {
     "name": "stderr",
     "output_type": "stream",
     "text": [
      "MLP Regression Model Training:   0%|                                                  | 2/1000 [00:00<01:30, 10.99it/s]"
     ]
    },
    {
     "name": "stdout",
     "output_type": "stream",
     "text": [
      "[1] current epoch total loss: 1007.9751892089844\n"
     ]
    },
    {
     "name": "stderr",
     "output_type": "stream",
     "text": [
      "MLP Regression Model Training:  25%|████████████▏                                   | 254/1000 [00:15<00:44, 16.92it/s]"
     ]
    },
    {
     "name": "stdout",
     "output_type": "stream",
     "text": [
      "[251] current epoch total loss: 18.977375268936157\n"
     ]
    },
    {
     "name": "stderr",
     "output_type": "stream",
     "text": [
      "MLP Regression Model Training:  50%|████████████████████████                        | 502/1000 [00:30<00:34, 14.64it/s]"
     ]
    },
    {
     "name": "stdout",
     "output_type": "stream",
     "text": [
      "[501] current epoch total loss: 13.175286769866943\n"
     ]
    },
    {
     "name": "stderr",
     "output_type": "stream",
     "text": [
      "MLP Regression Model Training:  75%|████████████████████████████████████▏           | 754/1000 [00:46<00:14, 17.24it/s]"
     ]
    },
    {
     "name": "stdout",
     "output_type": "stream",
     "text": [
      "[751] current epoch total loss: 10.505736768245697\n"
     ]
    },
    {
     "name": "stderr",
     "output_type": "stream",
     "text": [
      "MLP Regression Model Training: 100%|███████████████████████████████████████████████| 1000/1000 [01:01<00:00, 16.30it/s]\n"
     ]
    },
    {
     "name": "stdout",
     "output_type": "stream",
     "text": [
      "Training finished, final loss: 9.63278280198574\n",
      "feature function output shape: torch.Size([3249, 32])\n",
      "Loaded full dataset WQ with shape: torch.Size([6497, 11]),torch.Size([6497])\n",
      "Loaded split dataset WQ train shape: torch.Size([3248, 11]) test sizetorch.Size([3249, 11]) \n",
      "setup a MLP regression network structure with [11, 64, 64, 32], dropout prob: 0.2\n",
      "MLP Regressor model setup with input dim: 11\n"
     ]
    },
    {
     "name": "stderr",
     "output_type": "stream",
     "text": [
      "MLP Regression Model Training:   0%|                                                  | 2/1000 [00:00<01:03, 15.73it/s]"
     ]
    },
    {
     "name": "stdout",
     "output_type": "stream",
     "text": [
      "[1] current epoch total loss: 952.5917282104492\n"
     ]
    },
    {
     "name": "stderr",
     "output_type": "stream",
     "text": [
      "MLP Regression Model Training:  25%|████████████▏                                   | 254/1000 [00:15<00:44, 16.76it/s]"
     ]
    },
    {
     "name": "stdout",
     "output_type": "stream",
     "text": [
      "[251] current epoch total loss: 19.250797510147095\n"
     ]
    },
    {
     "name": "stderr",
     "output_type": "stream",
     "text": [
      "MLP Regression Model Training:  50%|████████████████████████▏                       | 504/1000 [00:30<00:30, 16.42it/s]"
     ]
    },
    {
     "name": "stdout",
     "output_type": "stream",
     "text": [
      "[501] current epoch total loss: 13.533092975616455\n"
     ]
    },
    {
     "name": "stderr",
     "output_type": "stream",
     "text": [
      "MLP Regression Model Training:  75%|████████████████████████████████████▏           | 754/1000 [00:45<00:14, 16.58it/s]"
     ]
    },
    {
     "name": "stdout",
     "output_type": "stream",
     "text": [
      "[751] current epoch total loss: 11.375254482030869\n"
     ]
    },
    {
     "name": "stderr",
     "output_type": "stream",
     "text": [
      "MLP Regression Model Training: 100%|███████████████████████████████████████████████| 1000/1000 [01:00<00:00, 16.41it/s]\n"
     ]
    },
    {
     "name": "stdout",
     "output_type": "stream",
     "text": [
      "Training finished, final loss: 10.362627312541008\n",
      "feature function output shape: torch.Size([3249, 32])\n",
      "Loaded full dataset WQ with shape: torch.Size([6497, 11]),torch.Size([6497])\n",
      "Loaded split dataset WQ train shape: torch.Size([3248, 11]) test sizetorch.Size([3249, 11]) \n",
      "setup a MLP regression network structure with [11, 64, 64, 32], dropout prob: 0.2\n",
      "MLP Regressor model setup with input dim: 11\n"
     ]
    },
    {
     "name": "stderr",
     "output_type": "stream",
     "text": [
      "MLP Regression Model Training:   0%|                                                  | 2/1000 [00:00<01:05, 15.32it/s]"
     ]
    },
    {
     "name": "stdout",
     "output_type": "stream",
     "text": [
      "[1] current epoch total loss: 873.9283638000488\n"
     ]
    },
    {
     "name": "stderr",
     "output_type": "stream",
     "text": [
      "MLP Regression Model Training:  25%|████████████▏                                   | 254/1000 [00:15<00:44, 16.92it/s]"
     ]
    },
    {
     "name": "stdout",
     "output_type": "stream",
     "text": [
      "[251] current epoch total loss: 18.14468741416931\n"
     ]
    },
    {
     "name": "stderr",
     "output_type": "stream",
     "text": [
      "MLP Regression Model Training:  50%|████████████████████████▏                       | 504/1000 [00:30<00:27, 17.74it/s]"
     ]
    },
    {
     "name": "stdout",
     "output_type": "stream",
     "text": [
      "[501] current epoch total loss: 12.701443612575531\n"
     ]
    },
    {
     "name": "stderr",
     "output_type": "stream",
     "text": [
      "MLP Regression Model Training:  75%|████████████████████████████████████▏           | 754/1000 [00:44<00:15, 16.31it/s]"
     ]
    },
    {
     "name": "stdout",
     "output_type": "stream",
     "text": [
      "[751] current epoch total loss: 10.551512479782104\n"
     ]
    },
    {
     "name": "stderr",
     "output_type": "stream",
     "text": [
      "MLP Regression Model Training: 100%|███████████████████████████████████████████████| 1000/1000 [01:00<00:00, 16.59it/s]\n"
     ]
    },
    {
     "name": "stdout",
     "output_type": "stream",
     "text": [
      "Training finished, final loss: 9.649086892604828\n",
      "feature function output shape: torch.Size([3249, 32])\n",
      "Loaded full dataset WQ with shape: torch.Size([6497, 11]),torch.Size([6497])\n",
      "Loaded split dataset WQ train shape: torch.Size([3248, 11]) test sizetorch.Size([3249, 11]) \n",
      "setup a MLP regression network structure with [11, 64, 64, 32], dropout prob: 0.2\n",
      "MLP Regressor model setup with input dim: 11\n"
     ]
    },
    {
     "name": "stderr",
     "output_type": "stream",
     "text": [
      "MLP Regression Model Training:   0%|                                                  | 2/1000 [00:00<01:03, 15.80it/s]"
     ]
    },
    {
     "name": "stdout",
     "output_type": "stream",
     "text": [
      "[1] current epoch total loss: 951.4304313659668\n"
     ]
    },
    {
     "name": "stderr",
     "output_type": "stream",
     "text": [
      "MLP Regression Model Training:  25%|████████████▏                                   | 254/1000 [00:14<00:42, 17.55it/s]"
     ]
    },
    {
     "name": "stdout",
     "output_type": "stream",
     "text": [
      "[251] current epoch total loss: 19.205528616905212\n"
     ]
    },
    {
     "name": "stderr",
     "output_type": "stream",
     "text": [
      "MLP Regression Model Training:  50%|████████████████████████▏                       | 504/1000 [00:29<00:30, 16.40it/s]"
     ]
    },
    {
     "name": "stdout",
     "output_type": "stream",
     "text": [
      "[501] current epoch total loss: 13.385982900857925\n"
     ]
    },
    {
     "name": "stderr",
     "output_type": "stream",
     "text": [
      "MLP Regression Model Training:  75%|████████████████████████████████████▏           | 754/1000 [00:44<00:15, 15.95it/s]"
     ]
    },
    {
     "name": "stdout",
     "output_type": "stream",
     "text": [
      "[751] current epoch total loss: 11.238003224134445\n"
     ]
    },
    {
     "name": "stderr",
     "output_type": "stream",
     "text": [
      "MLP Regression Model Training: 100%|███████████████████████████████████████████████| 1000/1000 [00:59<00:00, 16.79it/s]\n"
     ]
    },
    {
     "name": "stdout",
     "output_type": "stream",
     "text": [
      "Training finished, final loss: 10.200338751077652\n",
      "feature function output shape: torch.Size([3249, 32])\n",
      "Loaded full dataset WQ with shape: torch.Size([6497, 11]),torch.Size([6497])\n",
      "Loaded split dataset WQ train shape: torch.Size([3248, 11]) test sizetorch.Size([3249, 11]) \n",
      "setup a MLP regression network structure with [11, 64, 64, 32], dropout prob: 0.2\n",
      "MLP Regressor model setup with input dim: 11\n"
     ]
    },
    {
     "name": "stderr",
     "output_type": "stream",
     "text": [
      "MLP Regression Model Training:   0%|                                                  | 2/1000 [00:00<01:05, 15.32it/s]"
     ]
    },
    {
     "name": "stdout",
     "output_type": "stream",
     "text": [
      "[1] current epoch total loss: 793.5381546020508\n"
     ]
    },
    {
     "name": "stderr",
     "output_type": "stream",
     "text": [
      "MLP Regression Model Training:  25%|████████████▏                                   | 254/1000 [00:14<00:43, 17.34it/s]"
     ]
    },
    {
     "name": "stdout",
     "output_type": "stream",
     "text": [
      "[251] current epoch total loss: 18.77728122472763\n"
     ]
    },
    {
     "name": "stderr",
     "output_type": "stream",
     "text": [
      "MLP Regression Model Training:  50%|████████████████████████▏                       | 504/1000 [00:28<00:28, 17.53it/s]"
     ]
    },
    {
     "name": "stdout",
     "output_type": "stream",
     "text": [
      "[501] current epoch total loss: 12.467881798744202\n"
     ]
    },
    {
     "name": "stderr",
     "output_type": "stream",
     "text": [
      "MLP Regression Model Training:  75%|████████████████████████████████████▏           | 754/1000 [00:43<00:14, 17.00it/s]"
     ]
    },
    {
     "name": "stdout",
     "output_type": "stream",
     "text": [
      "[751] current epoch total loss: 10.41810417175293\n"
     ]
    },
    {
     "name": "stderr",
     "output_type": "stream",
     "text": [
      "MLP Regression Model Training: 100%|███████████████████████████████████████████████| 1000/1000 [00:58<00:00, 17.15it/s]\n"
     ]
    },
    {
     "name": "stdout",
     "output_type": "stream",
     "text": [
      "Training finished, final loss: 9.777161985635757\n",
      "feature function output shape: torch.Size([3249, 32])\n",
      "Loaded full dataset WQ with shape: torch.Size([6497, 11]),torch.Size([6497])\n",
      "Loaded split dataset WQ train shape: torch.Size([3248, 11]) test sizetorch.Size([3249, 11]) \n",
      "setup a MLP regression network structure with [11, 64, 64, 32], dropout prob: 0.2\n",
      "MLP Regressor model setup with input dim: 11\n"
     ]
    },
    {
     "name": "stderr",
     "output_type": "stream",
     "text": [
      "MLP Regression Model Training:   0%|                                                  | 2/1000 [00:00<01:00, 16.37it/s]"
     ]
    },
    {
     "name": "stdout",
     "output_type": "stream",
     "text": [
      "[1] current epoch total loss: 932.157398223877\n"
     ]
    },
    {
     "name": "stderr",
     "output_type": "stream",
     "text": [
      "MLP Regression Model Training:  25%|████████████▏                                   | 254/1000 [00:15<00:43, 17.06it/s]"
     ]
    },
    {
     "name": "stdout",
     "output_type": "stream",
     "text": [
      "[251] current epoch total loss: 19.859650909900665\n"
     ]
    },
    {
     "name": "stderr",
     "output_type": "stream",
     "text": [
      "MLP Regression Model Training:  50%|████████████████████████▏                       | 504/1000 [00:30<00:33, 14.78it/s]"
     ]
    },
    {
     "name": "stdout",
     "output_type": "stream",
     "text": [
      "[501] current epoch total loss: 13.55989283323288\n"
     ]
    },
    {
     "name": "stderr",
     "output_type": "stream",
     "text": [
      "MLP Regression Model Training:  75%|████████████████████████████████████▏           | 754/1000 [00:45<00:15, 15.58it/s]"
     ]
    },
    {
     "name": "stdout",
     "output_type": "stream",
     "text": [
      "[751] current epoch total loss: 10.852207273244858\n"
     ]
    },
    {
     "name": "stderr",
     "output_type": "stream",
     "text": [
      "MLP Regression Model Training: 100%|███████████████████████████████████████████████| 1000/1000 [01:01<00:00, 16.31it/s]\n"
     ]
    },
    {
     "name": "stdout",
     "output_type": "stream",
     "text": [
      "Training finished, final loss: 9.82488352060318\n",
      "feature function output shape: torch.Size([3249, 32])\n",
      "Loaded full dataset WQ with shape: torch.Size([6497, 11]),torch.Size([6497])\n",
      "Loaded split dataset WQ train shape: torch.Size([3248, 11]) test sizetorch.Size([3249, 11]) \n",
      "setup a MLP regression network structure with [11, 64, 64, 32], dropout prob: 0.2\n",
      "MLP Regressor model setup with input dim: 11\n"
     ]
    },
    {
     "name": "stderr",
     "output_type": "stream",
     "text": [
      "MLP Regression Model Training:   0%|                                                  | 2/1000 [00:00<01:07, 14.80it/s]"
     ]
    },
    {
     "name": "stdout",
     "output_type": "stream",
     "text": [
      "[1] current epoch total loss: 865.2323513031006\n"
     ]
    },
    {
     "name": "stderr",
     "output_type": "stream",
     "text": [
      "MLP Regression Model Training:  25%|████████████▏                                   | 254/1000 [00:15<00:47, 15.63it/s]"
     ]
    },
    {
     "name": "stdout",
     "output_type": "stream",
     "text": [
      "[251] current epoch total loss: 19.161752104759216\n"
     ]
    },
    {
     "name": "stderr",
     "output_type": "stream",
     "text": [
      "MLP Regression Model Training:  50%|████████████████████████▏                       | 504/1000 [00:30<00:29, 16.98it/s]"
     ]
    },
    {
     "name": "stdout",
     "output_type": "stream",
     "text": [
      "[501] current epoch total loss: 13.31179741024971\n"
     ]
    },
    {
     "name": "stderr",
     "output_type": "stream",
     "text": [
      "MLP Regression Model Training:  75%|████████████████████████████████████▏           | 754/1000 [00:45<00:14, 17.09it/s]"
     ]
    },
    {
     "name": "stdout",
     "output_type": "stream",
     "text": [
      "[751] current epoch total loss: 10.836027443408966\n"
     ]
    },
    {
     "name": "stderr",
     "output_type": "stream",
     "text": [
      "MLP Regression Model Training: 100%|███████████████████████████████████████████████| 1000/1000 [01:00<00:00, 16.42it/s]\n"
     ]
    },
    {
     "name": "stdout",
     "output_type": "stream",
     "text": [
      "Training finished, final loss: 9.872399747371674\n",
      "feature function output shape: torch.Size([3249, 32])\n",
      "Loaded full dataset WQ with shape: torch.Size([6497, 11]),torch.Size([6497])\n",
      "Loaded split dataset WQ train shape: torch.Size([3248, 11]) test sizetorch.Size([3249, 11]) \n",
      "setup a MLP regression network structure with [11, 64, 64, 32], dropout prob: 0.2\n",
      "MLP Regressor model setup with input dim: 11\n"
     ]
    },
    {
     "name": "stderr",
     "output_type": "stream",
     "text": [
      "MLP Regression Model Training:   0%|                                                  | 2/1000 [00:00<01:09, 14.33it/s]"
     ]
    },
    {
     "name": "stdout",
     "output_type": "stream",
     "text": [
      "[1] current epoch total loss: 826.2288150787354\n"
     ]
    },
    {
     "name": "stderr",
     "output_type": "stream",
     "text": [
      "MLP Regression Model Training:  25%|████████████▏                                   | 254/1000 [00:15<00:43, 16.99it/s]"
     ]
    },
    {
     "name": "stdout",
     "output_type": "stream",
     "text": [
      "[251] current epoch total loss: 19.160222470760345\n"
     ]
    },
    {
     "name": "stderr",
     "output_type": "stream",
     "text": [
      "MLP Regression Model Training:  50%|████████████████████████▏                       | 504/1000 [00:30<00:30, 16.45it/s]"
     ]
    },
    {
     "name": "stdout",
     "output_type": "stream",
     "text": [
      "[501] current epoch total loss: 12.19826340675354\n"
     ]
    },
    {
     "name": "stderr",
     "output_type": "stream",
     "text": [
      "MLP Regression Model Training:  75%|████████████████████████████████████▏           | 754/1000 [00:45<00:15, 15.59it/s]"
     ]
    },
    {
     "name": "stdout",
     "output_type": "stream",
     "text": [
      "[751] current epoch total loss: 10.343039572238922\n"
     ]
    },
    {
     "name": "stderr",
     "output_type": "stream",
     "text": [
      "MLP Regression Model Training: 100%|███████████████████████████████████████████████| 1000/1000 [01:01<00:00, 16.28it/s]\n"
     ]
    },
    {
     "name": "stdout",
     "output_type": "stream",
     "text": [
      "Training finished, final loss: 9.328390777111053\n",
      "feature function output shape: torch.Size([3249, 32])\n",
      "Loaded full dataset WQ with shape: torch.Size([6497, 11]),torch.Size([6497])\n",
      "Loaded split dataset WQ train shape: torch.Size([3248, 11]) test sizetorch.Size([3249, 11]) \n",
      "setup a MLP regression network structure with [11, 64, 64, 32], dropout prob: 0.2\n",
      "MLP Regressor model setup with input dim: 11\n"
     ]
    },
    {
     "name": "stderr",
     "output_type": "stream",
     "text": [
      "MLP Regression Model Training:   0%|                                                  | 2/1000 [00:00<01:05, 15.32it/s]"
     ]
    },
    {
     "name": "stdout",
     "output_type": "stream",
     "text": [
      "[1] current epoch total loss: 830.3212184906006\n"
     ]
    },
    {
     "name": "stderr",
     "output_type": "stream",
     "text": [
      "MLP Regression Model Training:  25%|████████████▏                                   | 254/1000 [00:15<00:46, 16.07it/s]"
     ]
    },
    {
     "name": "stdout",
     "output_type": "stream",
     "text": [
      "[251] current epoch total loss: 19.01236140727997\n"
     ]
    },
    {
     "name": "stderr",
     "output_type": "stream",
     "text": [
      "MLP Regression Model Training:  50%|████████████████████████                        | 502/1000 [00:30<00:33, 14.89it/s]"
     ]
    },
    {
     "name": "stdout",
     "output_type": "stream",
     "text": [
      "[501] current epoch total loss: 12.63458263874054\n"
     ]
    },
    {
     "name": "stderr",
     "output_type": "stream",
     "text": [
      "MLP Regression Model Training:  75%|████████████████████████████████████▏           | 754/1000 [00:45<00:15, 15.60it/s]"
     ]
    },
    {
     "name": "stdout",
     "output_type": "stream",
     "text": [
      "[751] current epoch total loss: 10.753399133682251\n"
     ]
    },
    {
     "name": "stderr",
     "output_type": "stream",
     "text": [
      "MLP Regression Model Training: 100%|███████████████████████████████████████████████| 1000/1000 [01:00<00:00, 16.66it/s]\n"
     ]
    },
    {
     "name": "stdout",
     "output_type": "stream",
     "text": [
      "Training finished, final loss: 9.94311437010765\n",
      "feature function output shape: torch.Size([3249, 32])\n",
      "Loaded full dataset WQ with shape: torch.Size([6497, 11]),torch.Size([6497])\n",
      "Loaded split dataset WQ train shape: torch.Size([3248, 11]) test sizetorch.Size([3249, 11]) \n",
      "setup a MLP regression network structure with [11, 64, 64, 32], dropout prob: 0.2\n",
      "MLP Regressor model setup with input dim: 11\n"
     ]
    },
    {
     "name": "stderr",
     "output_type": "stream",
     "text": [
      "MLP Regression Model Training:   0%|                                                  | 2/2000 [00:00<02:06, 15.80it/s]"
     ]
    },
    {
     "name": "stdout",
     "output_type": "stream",
     "text": [
      "[1] current epoch total loss: 706.3633670806885\n"
     ]
    },
    {
     "name": "stderr",
     "output_type": "stream",
     "text": [
      "MLP Regression Model Training:  13%|██████                                          | 254/2000 [00:14<01:45, 16.63it/s]"
     ]
    },
    {
     "name": "stdout",
     "output_type": "stream",
     "text": [
      "[251] current epoch total loss: 18.317720979452133\n"
     ]
    },
    {
     "name": "stderr",
     "output_type": "stream",
     "text": [
      "MLP Regression Model Training:  25%|████████████                                    | 502/2000 [00:29<01:30, 16.59it/s]"
     ]
    },
    {
     "name": "stdout",
     "output_type": "stream",
     "text": [
      "[501] current epoch total loss: 12.411201924085617\n"
     ]
    },
    {
     "name": "stderr",
     "output_type": "stream",
     "text": [
      "MLP Regression Model Training:  38%|██████████████████                              | 754/2000 [00:43<01:13, 17.04it/s]"
     ]
    },
    {
     "name": "stdout",
     "output_type": "stream",
     "text": [
      "[751] current epoch total loss: 10.700043082237244\n"
     ]
    },
    {
     "name": "stderr",
     "output_type": "stream",
     "text": [
      "MLP Regression Model Training:  50%|███████████████████████▌                       | 1004/2000 [00:59<00:56, 17.61it/s]"
     ]
    },
    {
     "name": "stdout",
     "output_type": "stream",
     "text": [
      "[1001] current epoch total loss: 9.894265934824944\n"
     ]
    },
    {
     "name": "stderr",
     "output_type": "stream",
     "text": [
      "MLP Regression Model Training:  63%|█████████████████████████████▍                 | 1254/2000 [01:13<00:44, 16.91it/s]"
     ]
    },
    {
     "name": "stdout",
     "output_type": "stream",
     "text": [
      "[1251] current epoch total loss: 9.212836518883705\n"
     ]
    },
    {
     "name": "stderr",
     "output_type": "stream",
     "text": [
      "MLP Regression Model Training:  75%|███████████████████████████████████▎           | 1504/2000 [01:28<00:29, 16.96it/s]"
     ]
    },
    {
     "name": "stdout",
     "output_type": "stream",
     "text": [
      "[1501] current epoch total loss: 8.952618807554245\n"
     ]
    },
    {
     "name": "stderr",
     "output_type": "stream",
     "text": [
      "MLP Regression Model Training:  88%|█████████████████████████████████████████▏     | 1754/2000 [01:44<00:14, 17.41it/s]"
     ]
    },
    {
     "name": "stdout",
     "output_type": "stream",
     "text": [
      "[1751] current epoch total loss: 8.653808146715164\n"
     ]
    },
    {
     "name": "stderr",
     "output_type": "stream",
     "text": [
      "MLP Regression Model Training: 100%|███████████████████████████████████████████████| 2000/2000 [01:58<00:00, 16.89it/s]\n"
     ]
    },
    {
     "name": "stdout",
     "output_type": "stream",
     "text": [
      "Training finished, final loss: 8.27664914727211\n",
      "feature function output shape: torch.Size([3249, 32])\n",
      "Loaded full dataset WQ with shape: torch.Size([6497, 11]),torch.Size([6497])\n",
      "Loaded split dataset WQ train shape: torch.Size([3248, 11]) test sizetorch.Size([3249, 11]) \n",
      "setup a MLP regression network structure with [11, 64, 64, 32], dropout prob: 0.2\n",
      "MLP Regressor model setup with input dim: 11\n"
     ]
    },
    {
     "name": "stderr",
     "output_type": "stream",
     "text": [
      "MLP Regression Model Training:   0%|                                                  | 2/2000 [00:00<02:12, 15.09it/s]"
     ]
    },
    {
     "name": "stdout",
     "output_type": "stream",
     "text": [
      "[1] current epoch total loss: 985.3774948120117\n"
     ]
    },
    {
     "name": "stderr",
     "output_type": "stream",
     "text": [
      "MLP Regression Model Training:  13%|██████                                          | 254/2000 [00:15<01:42, 17.00it/s]"
     ]
    },
    {
     "name": "stdout",
     "output_type": "stream",
     "text": [
      "[251] current epoch total loss: 18.97819298505783\n"
     ]
    },
    {
     "name": "stderr",
     "output_type": "stream",
     "text": [
      "MLP Regression Model Training:  25%|████████████                                    | 504/2000 [00:30<01:29, 16.73it/s]"
     ]
    },
    {
     "name": "stdout",
     "output_type": "stream",
     "text": [
      "[501] current epoch total loss: 13.551178187131882\n"
     ]
    },
    {
     "name": "stderr",
     "output_type": "stream",
     "text": [
      "MLP Regression Model Training:  38%|██████████████████                              | 754/2000 [00:45<01:13, 17.05it/s]"
     ]
    },
    {
     "name": "stdout",
     "output_type": "stream",
     "text": [
      "[751] current epoch total loss: 11.126483291387558\n"
     ]
    },
    {
     "name": "stderr",
     "output_type": "stream",
     "text": [
      "MLP Regression Model Training:  50%|███████████████████████▌                       | 1004/2000 [01:00<01:00, 16.43it/s]"
     ]
    },
    {
     "name": "stdout",
     "output_type": "stream",
     "text": [
      "[1001] current epoch total loss: 10.369510889053345\n"
     ]
    },
    {
     "name": "stderr",
     "output_type": "stream",
     "text": [
      "MLP Regression Model Training:  63%|█████████████████████████████▍                 | 1252/2000 [01:16<00:51, 14.41it/s]"
     ]
    },
    {
     "name": "stdout",
     "output_type": "stream",
     "text": [
      "[1251] current epoch total loss: 9.77586168050766\n"
     ]
    },
    {
     "name": "stderr",
     "output_type": "stream",
     "text": [
      "MLP Regression Model Training:  75%|███████████████████████████████████▎           | 1504/2000 [01:32<00:31, 15.74it/s]"
     ]
    },
    {
     "name": "stdout",
     "output_type": "stream",
     "text": [
      "[1501] current epoch total loss: 9.42180797457695\n"
     ]
    },
    {
     "name": "stderr",
     "output_type": "stream",
     "text": [
      "MLP Regression Model Training:  88%|█████████████████████████████████████████▏     | 1754/2000 [01:47<00:15, 15.94it/s]"
     ]
    },
    {
     "name": "stdout",
     "output_type": "stream",
     "text": [
      "[1751] current epoch total loss: 9.47154414653778\n"
     ]
    },
    {
     "name": "stderr",
     "output_type": "stream",
     "text": [
      "MLP Regression Model Training: 100%|███████████████████████████████████████████████| 2000/2000 [02:02<00:00, 16.38it/s]\n"
     ]
    },
    {
     "name": "stdout",
     "output_type": "stream",
     "text": [
      "Training finished, final loss: 9.198308780789375\n",
      "feature function output shape: torch.Size([3249, 32])\n",
      "Loaded full dataset WQ with shape: torch.Size([6497, 11]),torch.Size([6497])\n",
      "Loaded split dataset WQ train shape: torch.Size([3248, 11]) test sizetorch.Size([3249, 11]) \n",
      "setup a MLP regression network structure with [11, 64, 64, 32], dropout prob: 0.2\n",
      "MLP Regressor model setup with input dim: 11\n"
     ]
    },
    {
     "name": "stderr",
     "output_type": "stream",
     "text": [
      "MLP Regression Model Training:   0%|                                                  | 2/2000 [00:00<02:09, 15.44it/s]"
     ]
    },
    {
     "name": "stdout",
     "output_type": "stream",
     "text": [
      "[1] current epoch total loss: 892.8442668914795\n"
     ]
    },
    {
     "name": "stderr",
     "output_type": "stream",
     "text": [
      "MLP Regression Model Training:  13%|██████                                          | 254/2000 [00:14<01:39, 17.57it/s]"
     ]
    },
    {
     "name": "stdout",
     "output_type": "stream",
     "text": [
      "[251] current epoch total loss: 18.664243042469025\n"
     ]
    },
    {
     "name": "stderr",
     "output_type": "stream",
     "text": [
      "MLP Regression Model Training:  25%|████████████                                    | 502/2000 [00:30<01:42, 14.64it/s]"
     ]
    },
    {
     "name": "stdout",
     "output_type": "stream",
     "text": [
      "[501] current epoch total loss: 13.392529428005219\n"
     ]
    },
    {
     "name": "stderr",
     "output_type": "stream",
     "text": [
      "MLP Regression Model Training:  38%|██████████████████                              | 754/2000 [00:45<01:17, 16.05it/s]"
     ]
    },
    {
     "name": "stdout",
     "output_type": "stream",
     "text": [
      "[751] current epoch total loss: 11.123386710882187\n"
     ]
    },
    {
     "name": "stderr",
     "output_type": "stream",
     "text": [
      "MLP Regression Model Training:  50%|███████████████████████▌                       | 1004/2000 [01:01<00:57, 17.36it/s]"
     ]
    },
    {
     "name": "stdout",
     "output_type": "stream",
     "text": [
      "[1001] current epoch total loss: 10.203002482652664\n"
     ]
    },
    {
     "name": "stderr",
     "output_type": "stream",
     "text": [
      "MLP Regression Model Training:  63%|█████████████████████████████▍                 | 1254/2000 [01:16<00:43, 16.96it/s]"
     ]
    },
    {
     "name": "stdout",
     "output_type": "stream",
     "text": [
      "[1251] current epoch total loss: 9.30538535118103\n"
     ]
    },
    {
     "name": "stderr",
     "output_type": "stream",
     "text": [
      "MLP Regression Model Training:  75%|███████████████████████████████████▎           | 1504/2000 [01:31<00:31, 15.97it/s]"
     ]
    },
    {
     "name": "stdout",
     "output_type": "stream",
     "text": [
      "[1501] current epoch total loss: 9.11471213400364\n"
     ]
    },
    {
     "name": "stderr",
     "output_type": "stream",
     "text": [
      "MLP Regression Model Training:  88%|█████████████████████████████████████████▏     | 1752/2000 [01:49<00:17, 14.49it/s]"
     ]
    },
    {
     "name": "stdout",
     "output_type": "stream",
     "text": [
      "[1751] current epoch total loss: 8.984524458646774\n"
     ]
    },
    {
     "name": "stderr",
     "output_type": "stream",
     "text": [
      "MLP Regression Model Training: 100%|███████████████████████████████████████████████| 2000/2000 [02:07<00:00, 15.73it/s]\n"
     ]
    },
    {
     "name": "stdout",
     "output_type": "stream",
     "text": [
      "Training finished, final loss: 9.324763298034668\n",
      "feature function output shape: torch.Size([3249, 32])\n",
      "Loaded full dataset WQ with shape: torch.Size([6497, 11]),torch.Size([6497])\n",
      "Loaded split dataset WQ train shape: torch.Size([3248, 11]) test sizetorch.Size([3249, 11]) \n",
      "setup a MLP regression network structure with [11, 64, 64, 32], dropout prob: 0.2\n",
      "MLP Regressor model setup with input dim: 11\n"
     ]
    },
    {
     "name": "stderr",
     "output_type": "stream",
     "text": [
      "MLP Regression Model Training:   0%|                                                  | 2/2000 [00:00<02:40, 12.46it/s]"
     ]
    },
    {
     "name": "stdout",
     "output_type": "stream",
     "text": [
      "[1] current epoch total loss: 848.7504749298096\n"
     ]
    },
    {
     "name": "stderr",
     "output_type": "stream",
     "text": [
      "MLP Regression Model Training:  13%|██████                                          | 252/2000 [00:20<02:39, 10.97it/s]"
     ]
    },
    {
     "name": "stdout",
     "output_type": "stream",
     "text": [
      "[251] current epoch total loss: 18.873377680778503\n"
     ]
    },
    {
     "name": "stderr",
     "output_type": "stream",
     "text": [
      "MLP Regression Model Training:  25%|████████████                                    | 503/2000 [00:43<02:21, 10.57it/s]"
     ]
    },
    {
     "name": "stdout",
     "output_type": "stream",
     "text": [
      "[501] current epoch total loss: 13.117258757352829\n"
     ]
    },
    {
     "name": "stderr",
     "output_type": "stream",
     "text": [
      "MLP Regression Model Training:  38%|██████████████████                              | 753/2000 [01:02<01:20, 15.53it/s]"
     ]
    },
    {
     "name": "stdout",
     "output_type": "stream",
     "text": [
      "[751] current epoch total loss: 11.052722960710526\n"
     ]
    },
    {
     "name": "stderr",
     "output_type": "stream",
     "text": [
      "MLP Regression Model Training:  50%|███████████████████████▌                       | 1003/2000 [01:17<00:58, 16.90it/s]"
     ]
    },
    {
     "name": "stdout",
     "output_type": "stream",
     "text": [
      "[1001] current epoch total loss: 10.243614181876183\n"
     ]
    },
    {
     "name": "stderr",
     "output_type": "stream",
     "text": [
      "MLP Regression Model Training:  63%|█████████████████████████████▍                 | 1253/2000 [01:32<00:44, 16.75it/s]"
     ]
    },
    {
     "name": "stdout",
     "output_type": "stream",
     "text": [
      "[1251] current epoch total loss: 9.589303374290466\n"
     ]
    },
    {
     "name": "stderr",
     "output_type": "stream",
     "text": [
      "MLP Regression Model Training:  75%|███████████████████████████████████▎           | 1503/2000 [01:48<00:31, 15.92it/s]"
     ]
    },
    {
     "name": "stdout",
     "output_type": "stream",
     "text": [
      "[1501] current epoch total loss: 9.383325219154358\n"
     ]
    },
    {
     "name": "stderr",
     "output_type": "stream",
     "text": [
      "MLP Regression Model Training:  88%|█████████████████████████████████████████▏     | 1753/2000 [02:03<00:15, 16.33it/s]"
     ]
    },
    {
     "name": "stdout",
     "output_type": "stream",
     "text": [
      "[1751] current epoch total loss: 9.146847993135452\n"
     ]
    },
    {
     "name": "stderr",
     "output_type": "stream",
     "text": [
      "MLP Regression Model Training: 100%|███████████████████████████████████████████████| 2000/2000 [02:18<00:00, 14.40it/s]\n"
     ]
    },
    {
     "name": "stdout",
     "output_type": "stream",
     "text": [
      "Training finished, final loss: 8.76044388115406\n",
      "feature function output shape: torch.Size([3249, 32])\n",
      "Loaded full dataset WQ with shape: torch.Size([6497, 11]),torch.Size([6497])\n",
      "Loaded split dataset WQ train shape: torch.Size([3248, 11]) test sizetorch.Size([3249, 11]) \n",
      "setup a MLP regression network structure with [11, 64, 64, 32], dropout prob: 0.2\n",
      "MLP Regressor model setup with input dim: 11\n"
     ]
    },
    {
     "name": "stderr",
     "output_type": "stream",
     "text": [
      "MLP Regression Model Training:   0%|                                                  | 2/2000 [00:00<02:11, 15.20it/s]"
     ]
    },
    {
     "name": "stdout",
     "output_type": "stream",
     "text": [
      "[1] current epoch total loss: 653.6326236724854\n"
     ]
    },
    {
     "name": "stderr",
     "output_type": "stream",
     "text": [
      "MLP Regression Model Training:  13%|██████                                          | 254/2000 [00:16<01:48, 16.15it/s]"
     ]
    },
    {
     "name": "stdout",
     "output_type": "stream",
     "text": [
      "[251] current epoch total loss: 18.341943383216858\n"
     ]
    },
    {
     "name": "stderr",
     "output_type": "stream",
     "text": [
      "MLP Regression Model Training:  25%|████████████                                    | 504/2000 [00:31<01:25, 17.40it/s]"
     ]
    },
    {
     "name": "stdout",
     "output_type": "stream",
     "text": [
      "[501] current epoch total loss: 12.95094758272171\n"
     ]
    },
    {
     "name": "stderr",
     "output_type": "stream",
     "text": [
      "MLP Regression Model Training:  38%|██████████████████                              | 754/2000 [00:45<01:11, 17.41it/s]"
     ]
    },
    {
     "name": "stdout",
     "output_type": "stream",
     "text": [
      "[751] current epoch total loss: 10.746342554688454\n"
     ]
    },
    {
     "name": "stderr",
     "output_type": "stream",
     "text": [
      "MLP Regression Model Training:  50%|███████████████████████▌                       | 1004/2000 [00:59<00:56, 17.53it/s]"
     ]
    },
    {
     "name": "stdout",
     "output_type": "stream",
     "text": [
      "[1001] current epoch total loss: 10.105431765317917\n"
     ]
    },
    {
     "name": "stderr",
     "output_type": "stream",
     "text": [
      "MLP Regression Model Training:  63%|█████████████████████████████▍                 | 1254/2000 [01:14<00:44, 16.70it/s]"
     ]
    },
    {
     "name": "stdout",
     "output_type": "stream",
     "text": [
      "[1251] current epoch total loss: 9.667160496115685\n"
     ]
    },
    {
     "name": "stderr",
     "output_type": "stream",
     "text": [
      "MLP Regression Model Training:  75%|███████████████████████████████████▎           | 1504/2000 [01:30<00:30, 16.42it/s]"
     ]
    },
    {
     "name": "stdout",
     "output_type": "stream",
     "text": [
      "[1501] current epoch total loss: 9.420662119984627\n"
     ]
    },
    {
     "name": "stderr",
     "output_type": "stream",
     "text": [
      "MLP Regression Model Training:  88%|█████████████████████████████████████████▏     | 1754/2000 [01:45<00:14, 16.44it/s]"
     ]
    },
    {
     "name": "stdout",
     "output_type": "stream",
     "text": [
      "[1751] current epoch total loss: 9.135275945067406\n"
     ]
    },
    {
     "name": "stderr",
     "output_type": "stream",
     "text": [
      "MLP Regression Model Training: 100%|███████████████████████████████████████████████| 2000/2000 [02:01<00:00, 16.46it/s]\n"
     ]
    },
    {
     "name": "stdout",
     "output_type": "stream",
     "text": [
      "Training finished, final loss: 8.973951548337936\n",
      "feature function output shape: torch.Size([3249, 32])\n",
      "Loaded full dataset WQ with shape: torch.Size([6497, 11]),torch.Size([6497])\n",
      "Loaded split dataset WQ train shape: torch.Size([3248, 11]) test sizetorch.Size([3249, 11]) \n",
      "setup a MLP regression network structure with [11, 64, 64, 32], dropout prob: 0.2\n",
      "MLP Regressor model setup with input dim: 11\n"
     ]
    },
    {
     "name": "stderr",
     "output_type": "stream",
     "text": [
      "MLP Regression Model Training:   0%|                                                  | 2/2000 [00:00<02:06, 15.76it/s]"
     ]
    },
    {
     "name": "stdout",
     "output_type": "stream",
     "text": [
      "[1] current epoch total loss: 772.8304500579834\n"
     ]
    },
    {
     "name": "stderr",
     "output_type": "stream",
     "text": [
      "MLP Regression Model Training:  13%|██████                                          | 254/2000 [00:15<01:40, 17.33it/s]"
     ]
    },
    {
     "name": "stdout",
     "output_type": "stream",
     "text": [
      "[251] current epoch total loss: 18.17755162715912\n"
     ]
    },
    {
     "name": "stderr",
     "output_type": "stream",
     "text": [
      "MLP Regression Model Training:  25%|████████████                                    | 504/2000 [00:31<01:35, 15.68it/s]"
     ]
    },
    {
     "name": "stdout",
     "output_type": "stream",
     "text": [
      "[501] current epoch total loss: 12.46584415435791\n"
     ]
    },
    {
     "name": "stderr",
     "output_type": "stream",
     "text": [
      "MLP Regression Model Training:  38%|██████████████████                              | 754/2000 [00:47<01:25, 14.52it/s]"
     ]
    },
    {
     "name": "stdout",
     "output_type": "stream",
     "text": [
      "[751] current epoch total loss: 10.351564303040504\n"
     ]
    },
    {
     "name": "stderr",
     "output_type": "stream",
     "text": [
      "MLP Regression Model Training:  50%|███████████████████████▌                       | 1004/2000 [01:03<00:59, 16.87it/s]"
     ]
    },
    {
     "name": "stdout",
     "output_type": "stream",
     "text": [
      "[1001] current epoch total loss: 10.226331263780594\n"
     ]
    },
    {
     "name": "stderr",
     "output_type": "stream",
     "text": [
      "MLP Regression Model Training:  63%|█████████████████████████████▍                 | 1254/2000 [01:18<00:46, 16.02it/s]"
     ]
    },
    {
     "name": "stdout",
     "output_type": "stream",
     "text": [
      "[1251] current epoch total loss: 9.439438149333\n"
     ]
    },
    {
     "name": "stderr",
     "output_type": "stream",
     "text": [
      "MLP Regression Model Training:  75%|███████████████████████████████████▎           | 1504/2000 [01:34<00:28, 17.21it/s]"
     ]
    },
    {
     "name": "stdout",
     "output_type": "stream",
     "text": [
      "[1501] current epoch total loss: 9.177210330963135\n"
     ]
    },
    {
     "name": "stderr",
     "output_type": "stream",
     "text": [
      "MLP Regression Model Training:  88%|█████████████████████████████████████████▏     | 1754/2000 [01:48<00:14, 17.19it/s]"
     ]
    },
    {
     "name": "stdout",
     "output_type": "stream",
     "text": [
      "[1751] current epoch total loss: 8.81985342502594\n"
     ]
    },
    {
     "name": "stderr",
     "output_type": "stream",
     "text": [
      "MLP Regression Model Training: 100%|███████████████████████████████████████████████| 2000/2000 [02:03<00:00, 16.15it/s]\n"
     ]
    },
    {
     "name": "stdout",
     "output_type": "stream",
     "text": [
      "Training finished, final loss: 8.577197909355164\n",
      "feature function output shape: torch.Size([3249, 32])\n",
      "Loaded full dataset WQ with shape: torch.Size([6497, 11]),torch.Size([6497])\n",
      "Loaded split dataset WQ train shape: torch.Size([3248, 11]) test sizetorch.Size([3249, 11]) \n",
      "setup a MLP regression network structure with [11, 64, 64, 32], dropout prob: 0.2\n",
      "MLP Regressor model setup with input dim: 11\n"
     ]
    },
    {
     "name": "stderr",
     "output_type": "stream",
     "text": [
      "MLP Regression Model Training:   0%|                                                  | 2/2000 [00:00<02:13, 14.98it/s]"
     ]
    },
    {
     "name": "stdout",
     "output_type": "stream",
     "text": [
      "[1] current epoch total loss: 832.2632846832275\n"
     ]
    },
    {
     "name": "stderr",
     "output_type": "stream",
     "text": [
      "MLP Regression Model Training:  13%|██████                                          | 254/2000 [00:14<01:45, 16.60it/s]"
     ]
    },
    {
     "name": "stdout",
     "output_type": "stream",
     "text": [
      "[251] current epoch total loss: 18.40080028772354\n"
     ]
    },
    {
     "name": "stderr",
     "output_type": "stream",
     "text": [
      "MLP Regression Model Training:  25%|████████████                                    | 504/2000 [00:29<01:26, 17.22it/s]"
     ]
    },
    {
     "name": "stdout",
     "output_type": "stream",
     "text": [
      "[501] current epoch total loss: 13.270178943872452\n"
     ]
    },
    {
     "name": "stderr",
     "output_type": "stream",
     "text": [
      "MLP Regression Model Training:  38%|██████████████████                              | 754/2000 [00:44<01:14, 16.82it/s]"
     ]
    },
    {
     "name": "stdout",
     "output_type": "stream",
     "text": [
      "[751] current epoch total loss: 10.839454859495163\n"
     ]
    },
    {
     "name": "stderr",
     "output_type": "stream",
     "text": [
      "MLP Regression Model Training:  50%|███████████████████████▌                       | 1004/2000 [00:59<00:58, 17.05it/s]"
     ]
    },
    {
     "name": "stdout",
     "output_type": "stream",
     "text": [
      "[1001] current epoch total loss: 9.77786436676979\n"
     ]
    },
    {
     "name": "stderr",
     "output_type": "stream",
     "text": [
      "MLP Regression Model Training:  63%|█████████████████████████████▍                 | 1254/2000 [01:14<00:43, 16.96it/s]"
     ]
    },
    {
     "name": "stdout",
     "output_type": "stream",
     "text": [
      "[1251] current epoch total loss: 9.031277477741241\n"
     ]
    },
    {
     "name": "stderr",
     "output_type": "stream",
     "text": [
      "MLP Regression Model Training:  75%|███████████████████████████████████▎           | 1504/2000 [01:28<00:29, 17.00it/s]"
     ]
    },
    {
     "name": "stdout",
     "output_type": "stream",
     "text": [
      "[1501] current epoch total loss: 9.363279163837433\n"
     ]
    },
    {
     "name": "stderr",
     "output_type": "stream",
     "text": [
      "MLP Regression Model Training:  88%|█████████████████████████████████████████▏     | 1754/2000 [01:43<00:14, 17.16it/s]"
     ]
    },
    {
     "name": "stdout",
     "output_type": "stream",
     "text": [
      "[1751] current epoch total loss: 8.460780560970306\n"
     ]
    },
    {
     "name": "stderr",
     "output_type": "stream",
     "text": [
      "MLP Regression Model Training: 100%|███████████████████████████████████████████████| 2000/2000 [01:58<00:00, 16.91it/s]\n"
     ]
    },
    {
     "name": "stdout",
     "output_type": "stream",
     "text": [
      "Training finished, final loss: 8.858595877885818\n",
      "feature function output shape: torch.Size([3249, 32])\n",
      "Loaded full dataset WQ with shape: torch.Size([6497, 11]),torch.Size([6497])\n",
      "Loaded split dataset WQ train shape: torch.Size([3248, 11]) test sizetorch.Size([3249, 11]) \n",
      "setup a MLP regression network structure with [11, 64, 64, 32], dropout prob: 0.2\n",
      "MLP Regressor model setup with input dim: 11\n"
     ]
    },
    {
     "name": "stderr",
     "output_type": "stream",
     "text": [
      "MLP Regression Model Training:   0%|                                                  | 2/2000 [00:00<02:12, 15.03it/s]"
     ]
    },
    {
     "name": "stdout",
     "output_type": "stream",
     "text": [
      "[1] current epoch total loss: 1000.4081726074219\n"
     ]
    },
    {
     "name": "stderr",
     "output_type": "stream",
     "text": [
      "MLP Regression Model Training:  13%|██████                                          | 254/2000 [00:14<01:42, 16.99it/s]"
     ]
    },
    {
     "name": "stdout",
     "output_type": "stream",
     "text": [
      "[251] current epoch total loss: 19.682633936405182\n"
     ]
    },
    {
     "name": "stderr",
     "output_type": "stream",
     "text": [
      "MLP Regression Model Training:  25%|████████████                                    | 502/2000 [00:33<01:58, 12.66it/s]"
     ]
    },
    {
     "name": "stdout",
     "output_type": "stream",
     "text": [
      "[501] current epoch total loss: 13.157104074954987\n"
     ]
    },
    {
     "name": "stderr",
     "output_type": "stream",
     "text": [
      "MLP Regression Model Training:  38%|██████████████████                              | 752/2000 [00:52<01:33, 13.33it/s]"
     ]
    },
    {
     "name": "stdout",
     "output_type": "stream",
     "text": [
      "[751] current epoch total loss: 10.876876801252365\n"
     ]
    },
    {
     "name": "stderr",
     "output_type": "stream",
     "text": [
      "MLP Regression Model Training:  50%|███████████████████████▌                       | 1002/2000 [01:12<01:22, 12.16it/s]"
     ]
    },
    {
     "name": "stdout",
     "output_type": "stream",
     "text": [
      "[1001] current epoch total loss: 10.294030547142029\n"
     ]
    },
    {
     "name": "stderr",
     "output_type": "stream",
     "text": [
      "MLP Regression Model Training:  63%|█████████████████████████████▍                 | 1252/2000 [01:33<00:58, 12.80it/s]"
     ]
    },
    {
     "name": "stdout",
     "output_type": "stream",
     "text": [
      "[1251] current epoch total loss: 9.411503285169601\n"
     ]
    },
    {
     "name": "stderr",
     "output_type": "stream",
     "text": [
      "MLP Regression Model Training:  75%|███████████████████████████████████▎           | 1504/2000 [01:49<00:28, 17.31it/s]"
     ]
    },
    {
     "name": "stdout",
     "output_type": "stream",
     "text": [
      "[1501] current epoch total loss: 9.380480080842972\n"
     ]
    },
    {
     "name": "stderr",
     "output_type": "stream",
     "text": [
      "MLP Regression Model Training:  88%|█████████████████████████████████████████▏     | 1754/2000 [02:04<00:14, 17.03it/s]"
     ]
    },
    {
     "name": "stdout",
     "output_type": "stream",
     "text": [
      "[1751] current epoch total loss: 9.031355410814285\n"
     ]
    },
    {
     "name": "stderr",
     "output_type": "stream",
     "text": [
      "MLP Regression Model Training: 100%|███████████████████████████████████████████████| 2000/2000 [02:19<00:00, 14.39it/s]\n"
     ]
    },
    {
     "name": "stdout",
     "output_type": "stream",
     "text": [
      "Training finished, final loss: 8.940748691558838\n",
      "feature function output shape: torch.Size([3249, 32])\n",
      "Loaded full dataset WQ with shape: torch.Size([6497, 11]),torch.Size([6497])\n",
      "Loaded split dataset WQ train shape: torch.Size([3248, 11]) test sizetorch.Size([3249, 11]) \n",
      "setup a MLP regression network structure with [11, 64, 64, 32], dropout prob: 0.2\n",
      "MLP Regressor model setup with input dim: 11\n"
     ]
    },
    {
     "name": "stderr",
     "output_type": "stream",
     "text": [
      "MLP Regression Model Training:   0%|                                                  | 2/2000 [00:00<02:11, 15.24it/s]"
     ]
    },
    {
     "name": "stdout",
     "output_type": "stream",
     "text": [
      "[1] current epoch total loss: 872.1374702453613\n"
     ]
    },
    {
     "name": "stderr",
     "output_type": "stream",
     "text": [
      "MLP Regression Model Training:  13%|██████                                          | 254/2000 [00:14<01:42, 17.02it/s]"
     ]
    },
    {
     "name": "stdout",
     "output_type": "stream",
     "text": [
      "[251] current epoch total loss: 18.762703597545624\n"
     ]
    },
    {
     "name": "stderr",
     "output_type": "stream",
     "text": [
      "MLP Regression Model Training:  25%|████████████                                    | 504/2000 [00:29<01:29, 16.73it/s]"
     ]
    },
    {
     "name": "stdout",
     "output_type": "stream",
     "text": [
      "[501] current epoch total loss: 12.368659287691116\n"
     ]
    },
    {
     "name": "stderr",
     "output_type": "stream",
     "text": [
      "MLP Regression Model Training:  38%|██████████████████                              | 754/2000 [00:44<01:12, 17.19it/s]"
     ]
    },
    {
     "name": "stdout",
     "output_type": "stream",
     "text": [
      "[751] current epoch total loss: 10.719052940607071\n"
     ]
    },
    {
     "name": "stderr",
     "output_type": "stream",
     "text": [
      "MLP Regression Model Training:  50%|███████████████████████▌                       | 1004/2000 [00:59<00:58, 17.01it/s]"
     ]
    },
    {
     "name": "stdout",
     "output_type": "stream",
     "text": [
      "[1001] current epoch total loss: 9.714466124773026\n"
     ]
    },
    {
     "name": "stderr",
     "output_type": "stream",
     "text": [
      "MLP Regression Model Training:  63%|█████████████████████████████▍                 | 1254/2000 [01:13<00:44, 16.73it/s]"
     ]
    },
    {
     "name": "stdout",
     "output_type": "stream",
     "text": [
      "[1251] current epoch total loss: 9.239319384098053\n"
     ]
    },
    {
     "name": "stderr",
     "output_type": "stream",
     "text": [
      "MLP Regression Model Training:  75%|███████████████████████████████████▎           | 1504/2000 [01:28<00:28, 17.23it/s]"
     ]
    },
    {
     "name": "stdout",
     "output_type": "stream",
     "text": [
      "[1501] current epoch total loss: 8.947269827127457\n"
     ]
    },
    {
     "name": "stderr",
     "output_type": "stream",
     "text": [
      "MLP Regression Model Training:  88%|█████████████████████████████████████████▏     | 1754/2000 [01:43<00:14, 16.96it/s]"
     ]
    },
    {
     "name": "stdout",
     "output_type": "stream",
     "text": [
      "[1751] current epoch total loss: 8.896966889500618\n"
     ]
    },
    {
     "name": "stderr",
     "output_type": "stream",
     "text": [
      "MLP Regression Model Training: 100%|███████████████████████████████████████████████| 2000/2000 [01:57<00:00, 16.96it/s]\n"
     ]
    },
    {
     "name": "stdout",
     "output_type": "stream",
     "text": [
      "Training finished, final loss: 8.673034563660622\n",
      "feature function output shape: torch.Size([3249, 32])\n",
      "Loaded full dataset WQ with shape: torch.Size([6497, 11]),torch.Size([6497])\n",
      "Loaded split dataset WQ train shape: torch.Size([3248, 11]) test sizetorch.Size([3249, 11]) \n",
      "setup a MLP regression network structure with [11, 64, 64, 32], dropout prob: 0.2\n",
      "MLP Regressor model setup with input dim: 11\n"
     ]
    },
    {
     "name": "stderr",
     "output_type": "stream",
     "text": [
      "MLP Regression Model Training:   0%|                                                  | 2/2000 [00:00<02:12, 15.03it/s]"
     ]
    },
    {
     "name": "stdout",
     "output_type": "stream",
     "text": [
      "[1] current epoch total loss: 753.7951793670654\n"
     ]
    },
    {
     "name": "stderr",
     "output_type": "stream",
     "text": [
      "MLP Regression Model Training:  13%|██████                                          | 254/2000 [00:15<01:41, 17.15it/s]"
     ]
    },
    {
     "name": "stdout",
     "output_type": "stream",
     "text": [
      "[251] current epoch total loss: 18.752651810646057\n"
     ]
    },
    {
     "name": "stderr",
     "output_type": "stream",
     "text": [
      "MLP Regression Model Training:  25%|████████████                                    | 504/2000 [00:29<01:28, 16.88it/s]"
     ]
    },
    {
     "name": "stdout",
     "output_type": "stream",
     "text": [
      "[501] current epoch total loss: 13.477568238973618\n"
     ]
    },
    {
     "name": "stderr",
     "output_type": "stream",
     "text": [
      "MLP Regression Model Training:  38%|██████████████████                              | 754/2000 [00:44<01:14, 16.81it/s]"
     ]
    },
    {
     "name": "stdout",
     "output_type": "stream",
     "text": [
      "[751] current epoch total loss: 10.777132004499435\n"
     ]
    },
    {
     "name": "stderr",
     "output_type": "stream",
     "text": [
      "MLP Regression Model Training:  50%|███████████████████████▌                       | 1004/2000 [00:59<00:59, 16.85it/s]"
     ]
    },
    {
     "name": "stdout",
     "output_type": "stream",
     "text": [
      "[1001] current epoch total loss: 9.896109491586685\n"
     ]
    },
    {
     "name": "stderr",
     "output_type": "stream",
     "text": [
      "MLP Regression Model Training:  63%|█████████████████████████████▍                 | 1254/2000 [01:13<00:44, 16.71it/s]"
     ]
    },
    {
     "name": "stdout",
     "output_type": "stream",
     "text": [
      "[1251] current epoch total loss: 9.917406469583511\n"
     ]
    },
    {
     "name": "stderr",
     "output_type": "stream",
     "text": [
      "MLP Regression Model Training:  75%|███████████████████████████████████▎           | 1504/2000 [01:28<00:29, 16.54it/s]"
     ]
    },
    {
     "name": "stdout",
     "output_type": "stream",
     "text": [
      "[1501] current epoch total loss: 9.40935879945755\n"
     ]
    },
    {
     "name": "stderr",
     "output_type": "stream",
     "text": [
      "MLP Regression Model Training:  88%|█████████████████████████████████████████▏     | 1754/2000 [01:43<00:14, 16.89it/s]"
     ]
    },
    {
     "name": "stdout",
     "output_type": "stream",
     "text": [
      "[1751] current epoch total loss: 9.179945021867752\n"
     ]
    },
    {
     "name": "stderr",
     "output_type": "stream",
     "text": [
      "MLP Regression Model Training: 100%|███████████████████████████████████████████████| 2000/2000 [01:57<00:00, 16.96it/s]\n"
     ]
    },
    {
     "name": "stdout",
     "output_type": "stream",
     "text": [
      "Training finished, final loss: 9.60087476670742\n",
      "feature function output shape: torch.Size([3249, 32])\n"
     ]
    }
   ],
   "source": [
    "dataset = \"YH\"\n",
    "repeat = 10\n",
    "args.dataset = dataset\n",
    "results = []\n",
    "\n",
    "# Create an empty DataFrame to store results\n",
    "columns = ['epoch', 'repeat', 'coverage', 'bandwidth']\n",
    "results_df = pd.DataFrame(columns=columns)\n",
    "\n",
    "for epoch in [1, 50,500, 1000,2000]:\n",
    "    args.epochs = epoch\n",
    "    for _ in range(repeat):\n",
    "        \n",
    "        My_trainer = CSVsLoader(args)\n",
    "        My_methods = ConformalPredictionMethods()\n",
    "        \n",
    "        # Load and preprocess data\n",
    "        My_trainer.load_full_data()\n",
    "        My_trainer.load_split_data()\n",
    "        My_trainer.make_MLP_Regressor()\n",
    "        My_trainer.train_MLP_Regressor()\n",
    "        \n",
    "        # Logging the loss\n",
    "#         if _ == 0:\n",
    "#             plt.plot(My_trainer.train_loss_logger, label=\"train loss\")\n",
    "#             plt.plot(My_trainer.test_loss_logger, label=\"test loss\")\n",
    "#             plt.legend()\n",
    "#             plt.title(f\"pictures/{dataset}_loss.png\")\n",
    "#             plt.savefig(f\"pictures/{dataset}_loss.png\")\n",
    "#             plt.show()\n",
    "\n",
    "        # Evaluation and coverage calculation\n",
    "        My_trainer.model.eval()\n",
    "        u_features = My_trainer.model.feature_func_forward(My_trainer.X00)\n",
    "        y_predictions = My_trainer.model.predictor_head_forward(u_features)\n",
    "        abs_errors = torch.abs(y_predictions.squeeze(-1) - My_trainer.y00)\n",
    "        grad_norm = torch.norm(torch.autograd.grad(y_predictions[0], u_features, allow_unused=True, retain_graph=True)[0][0], p=2)\n",
    "        scores = abs_errors / grad_norm\n",
    "        cpmethods = ConformalPredictionMethods()\n",
    "        Q_corrected = cpmethods.weighted_quantile(scores, 0.9, torch.ones_like(scores)) * grad_norm\n",
    "        bandwidth = 2 * Q_corrected\n",
    "        end_to_end_predictions = My_trainer.model(My_trainer.X00)\n",
    "        fcp_intervals = torch.concatenate([end_to_end_predictions - Q_corrected, end_to_end_predictions + Q_corrected], dim=-1)\n",
    "        \n",
    "        cnt = 0\n",
    "        for i in range(My_trainer.X00.shape[0]):\n",
    "            if My_trainer.y00.unsqueeze(1)[i] >= fcp_intervals[i, 0] and My_trainer.y00.unsqueeze(1)[i] <= fcp_intervals[i, 1]:\n",
    "                cnt += 1\n",
    "        coverage = cnt / My_trainer.X00.shape[0]\n",
    "        \n",
    "        # Append the results to the DataFrame using pd.concat\n",
    "        new_row = pd.DataFrame({\n",
    "            'epoch': [epoch],\n",
    "            'repeat': [_ + 1],\n",
    "            'coverage': [coverage],\n",
    "            'bandwidth': [bandwidth.cpu().detach().numpy().item()]\n",
    "        })\n",
    "        results_df = pd.concat([results_df, new_row], ignore_index=True)\n",
    "\n",
    "# Save the results to a CSV file\n",
    "results_df.to_csv(f\"ablation_results_{dataset}.csv\", index=False)"
   ]
  },
  {
   "cell_type": "code",
   "execution_count": 81,
   "metadata": {},
   "outputs": [
    {
     "data": {
      "text/html": [
       "<div>\n",
       "<style scoped>\n",
       "    .dataframe tbody tr th:only-of-type {\n",
       "        vertical-align: middle;\n",
       "    }\n",
       "\n",
       "    .dataframe tbody tr th {\n",
       "        vertical-align: top;\n",
       "    }\n",
       "\n",
       "    .dataframe thead th {\n",
       "        text-align: right;\n",
       "    }\n",
       "</style>\n",
       "<table border=\"1\" class=\"dataframe\">\n",
       "  <thead>\n",
       "    <tr style=\"text-align: right;\">\n",
       "      <th></th>\n",
       "      <th>epoch</th>\n",
       "      <th>avg_coverage</th>\n",
       "      <th>std_coverage</th>\n",
       "      <th>avg_bandwidth</th>\n",
       "      <th>std_bandwidth</th>\n",
       "    </tr>\n",
       "  </thead>\n",
       "  <tbody>\n",
       "    <tr>\n",
       "      <th>0</th>\n",
       "      <td>1</td>\n",
       "      <td>0.900277</td>\n",
       "      <td>0.000145</td>\n",
       "      <td>13.274988</td>\n",
       "      <td>0.374962</td>\n",
       "    </tr>\n",
       "    <tr>\n",
       "      <th>1</th>\n",
       "      <td>50</td>\n",
       "      <td>0.900277</td>\n",
       "      <td>0.000000</td>\n",
       "      <td>2.546838</td>\n",
       "      <td>0.061033</td>\n",
       "    </tr>\n",
       "    <tr>\n",
       "      <th>2</th>\n",
       "      <td>500</td>\n",
       "      <td>0.900277</td>\n",
       "      <td>0.000000</td>\n",
       "      <td>2.275749</td>\n",
       "      <td>0.042319</td>\n",
       "    </tr>\n",
       "    <tr>\n",
       "      <th>3</th>\n",
       "      <td>1000</td>\n",
       "      <td>0.900277</td>\n",
       "      <td>0.000000</td>\n",
       "      <td>2.256743</td>\n",
       "      <td>0.044073</td>\n",
       "    </tr>\n",
       "    <tr>\n",
       "      <th>4</th>\n",
       "      <td>2000</td>\n",
       "      <td>0.900369</td>\n",
       "      <td>0.000149</td>\n",
       "      <td>2.260403</td>\n",
       "      <td>0.051194</td>\n",
       "    </tr>\n",
       "  </tbody>\n",
       "</table>\n",
       "</div>"
      ],
      "text/plain": [
       "   epoch  avg_coverage  std_coverage  avg_bandwidth  std_bandwidth\n",
       "0      1      0.900277      0.000145      13.274988       0.374962\n",
       "1     50      0.900277      0.000000       2.546838       0.061033\n",
       "2    500      0.900277      0.000000       2.275749       0.042319\n",
       "3   1000      0.900277      0.000000       2.256743       0.044073\n",
       "4   2000      0.900369      0.000149       2.260403       0.051194"
      ]
     },
     "execution_count": 81,
     "metadata": {},
     "output_type": "execute_result"
    }
   ],
   "source": [
    "result = results_df.groupby('epoch').agg(\n",
    "    avg_coverage=('coverage', 'mean'),\n",
    "    std_coverage=('coverage', 'std'),\n",
    "    avg_bandwidth=('bandwidth', 'mean'),\n",
    "    std_bandwidth=('bandwidth', 'std')\n",
    ").reset_index()\n",
    "result"
   ]
  },
  {
   "cell_type": "code",
   "execution_count": 82,
   "metadata": {},
   "outputs": [
    {
     "name": "stderr",
     "output_type": "stream",
     "text": [
      "C:\\Users\\wangr\\AppData\\Local\\Temp\\ipykernel_13808\\599367774.py:7: FutureWarning: \n",
      "\n",
      "Passing `palette` without assigning `hue` is deprecated and will be removed in v0.14.0. Assign the `x` variable to `hue` and set `legend=False` for the same effect.\n",
      "\n",
      "  sns.boxplot(x='epoch', y='bandwidth', data=results_df,palette='muted')\n"
     ]
    },
    {
     "data": {
      "image/png": "[encoded data removed]",
      "text/plain": [
       "<Figure size 800x494.4 with 1 Axes>"
      ]
     },
     "metadata": {},
     "output_type": "display_data"
    }
   ],
   "source": [
    "import pandas as pd\n",
    "import seaborn as sns\n",
    "import matplotlib.pyplot as plt\n",
    "sns.set(style='whitegrid', palette=\"muted\")\n",
    "# Plot the boxplot\n",
    "plt.figure(figsize=(8, 8*0.618))\n",
    "sns.boxplot(x='epoch', y='bandwidth', data=results_df,palette='muted')\n",
    "plt.title(f'Bandwidths for Different Training Epoch {dataset}')\n",
    "plt.xlabel('Epoch')\n",
    "plt.ylabel('Bandwidth')\n",
    "plt.savefig(f'pictures/ablation-{dataset}_width.png')\n",
    "plt.show()"
   ]
  },
  {
   "cell_type": "code",
   "execution_count": null,
   "metadata": {},
   "outputs": [],
   "source": []
  },
  {
   "cell_type": "code",
   "execution_count": null,
   "metadata": {},
   "outputs": [],
   "source": []
  },
  {
   "cell_type": "code",
   "execution_count": null,
   "metadata": {},
   "outputs": [],
   "source": []
  },
  {
   "cell_type": "code",
   "execution_count": null,
   "metadata": {},
   "outputs": [],
   "source": []
  }
 ],
 "metadata": {
  "kernelspec": {
   "display_name": "torch_2.0.1_test_one",
   "language": "python",
   "name": "torch_one"
  },
  "language_info": {
   "codemirror_mode": {
    "name": "ipython",
    "version": 3
   },
   "file_extension": ".py",
   "mimetype": "text/x-python",
   "name": "python",
   "nbconvert_exporter": "python",
   "pygments_lexer": "ipython3",
   "version": "3.9.19"
  }
 },
 "nbformat": 4,
 "nbformat_minor": 2
}
