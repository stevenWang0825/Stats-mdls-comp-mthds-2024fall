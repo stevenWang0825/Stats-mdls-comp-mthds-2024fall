{
 "cells": [
  {
   "cell_type": "code",
   "execution_count": 1,
   "metadata": {},
   "outputs": [],
   "source": [
    "import torch,sys,os\n",
    "from torch import nn\n",
    "from tqdm import tqdm\n",
    "import random\n",
    "import numpy as np\n",
    "from argparse import ArgumentParser\n",
    "random.seed(42)\n",
    "np.random.seed(42)\n",
    "torch.manual_seed(42)\n",
    "if \"__file__\" in globals():\n",
    "    main_folder_path = os.path.abspath(os.path.join(os.path.dirname(__file__), \"..\"))\n",
    "else:\n",
    "    main_folder_path = os.path.abspath(os.path.join(os.getcwd(), \"..\"))\n",
    "sys.path.append(main_folder_path)\n"
   ]
  },
  {
   "cell_type": "code",
   "execution_count": 2,
   "metadata": {},
   "outputs": [],
   "source": [
    "from baseclasses.baseclass import BaseTrainer\n",
    "from architectures.mlpRegressor import MLP_Regressor\n",
    "from dataloaders.dataloaders import WineQualityLoader\n",
    "from trainers.trainer_mlpRegressor import MLPRegressorTrainer\n",
    "from algorithms.feature_CP import ConformalPredictionMethods "
   ]
  },
  {
   "cell_type": "code",
   "execution_count": 3,
   "metadata": {},
   "outputs": [
    {
     "name": "stdout",
     "output_type": "stream",
     "text": [
      "using device:cuda:0\n"
     ]
    }
   ],
   "source": [
    "parser = ArgumentParser()\n",
    "parser.add_argument('--device', type=str, default='cuda:0', help='device to run the model on')\n",
    "args, unknown = parser.parse_known_args()\n",
    "print(f\"using device:{args.device}\")"
   ]
  },
  {
   "cell_type": "code",
   "execution_count": 4,
   "metadata": {},
   "outputs": [
    {
     "name": "stdout",
     "output_type": "stream",
     "text": [
      "Loaded full wine quality dataset with shape: torch.Size([6497, 11]),torch.Size([6497, 1])\n",
      "Loaded split wine quality dataset with train shape: torch.Size([3248, 11]) \n",
      " test sizetorch.Size([1624, 11]),calibration size torch.Size([1624, 11]) \n"
     ]
    }
   ],
   "source": [
    "dataloader_instance = WineQualityLoader(args)\n",
    "dataloader_instance.load_full_data()\n",
    "dataloader_instance.load_split_data(0.5)\n",
    "X_train,y_train,x_test,y_test = dataloader_instance.get_data()\n",
    "X_calib,y_calib = dataloader_instance.get_calibration_set()"
   ]
  },
  {
   "cell_type": "code",
   "execution_count": 5,
   "metadata": {},
   "outputs": [
    {
     "name": "stdout",
     "output_type": "stream",
     "text": [
      "setup a MLP regression network structure with [11, 64, 64, 32], dropout prob: 0.2\n"
     ]
    },
    {
     "name": "stderr",
     "output_type": "stream",
     "text": [
      "MLP Regression Model Training:   0%|          | 3/1000 [00:00<01:32, 10.76it/s]"
     ]
    },
    {
     "name": "stdout",
     "output_type": "stream",
     "text": [
      "[1] current epoch total loss: 893.0481109619141\n"
     ]
    },
    {
     "name": "stderr",
     "output_type": "stream",
     "text": [
      "MLP Regression Model Training:   5%|▌         | 53/1000 [00:03<00:51, 18.33it/s]"
     ]
    },
    {
     "name": "stdout",
     "output_type": "stream",
     "text": [
      "[51] current epoch total loss: 28.51795470714569\n"
     ]
    },
    {
     "name": "stderr",
     "output_type": "stream",
     "text": [
      "MLP Regression Model Training:  10%|█         | 103/1000 [00:06<00:49, 18.30it/s]"
     ]
    },
    {
     "name": "stdout",
     "output_type": "stream",
     "text": [
      "[101] current epoch total loss: 23.504009544849396\n"
     ]
    },
    {
     "name": "stderr",
     "output_type": "stream",
     "text": [
      "MLP Regression Model Training:  15%|█▌        | 153/1000 [00:08<00:51, 16.61it/s]"
     ]
    },
    {
     "name": "stdout",
     "output_type": "stream",
     "text": [
      "[151] current epoch total loss: 22.545521676540375\n"
     ]
    },
    {
     "name": "stderr",
     "output_type": "stream",
     "text": [
      "MLP Regression Model Training:  20%|██        | 203/1000 [00:11<00:46, 17.01it/s]"
     ]
    },
    {
     "name": "stdout",
     "output_type": "stream",
     "text": [
      "[201] current epoch total loss: 19.721232891082764\n"
     ]
    },
    {
     "name": "stderr",
     "output_type": "stream",
     "text": [
      "MLP Regression Model Training:  25%|██▌       | 253/1000 [00:15<00:43, 17.14it/s]"
     ]
    },
    {
     "name": "stdout",
     "output_type": "stream",
     "text": [
      "[251] current epoch total loss: 19.075471699237823\n"
     ]
    },
    {
     "name": "stderr",
     "output_type": "stream",
     "text": [
      "MLP Regression Model Training:  30%|███       | 303/1000 [00:18<00:41, 16.77it/s]"
     ]
    },
    {
     "name": "stdout",
     "output_type": "stream",
     "text": [
      "[301] current epoch total loss: 17.032732367515564\n"
     ]
    },
    {
     "name": "stderr",
     "output_type": "stream",
     "text": [
      "MLP Regression Model Training:  35%|███▌      | 353/1000 [00:21<00:37, 17.27it/s]"
     ]
    },
    {
     "name": "stdout",
     "output_type": "stream",
     "text": [
      "[351] current epoch total loss: 16.316152691841125\n"
     ]
    },
    {
     "name": "stderr",
     "output_type": "stream",
     "text": [
      "MLP Regression Model Training:  40%|████      | 403/1000 [00:24<00:32, 18.51it/s]"
     ]
    },
    {
     "name": "stdout",
     "output_type": "stream",
     "text": [
      "[401] current epoch total loss: 14.548707276582718\n"
     ]
    },
    {
     "name": "stderr",
     "output_type": "stream",
     "text": [
      "MLP Regression Model Training:  45%|████▌     | 453/1000 [00:26<00:29, 18.58it/s]"
     ]
    },
    {
     "name": "stdout",
     "output_type": "stream",
     "text": [
      "[451] current epoch total loss: 13.977482318878174\n"
     ]
    },
    {
     "name": "stderr",
     "output_type": "stream",
     "text": [
      "MLP Regression Model Training:  50%|█████     | 503/1000 [00:29<00:30, 16.15it/s]"
     ]
    },
    {
     "name": "stdout",
     "output_type": "stream",
     "text": [
      "[501] current epoch total loss: 13.441630363464355\n"
     ]
    },
    {
     "name": "stderr",
     "output_type": "stream",
     "text": [
      "MLP Regression Model Training:  55%|█████▌    | 553/1000 [00:32<00:26, 16.80it/s]"
     ]
    },
    {
     "name": "stdout",
     "output_type": "stream",
     "text": [
      "[551] current epoch total loss: 13.023340821266174\n"
     ]
    },
    {
     "name": "stderr",
     "output_type": "stream",
     "text": [
      "MLP Regression Model Training:  60%|██████    | 603/1000 [00:36<00:24, 16.51it/s]"
     ]
    },
    {
     "name": "stdout",
     "output_type": "stream",
     "text": [
      "[601] current epoch total loss: 12.15843179821968\n"
     ]
    },
    {
     "name": "stderr",
     "output_type": "stream",
     "text": [
      "MLP Regression Model Training:  65%|██████▌   | 653/1000 [00:39<00:20, 17.15it/s]"
     ]
    },
    {
     "name": "stdout",
     "output_type": "stream",
     "text": [
      "[651] current epoch total loss: 11.663990050554276\n"
     ]
    },
    {
     "name": "stderr",
     "output_type": "stream",
     "text": [
      "MLP Regression Model Training:  70%|███████   | 703/1000 [00:42<00:19, 15.17it/s]"
     ]
    },
    {
     "name": "stdout",
     "output_type": "stream",
     "text": [
      "[701] current epoch total loss: 11.641926497220993\n"
     ]
    },
    {
     "name": "stderr",
     "output_type": "stream",
     "text": [
      "MLP Regression Model Training:  75%|███████▌  | 753/1000 [00:45<00:14, 16.58it/s]"
     ]
    },
    {
     "name": "stdout",
     "output_type": "stream",
     "text": [
      "[751] current epoch total loss: 11.04228487610817\n"
     ]
    },
    {
     "name": "stderr",
     "output_type": "stream",
     "text": [
      "MLP Regression Model Training:  80%|████████  | 803/1000 [00:48<00:11, 17.51it/s]"
     ]
    },
    {
     "name": "stdout",
     "output_type": "stream",
     "text": [
      "[801] current epoch total loss: 10.832828044891357\n"
     ]
    },
    {
     "name": "stderr",
     "output_type": "stream",
     "text": [
      "MLP Regression Model Training:  85%|████████▌ | 853/1000 [00:51<00:08, 18.08it/s]"
     ]
    },
    {
     "name": "stdout",
     "output_type": "stream",
     "text": [
      "[851] current epoch total loss: 10.633264660835266\n"
     ]
    },
    {
     "name": "stderr",
     "output_type": "stream",
     "text": [
      "MLP Regression Model Training:  90%|█████████ | 903/1000 [00:54<00:05, 17.94it/s]"
     ]
    },
    {
     "name": "stdout",
     "output_type": "stream",
     "text": [
      "[901] current epoch total loss: 10.696635663509369\n"
     ]
    },
    {
     "name": "stderr",
     "output_type": "stream",
     "text": [
      "MLP Regression Model Training:  95%|█████████▌| 953/1000 [00:57<00:02, 17.76it/s]"
     ]
    },
    {
     "name": "stdout",
     "output_type": "stream",
     "text": [
      "[951] current epoch total loss: 10.235099613666534\n"
     ]
    },
    {
     "name": "stderr",
     "output_type": "stream",
     "text": [
      "MLP Regression Model Training: 100%|██████████| 1000/1000 [00:59<00:00, 16.75it/s]\n"
     ]
    }
   ],
   "source": [
    "trainer_instance = MLPRegressorTrainer(args)\n",
    "trainer_instance.train_setup(train_data=torch.cat((X_train,y_train),dim=1), valid_data=None)\n",
    "trainer_instance.train()"
   ]
  },
  {
   "cell_type": "code",
   "execution_count": 6,
   "metadata": {},
   "outputs": [
    {
     "name": "stdout",
     "output_type": "stream",
     "text": [
      "Setup calibration set, data shape: torch.Size([1624, 12])\n"
     ]
    }
   ],
   "source": [
    "trainer_instance.calibration_setup(calib_data=torch.cat((X_calib,y_calib),dim=1))"
   ]
  },
  {
   "cell_type": "code",
   "execution_count": 19,
   "metadata": {},
   "outputs": [
    {
     "name": "stdout",
     "output_type": "stream",
     "text": [
      "feature function output shape: torch.Size([1624, 32])\n"
     ]
    },
    {
     "data": {
      "text/plain": [
       "tensor(2.3048, device='cuda:0', grad_fn=<MulBackward0>)"
      ]
     },
     "execution_count": 19,
     "metadata": {},
     "output_type": "execute_result"
    }
   ],
   "source": [
    "trainer_instance.model.eval()\n",
    "u_feat = trainer_instance.model.feature_func_forward(trainer_instance.calib_data[:,:-1])\n",
    "y_pred = trainer_instance.model.predictor_head_forward(u_feat)\n",
    "abs = torch.abs(y_pred.squeeze(-1) - trainer_instance.calib_data[:,-1])\n",
    "grad_norm = torch.norm(torch.autograd.grad(y_pred[0],u_feat,allow_unused=True,retain_graph=True)[0][0],p=2)\n",
    "scores = abs/grad_norm\n",
    "cpmethods = ConformalPredictionMethods()\n",
    "Q_corrected = cpmethods.weighted_quantile(scores,0.9,torch.ones_like(scores)) * grad_norm\n",
    "bandwidth = 2 * Q_corrected\n",
    "bandwidth\n"
   ]
  },
  {
   "cell_type": "code",
   "execution_count": 9,
   "metadata": {},
   "outputs": [
    {
     "data": {
      "image/png": "[encoded data removed]",
      "text/plain": [
       "<Figure size 640x480 with 1 Axes>"
      ]
     },
     "metadata": {},
     "output_type": "display_data"
    }
   ],
   "source": [
    "import matplotlib.pyplot as plt\n",
    "plt.plot(scores.cpu().detach().numpy())\n",
    "plt.show()"
   ]
  },
  {
   "cell_type": "code",
   "execution_count": null,
   "metadata": {},
   "outputs": [],
   "source": []
  }
 ],
 "metadata": {
  "kernelspec": {
   "display_name": "torch_2.0.1_test_one",
   "language": "python",
   "name": "torch_one"
  },
  "language_info": {
   "codemirror_mode": {
    "name": "ipython",
    "version": 3
   },
   "file_extension": ".py",
   "mimetype": "text/x-python",
   "name": "python",
   "nbconvert_exporter": "python",
   "pygments_lexer": "ipython3",
   "version": "3.9.19"
  }
 },
 "nbformat": 4,
 "nbformat_minor": 2
}
