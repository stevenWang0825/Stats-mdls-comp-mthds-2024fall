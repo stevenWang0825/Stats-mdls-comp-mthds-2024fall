{
 "cells": [
  {
   "cell_type": "code",
   "execution_count": 1,
   "metadata": {},
   "outputs": [],
   "source": [
    "import torch,sys,os\n",
    "from torch import nn\n",
    "from tqdm import tqdm\n",
    "import random\n",
    "import numpy as np\n",
    "from argparse import ArgumentParser\n",
    "random.seed(42)\n",
    "np.random.seed(42)\n",
    "torch.manual_seed(42)\n",
    "if \"__file__\" in globals():\n",
    "    main_folder_path = os.path.abspath(os.path.join(os.path.dirname(__file__), \"..\"))\n",
    "else:\n",
    "    main_folder_path = os.path.abspath(os.path.join(os.getcwd(), \"..\"))\n",
    "\n",
    "sys.path.append(main_folder_path)\n",
    "\n",
    "from baseclasses.baseclass import BaseTrainer\n",
    "from architectures.mlpRegressor import MLP_Regressor\n",
    "from dataloaders.dataloaders import WineQualityLoader\n",
    "from trainers.trainer_mlpRegressor import MLPRegressorTrainer "
   ]
  },
  {
   "cell_type": "code",
   "execution_count": 3,
   "metadata": {},
   "outputs": [
    {
     "name": "stdout",
     "output_type": "stream",
     "text": [
      "using device:cuda:0\n"
     ]
    }
   ],
   "source": [
    "parser = ArgumentParser()\n",
    "parser.add_argument('--device', type=str, default='cuda:0', help='device to run the model on')\n",
    "args, unknown = parser.parse_known_args()\n",
    "print(f\"using device:{args.device}\")\n"
   ]
  },
  {
   "cell_type": "code",
   "execution_count": 4,
   "metadata": {},
   "outputs": [
    {
     "name": "stdout",
     "output_type": "stream",
     "text": [
      "Loaded full wine quality dataset with shape: torch.Size([6497, 11]),torch.Size([6497, 1])\n",
      "Loaded split wine quality dataset with train shape: torch.Size([3248, 11]) \n",
      " test sizetorch.Size([1624, 11]),calibration size torch.Size([1624, 11]) \n"
     ]
    }
   ],
   "source": [
    "dataloader_instance = WineQualityLoader(args)\n",
    "dataloader_instance.load_full_data()\n",
    "dataloader_instance.load_split_data(0.5)\n",
    "X_train,y_train,x_test,y_test = dataloader_instance.get_data()\n",
    "X_calib,y_calib = dataloader_instance.get_calibration_set()"
   ]
  },
  {
   "cell_type": "code",
   "execution_count": null,
   "metadata": {},
   "outputs": [],
   "source": [
    "trainer_instance = MLPRegressorTrainer(args)\n",
    "trainer_instance.train_setup(train_data=torch.cat((X_train,y_train),dim=1), valid_data=None)\n",
    "trainer_instance.train()\n",
    "trainer_instance.calibration_setup(calib_data=torch.cat((X_train,y_train),dim=1))"
   ]
  },
  {
   "cell_type": "code",
   "execution_count": null,
   "metadata": {},
   "outputs": [],
   "source": []
  }
 ],
 "metadata": {
  "kernelspec": {
   "display_name": "torch_2.0.1_test_one",
   "language": "python",
   "name": "torch_one"
  },
  "language_info": {
   "codemirror_mode": {
    "name": "ipython",
    "version": 3
   },
   "file_extension": ".py",
   "mimetype": "text/x-python",
   "name": "python",
   "nbconvert_exporter": "python",
   "pygments_lexer": "ipython3",
   "version": "3.9.19"
  }
 },
 "nbformat": 4,
 "nbformat_minor": 2
}
