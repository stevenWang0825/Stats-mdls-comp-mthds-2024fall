{
 "cells": [
  {
   "cell_type": "code",
   "execution_count": 17,
   "metadata": {},
   "outputs": [],
   "source": [
    "import torch,sys,os\n",
    "from torch import nn\n",
    "from tqdm import tqdm\n",
    "import random\n",
    "import numpy as np\n",
    "import pandas as pd\n",
    "import matplotlib.pyplot as plt\n",
    "from argparse import ArgumentParser\n",
    "random.seed(42)\n",
    "np.random.seed(42)\n",
    "torch.manual_seed(42)\n",
    "if \"__file__\" in globals():\n",
    "    main_folder_path = os.path.abspath(os.path.join(os.path.dirname(__file__), \"..\"))\n",
    "else:\n",
    "    main_folder_path = os.path.abspath(os.path.join(os.getcwd(), \"..\"))\n",
    "sys.path.append(main_folder_path)\n",
    "from baseclasses.baseclass import BaseTrainer\n",
    "from architectures.mlpRegressor import MLP_Regressor\n",
    "from dataloaders.dataloaders import WineQualityLoader\n",
    "from trainers.trainer_mlpRegressor import MLPRegressorTrainer\n",
    "from algorithms.feature_CP import ConformalPredictionMethods\n",
    "from algorithms.conformal import Conformal "
   ]
  },
  {
   "cell_type": "code",
   "execution_count": 62,
   "metadata": {},
   "outputs": [],
   "source": [
    "red_wine= pd.read_csv('datasets/winequality-red.csv', sep=';')\n",
    "white_wine = pd.read_csv('datasets/winequality-white.csv', sep=';')\n",
    "red_wine['type'] = 'red'\n",
    "white_wine['type'] = 'white'\n",
    "wines = pd.concat([red_wine, white_wine], ignore_index=True)\n",
    "X = wines.iloc[:, :-2].to_numpy()\n",
    "y= wines.iloc[:, -2].to_numpy()\n",
    "N = X.shape[0] # number of observations\n",
    "T = 10\n",
    "cov = np.zeros(T)\n",
    "length = np.zeros(T)\n",
    "# X.shape,y.shape,X[0],N,y\n",
    "# BIAS= np.random.randn(X.shape[1],X.shape[1])\n",
    "# BIAS_LEFT = np.random.randn(X.shape[0],X.shape[0])\n",
    "# X_norm = X @ BIAS\n",
    "# X_norm = BIAS_LEFT @ X_norm\n",
    "# X = X_norm\n",
    "# X_norm.shape,X_norm[0],X[0]"
   ]
  },
  {
   "cell_type": "code",
   "execution_count": 64,
   "metadata": {},
   "outputs": [
    {
     "name": "stderr",
     "output_type": "stream",
     "text": [
      "100%|██████████| 10/10 [00:09<00:00,  1.03it/s]\n"
     ]
    },
    {
     "data": {
      "text/plain": [
       "(0.8994152046783626,\n",
       " 2.4189084451550755,\n",
       " 0.008816687744488941,\n",
       " 0.01743191384063448)"
      ]
     },
     "execution_count": 64,
     "metadata": {},
     "output_type": "execute_result"
    }
   ],
   "source": [
    "for i in tqdm(range(T)):\n",
    "    if (i + 1) % 20 == 0:\n",
    "            print(i + 1, \"..\", sep=\"\")\n",
    "    idx = np.random.choice(range(0, N), size=int(N * 0.5), replace=False)\n",
    "    noidx = np.setdiff1d(range(0, N), idx)\n",
    "\n",
    "    X0 = X[idx, :] # training set\n",
    "    y0 = y[idx]\n",
    "    X00 = X[noidx, :] # calibration set \n",
    "    y00 = y[noidx]\n",
    "    n00 = X00.shape[0] # size of calibration set\n",
    "    Split_CP_CCS = Conformal(X0=X0, y0=y0, X00=X00, y00=y00, rho=0.5, alpha=0.1, weight=None, train_model=\"lasso\")\n",
    "    cov[i] = np.mean(Split_CP_CCS.split_weight_conformal()[0])\n",
    "    length[i] = np.median(Split_CP_CCS.split_weight_conformal()[1])\n",
    "np.mean(cov),np.mean(length),np.std(cov),np.std(length)"
   ]
  },
  {
   "cell_type": "code",
   "execution_count": 67,
   "metadata": {},
   "outputs": [
    {
     "data": {
      "text/plain": [
       "((3249, 11), (3248, 11), torch.Size([3248, 1]), (3249,))"
      ]
     },
     "execution_count": 67,
     "metadata": {},
     "output_type": "execute_result"
    }
   ],
   "source": [
    "X00.shape,X0.shape,torch.tensor(y0).unsqueeze(-1).shape,y00.shape"
   ]
  },
  {
   "cell_type": "code",
   "execution_count": null,
   "metadata": {},
   "outputs": [],
   "source": []
  },
  {
   "cell_type": "code",
   "execution_count": null,
   "metadata": {},
   "outputs": [],
   "source": []
  }
 ],
 "metadata": {
  "kernelspec": {
   "display_name": "torch_2.0.1_test_one",
   "language": "python",
   "name": "torch_one"
  },
  "language_info": {
   "codemirror_mode": {
    "name": "ipython",
    "version": 3
   },
   "file_extension": ".py",
   "mimetype": "text/x-python",
   "name": "python",
   "nbconvert_exporter": "python",
   "pygments_lexer": "ipython3",
   "version": "3.9.19"
  }
 },
 "nbformat": 4,
 "nbformat_minor": 2
}
